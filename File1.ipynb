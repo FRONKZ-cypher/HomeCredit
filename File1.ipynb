{
 "cells": [
  {
   "cell_type": "markdown",
   "metadata": {},
   "source": [
    "# Packages Import"
   ]
  },
  {
   "cell_type": "code",
   "execution_count": 6,
   "metadata": {
    "_cell_guid": "b1076dfc-b9ad-4769-8c92-a6c4dae69d19",
    "_uuid": "8f2839f25d086af736a60e9eeb907d3b93b6e0e5",
    "execution": {
     "iopub.execute_input": "2025-05-20T10:32:07.067074Z",
     "iopub.status.busy": "2025-05-20T10:32:07.066762Z",
     "iopub.status.idle": "2025-05-20T10:32:07.077381Z",
     "shell.execute_reply": "2025-05-20T10:32:07.076534Z",
     "shell.execute_reply.started": "2025-05-20T10:32:07.067054Z"
    },
    "trusted": true
   },
   "outputs": [
    {
     "name": "stdout",
     "output_type": "stream",
     "text": [
      "/kaggle/input/continue-file/mycsv.csv\n",
      "/kaggle/input/home-credit-default-risk/sample_submission.csv\n",
      "/kaggle/input/home-credit-default-risk/bureau_balance.csv\n",
      "/kaggle/input/home-credit-default-risk/POS_CASH_balance.csv\n",
      "/kaggle/input/home-credit-default-risk/application_train.csv\n",
      "/kaggle/input/home-credit-default-risk/HomeCredit_columns_description.csv\n",
      "/kaggle/input/home-credit-default-risk/application_test.csv\n",
      "/kaggle/input/home-credit-default-risk/previous_application.csv\n",
      "/kaggle/input/home-credit-default-risk/credit_card_balance.csv\n",
      "/kaggle/input/home-credit-default-risk/installments_payments.csv\n",
      "/kaggle/input/home-credit-default-risk/bureau.csv\n"
     ]
    }
   ],
   "source": [
    "# This Python 3 environment comes with many helpful analytics libraries installed\n",
    "# It is defined by the kaggle/python Docker image: https://github.com/kaggle/docker-python\n",
    "# For example, here's several helpful packages to load\n",
    "\n",
    "import numpy as np # linear algebra\n",
    "import pandas as pd # data processing, CSV file I/O (e.g. pd.read_csv)\n",
    "\n",
    "# Input data files are available in the read-only \"../input/\" directory\n",
    "# For example, running this (by clicking run or pressing Shift+Enter) will list all files under the input directory\n",
    "\n",
    "import os\n",
    "for dirname, _, filenames in os.walk('/kaggle/input'):\n",
    "    for filename in filenames:\n",
    "        print(os.path.join(dirname, filename))\n",
    "\n",
    "# You can write up to 20GB to the current directory (/kaggle/working/) that gets preserved as output when you create a version using \"Save & Run All\" \n",
    "# You can also write temporary files to /kaggle/temp/, but they won't be saved outside of the current session"
   ]
  },
  {
   "cell_type": "markdown",
   "metadata": {},
   "source": [
    "# Data Loading"
   ]
  },
  {
   "cell_type": "code",
   "execution_count": 7,
   "metadata": {
    "execution": {
     "iopub.execute_input": "2025-05-20T10:32:07.079683Z",
     "iopub.status.busy": "2025-05-20T10:32:07.079138Z",
     "iopub.status.idle": "2025-05-20T10:32:07.102634Z",
     "shell.execute_reply": "2025-05-20T10:32:07.101641Z",
     "shell.execute_reply.started": "2025-05-20T10:32:07.079444Z"
    },
    "trusted": true
   },
   "outputs": [],
   "source": [
    "from pyspark.sql import SparkSession\n",
    "\n",
    "spark = SparkSession.builder \\\n",
    "    .appName(\"Take Home Assignment\") \\\n",
    "    .getOrCreate()"
   ]
  },
  {
   "cell_type": "code",
   "execution_count": 8,
   "metadata": {
    "execution": {
     "iopub.execute_input": "2025-05-20T10:32:07.104377Z",
     "iopub.status.busy": "2025-05-20T10:32:07.104054Z",
     "iopub.status.idle": "2025-05-20T10:33:32.600209Z",
     "shell.execute_reply": "2025-05-20T10:33:32.599095Z",
     "shell.execute_reply.started": "2025-05-20T10:32:07.104344Z"
    },
    "trusted": true
   },
   "outputs": [
    {
     "name": "stderr",
     "output_type": "stream",
     "text": [
      "                                                                                                    \r"
     ]
    }
   ],
   "source": [
    "data_base = \"/kaggle/input/home-credit-default-risk\"\n",
    "\n",
    "# Load all relevant files\n",
    "data_files = {\n",
    "    \"application_train\": \"application_train.csv\",\n",
    "    \"application_test\": \"application_test.csv\",\n",
    "    \"bureau\": \"bureau.csv\",\n",
    "    \"bureau_balance\": \"bureau_balance.csv\",\n",
    "    \"previous_application\": \"previous_application.csv\",\n",
    "    \"credit_card_balance\": \"credit_card_balance.csv\",\n",
    "    \"POS_CASH_balance\": \"POS_CASH_balance.csv\",\n",
    "    \"installments_payments\": \"installments_payments.csv\",\n",
    "    \"sample_submission\": \"sample_submission.csv\",\n",
    "    \"columns_description\": \"HomeCredit_columns_description.csv\"\n",
    "}\n",
    "\n",
    "dfs = {name: spark.read.csv(f\"{data_base}/{fname}\", header=True, inferSchema=True) for name, fname in data_files.items()}"
   ]
  },
  {
   "cell_type": "code",
   "execution_count": 9,
   "metadata": {
    "execution": {
     "iopub.execute_input": "2025-05-20T10:33:32.603162Z",
     "iopub.status.busy": "2025-05-20T10:33:32.602760Z",
     "iopub.status.idle": "2025-05-20T10:33:32.621159Z",
     "shell.execute_reply": "2025-05-20T10:33:32.620132Z",
     "shell.execute_reply.started": "2025-05-20T10:33:32.603131Z"
    },
    "trusted": true
   },
   "outputs": [],
   "source": [
    "from pyspark.sql.functions import col, count, isnan, when, countDistinct\n",
    "\n",
    "# Check for missing or NaN values\n",
    "def check_missing(df):\n",
    "    total = df.count()\n",
    "    missing_exprs = [\n",
    "        (count(when(col(c).isNull() | isnan(c), c)) / total).alias(f\"{c}_pct\")\n",
    "        for c in df.columns\n",
    "    ]\n",
    "    count_exprs = [\n",
    "        count(when(col(c).isNull() | isnan(c), c)).alias(f\"{c}_cnt\")\n",
    "        for c in df.columns\n",
    "    ]\n",
    "    count_df = df.select(count_exprs)\n",
    "    pct_df = df.select(missing_exprs)\n",
    "    return count_df, pct_df, total\n",
    "\n",
    "# Check for duplicates based on subset (usually ID)\n",
    "def check_duplicates(df, subset=None):\n",
    "    return df.groupBy(subset).count().filter(\"count > 1\").count() if subset else df.count() - df.dropDuplicates().count()\n",
    "\n",
    "# Count distinct values in a column\n",
    "def check_cardinality(df, col_name):\n",
    "    return df.select(countDistinct(col_name)).collect()[0][0]\n",
    "\n",
    "# Print summary of a single DataFrame\n",
    "def show_summary(df, name):\n",
    "    print(f\"\\n=== {name} ===\")\n",
    "    print(\"Data types:\")\n",
    "    df.printSchema()\n",
    "    print(f\"Total rows: {df.count()}\")\n",
    "\n",
    "def run_quality_checks(df, name, id_column=None):\n",
    "    print(f\"\\n\\n=== Validating: {name} ===\")\n",
    "\n",
    "    # Missing values\n",
    "    print(\"Missing values (count and %):\")\n",
    "    count_df, pct_df, total_rows = check_missing(df)\n",
    "    \n",
    "    # Convert both to Pandas and combine\n",
    "    count_pd = count_df.toPandas().T.reset_index()\n",
    "    count_pd.columns = [\"column\", \"missing_count\"]\n",
    "    count_pd[\"column\"] = count_pd[\"column\"].str.replace(\"_cnt\", \"\")\n",
    "\n",
    "    pct_pd = pct_df.toPandas().T.reset_index()\n",
    "    pct_pd.columns = [\"column\", \"missing_pct\"]\n",
    "    pct_pd[\"column\"] = pct_pd[\"column\"].str.replace(\"_pct\", \"\")\n",
    "    pct_pd[\"missing_pct\"] = (pct_pd[\"missing_pct\"] * 100).round(2)\n",
    "\n",
    "    # Merge and filter\n",
    "    missing_pd = count_pd.merge(pct_pd, on=\"column\")\n",
    "    missing_pd = missing_pd[missing_pd[\"missing_count\"] > 0]\n",
    "    missing_pd = missing_pd.sort_values(by=\"missing_count\", ascending=False)\n",
    "\n",
    "    print(missing_pd.to_string(index=False))\n",
    "\n",
    "    # Duplicates\n",
    "    if id_column:\n",
    "        dupes = check_duplicates(df, subset=None)\n",
    "        print(f\"Duplicate rows entries: {dupes}\")\n",
    "\n",
    "        # Cardinality\n",
    "        card = check_cardinality(df, id_column)\n",
    "        print(f\"Unique `{id_column}` values: {card}\")\n",
    "\n",
    "    # Schema and total rows\n",
    "    show_summary(df, name)\n"
   ]
  },
  {
   "cell_type": "markdown",
   "metadata": {},
   "source": [
    "\n",
    "# Data Quality Check"
   ]
  },
  {
   "cell_type": "code",
   "execution_count": 10,
   "metadata": {
    "execution": {
     "iopub.execute_input": "2025-05-20T10:33:32.622846Z",
     "iopub.status.busy": "2025-05-20T10:33:32.622417Z",
     "iopub.status.idle": "2025-05-20T10:33:32.647281Z",
     "shell.execute_reply": "2025-05-20T10:33:32.646294Z",
     "shell.execute_reply.started": "2025-05-20T10:33:32.622805Z"
    },
    "trusted": true
   },
   "outputs": [],
   "source": [
    "from pyspark.sql import SparkSession\n",
    "from pyspark.sql import functions as F\n",
    "from pyspark.sql.window import Window"
   ]
  },
  {
   "cell_type": "code",
   "execution_count": 11,
   "metadata": {
    "execution": {
     "iopub.execute_input": "2025-05-20T10:33:32.648713Z",
     "iopub.status.busy": "2025-05-20T10:33:32.648366Z",
     "iopub.status.idle": "2025-05-20T10:33:32.669645Z",
     "shell.execute_reply": "2025-05-20T10:33:32.668290Z",
     "shell.execute_reply.started": "2025-05-20T10:33:32.648682Z"
    },
    "trusted": true
   },
   "outputs": [],
   "source": [
    "from pyspark.sql import SparkSession, DataFrame, functions as F\n",
    "\n",
    "def detect_low_cardinality_columns(df: DataFrame, threshold=20):\n",
    "    \"\"\"\n",
    "    Fast low-cardinality detection using approx_count_distinct.\n",
    "    \"\"\"\n",
    "    result = []\n",
    "    for c, t in df.dtypes:\n",
    "        uniq = df.agg(F.approx_count_distinct(c).alias('cnt')).collect()[0]['cnt']\n",
    "        if uniq <= threshold:\n",
    "            result.append((c, uniq, t))\n",
    "    return result\n",
    "\n",
    "def count_duplicated_row_occurrences(df: DataFrame) -> int:\n",
    "    \"\"\"\n",
    "    Returns total number of duplicated row *occurrences* (sum of repeats),\n",
    "    using xxhash64 for speed on wide/long tables.\n",
    "    \"\"\"\n",
    "    df_h = df.withColumn(\"__row_hash__\", F.xxhash64(*df.columns))\n",
    "    dup_info = (\n",
    "        df_h\n",
    "        .groupBy(\"__row_hash__\")\n",
    "        .count()\n",
    "        .filter(F.col(\"count\") > 1)\n",
    "        .agg(F.sum(F.col(\"count\") - 1).alias(\"dup_occ\"))\n",
    "        .collect()[0][\"dup_occ\"]\n",
    "    )\n",
    "    return int(dup_info or 0)\n",
    "\n",
    "def basic_profile(df: DataFrame, name: str, cardinality_threshold=20):\n",
    "    print(f\"\\n=== {name} Basic Profile ===\")\n",
    "    df.printSchema()\n",
    "\n",
    "    # total rows\n",
    "    total_rows = df.count()\n",
    "    print(f\"Total rows: {total_rows}\")\n",
    "\n",
    "    # missing counts & percentages\n",
    "    miss_exprs = [\n",
    "        F.count(F.when(F.col(c).isNull() | F.isnan(c), c)).alias(c)\n",
    "        for c in df.columns\n",
    "    ]\n",
    "    miss_counts = df.select(miss_exprs).first().asDict()\n",
    "    print(\"Missing values (%):\")\n",
    "    for col, cnt in sorted(miss_counts.items(), key=lambda x: x[1], reverse=True):\n",
    "        if cnt > 0:\n",
    "            print(f\" - {col}: {cnt} ({cnt/total_rows*100:.2f}%)\")\n",
    "\n",
    "    # duplicate SK_ID_CURR if present\n",
    "    if 'SK_ID_CURR' in df.columns:\n",
    "        dup_id = total_rows - df.dropDuplicates(['SK_ID_CURR']).count()\n",
    "        print(f\"Duplicate SK_ID_CURR: {dup_id}\")\n",
    "\n",
    "    # full-row duplicates\n",
    "    dup_rows = count_duplicated_row_occurrences(df)\n",
    "    print(f\"Duplicate rows (entire rows): {dup_rows}\")\n",
    "\n",
    "    # low-cardinality columns\n",
    "    print(\"Low-cardinality columns (≤ threshold):\")\n",
    "    low_card = detect_low_cardinality_columns(df, threshold=cardinality_threshold)\n",
    "    for c, uniq, t in low_card:\n",
    "        print(f\" - {c} ({t}): {uniq} unique\")\n",
    "\n",
    "    return [c for c, _, _ in low_card]\n",
    "\n",
    "def target_dist(df: DataFrame):\n",
    "    print(f\"\\n--- TARGET distribution ---\")\n",
    "    df.groupBy('TARGET').count().orderBy('TARGET').show()\n",
    "\n",
    "def num_stats_by_target(df: DataFrame, cols):\n",
    "    print(f\"\\n--- Numeric stats by TARGET ---\")\n",
    "    stats = df.groupBy('TARGET').agg(\n",
    "        *[F.mean(c).alias(f\"mean_{c}\") for c in cols],\n",
    "        *[F.expr(f\"percentile_approx({c}, 0.5)\").alias(f\"median_{c}\") for c in cols]\n",
    "    )\n",
    "    stats.show()\n",
    "\n",
    "def corr_matrix(df: DataFrame, cols, frac=0.01):\n",
    "    import pandas as pd\n",
    "    # Spark’s sample API is sample(withReplacement: bool, fraction: float, seed: int = None)\n",
    "    sampled = df.select(cols).sample(False, frac)\n",
    "    pd_df = sampled.toPandas()\n",
    "    print(\"\\nCorrelation matrix:\")\n",
    "    print(pd_df.corr())\n"
   ]
  },
  {
   "cell_type": "code",
   "execution_count": 12,
   "metadata": {
    "execution": {
     "iopub.execute_input": "2025-05-20T10:33:32.671509Z",
     "iopub.status.busy": "2025-05-20T10:33:32.670838Z",
     "iopub.status.idle": "2025-05-20T10:36:30.656595Z",
     "shell.execute_reply": "2025-05-20T10:36:30.655729Z",
     "shell.execute_reply.started": "2025-05-20T10:33:32.671454Z"
    },
    "trusted": true
   },
   "outputs": [
    {
     "name": "stdout",
     "output_type": "stream",
     "text": [
      "\n",
      "=== application_train Basic Profile ===\n",
      "root\n",
      " |-- SK_ID_CURR: integer (nullable = true)\n",
      " |-- TARGET: integer (nullable = true)\n",
      " |-- NAME_CONTRACT_TYPE: string (nullable = true)\n",
      " |-- CODE_GENDER: string (nullable = true)\n",
      " |-- FLAG_OWN_CAR: string (nullable = true)\n",
      " |-- FLAG_OWN_REALTY: string (nullable = true)\n",
      " |-- CNT_CHILDREN: integer (nullable = true)\n",
      " |-- AMT_INCOME_TOTAL: double (nullable = true)\n",
      " |-- AMT_CREDIT: double (nullable = true)\n",
      " |-- AMT_ANNUITY: double (nullable = true)\n",
      " |-- AMT_GOODS_PRICE: double (nullable = true)\n",
      " |-- NAME_TYPE_SUITE: string (nullable = true)\n",
      " |-- NAME_INCOME_TYPE: string (nullable = true)\n",
      " |-- NAME_EDUCATION_TYPE: string (nullable = true)\n",
      " |-- NAME_FAMILY_STATUS: string (nullable = true)\n",
      " |-- NAME_HOUSING_TYPE: string (nullable = true)\n",
      " |-- REGION_POPULATION_RELATIVE: double (nullable = true)\n",
      " |-- DAYS_BIRTH: integer (nullable = true)\n",
      " |-- DAYS_EMPLOYED: integer (nullable = true)\n",
      " |-- DAYS_REGISTRATION: double (nullable = true)\n",
      " |-- DAYS_ID_PUBLISH: integer (nullable = true)\n",
      " |-- OWN_CAR_AGE: double (nullable = true)\n",
      " |-- FLAG_MOBIL: integer (nullable = true)\n",
      " |-- FLAG_EMP_PHONE: integer (nullable = true)\n",
      " |-- FLAG_WORK_PHONE: integer (nullable = true)\n",
      " |-- FLAG_CONT_MOBILE: integer (nullable = true)\n",
      " |-- FLAG_PHONE: integer (nullable = true)\n",
      " |-- FLAG_EMAIL: integer (nullable = true)\n",
      " |-- OCCUPATION_TYPE: string (nullable = true)\n",
      " |-- CNT_FAM_MEMBERS: double (nullable = true)\n",
      " |-- REGION_RATING_CLIENT: integer (nullable = true)\n",
      " |-- REGION_RATING_CLIENT_W_CITY: integer (nullable = true)\n",
      " |-- WEEKDAY_APPR_PROCESS_START: string (nullable = true)\n",
      " |-- HOUR_APPR_PROCESS_START: integer (nullable = true)\n",
      " |-- REG_REGION_NOT_LIVE_REGION: integer (nullable = true)\n",
      " |-- REG_REGION_NOT_WORK_REGION: integer (nullable = true)\n",
      " |-- LIVE_REGION_NOT_WORK_REGION: integer (nullable = true)\n",
      " |-- REG_CITY_NOT_LIVE_CITY: integer (nullable = true)\n",
      " |-- REG_CITY_NOT_WORK_CITY: integer (nullable = true)\n",
      " |-- LIVE_CITY_NOT_WORK_CITY: integer (nullable = true)\n",
      " |-- ORGANIZATION_TYPE: string (nullable = true)\n",
      " |-- EXT_SOURCE_1: double (nullable = true)\n",
      " |-- EXT_SOURCE_2: double (nullable = true)\n",
      " |-- EXT_SOURCE_3: double (nullable = true)\n",
      " |-- APARTMENTS_AVG: double (nullable = true)\n",
      " |-- BASEMENTAREA_AVG: double (nullable = true)\n",
      " |-- YEARS_BEGINEXPLUATATION_AVG: double (nullable = true)\n",
      " |-- YEARS_BUILD_AVG: double (nullable = true)\n",
      " |-- COMMONAREA_AVG: double (nullable = true)\n",
      " |-- ELEVATORS_AVG: double (nullable = true)\n",
      " |-- ENTRANCES_AVG: double (nullable = true)\n",
      " |-- FLOORSMAX_AVG: double (nullable = true)\n",
      " |-- FLOORSMIN_AVG: double (nullable = true)\n",
      " |-- LANDAREA_AVG: double (nullable = true)\n",
      " |-- LIVINGAPARTMENTS_AVG: double (nullable = true)\n",
      " |-- LIVINGAREA_AVG: double (nullable = true)\n",
      " |-- NONLIVINGAPARTMENTS_AVG: double (nullable = true)\n",
      " |-- NONLIVINGAREA_AVG: double (nullable = true)\n",
      " |-- APARTMENTS_MODE: double (nullable = true)\n",
      " |-- BASEMENTAREA_MODE: double (nullable = true)\n",
      " |-- YEARS_BEGINEXPLUATATION_MODE: double (nullable = true)\n",
      " |-- YEARS_BUILD_MODE: double (nullable = true)\n",
      " |-- COMMONAREA_MODE: double (nullable = true)\n",
      " |-- ELEVATORS_MODE: double (nullable = true)\n",
      " |-- ENTRANCES_MODE: double (nullable = true)\n",
      " |-- FLOORSMAX_MODE: double (nullable = true)\n",
      " |-- FLOORSMIN_MODE: double (nullable = true)\n",
      " |-- LANDAREA_MODE: double (nullable = true)\n",
      " |-- LIVINGAPARTMENTS_MODE: double (nullable = true)\n",
      " |-- LIVINGAREA_MODE: double (nullable = true)\n",
      " |-- NONLIVINGAPARTMENTS_MODE: double (nullable = true)\n",
      " |-- NONLIVINGAREA_MODE: double (nullable = true)\n",
      " |-- APARTMENTS_MEDI: double (nullable = true)\n",
      " |-- BASEMENTAREA_MEDI: double (nullable = true)\n",
      " |-- YEARS_BEGINEXPLUATATION_MEDI: double (nullable = true)\n",
      " |-- YEARS_BUILD_MEDI: double (nullable = true)\n",
      " |-- COMMONAREA_MEDI: double (nullable = true)\n",
      " |-- ELEVATORS_MEDI: double (nullable = true)\n",
      " |-- ENTRANCES_MEDI: double (nullable = true)\n",
      " |-- FLOORSMAX_MEDI: double (nullable = true)\n",
      " |-- FLOORSMIN_MEDI: double (nullable = true)\n",
      " |-- LANDAREA_MEDI: double (nullable = true)\n",
      " |-- LIVINGAPARTMENTS_MEDI: double (nullable = true)\n",
      " |-- LIVINGAREA_MEDI: double (nullable = true)\n",
      " |-- NONLIVINGAPARTMENTS_MEDI: double (nullable = true)\n",
      " |-- NONLIVINGAREA_MEDI: double (nullable = true)\n",
      " |-- FONDKAPREMONT_MODE: string (nullable = true)\n",
      " |-- HOUSETYPE_MODE: string (nullable = true)\n",
      " |-- TOTALAREA_MODE: double (nullable = true)\n",
      " |-- WALLSMATERIAL_MODE: string (nullable = true)\n",
      " |-- EMERGENCYSTATE_MODE: string (nullable = true)\n",
      " |-- OBS_30_CNT_SOCIAL_CIRCLE: double (nullable = true)\n",
      " |-- DEF_30_CNT_SOCIAL_CIRCLE: double (nullable = true)\n",
      " |-- OBS_60_CNT_SOCIAL_CIRCLE: double (nullable = true)\n",
      " |-- DEF_60_CNT_SOCIAL_CIRCLE: double (nullable = true)\n",
      " |-- DAYS_LAST_PHONE_CHANGE: double (nullable = true)\n",
      " |-- FLAG_DOCUMENT_2: integer (nullable = true)\n",
      " |-- FLAG_DOCUMENT_3: integer (nullable = true)\n",
      " |-- FLAG_DOCUMENT_4: integer (nullable = true)\n",
      " |-- FLAG_DOCUMENT_5: integer (nullable = true)\n",
      " |-- FLAG_DOCUMENT_6: integer (nullable = true)\n",
      " |-- FLAG_DOCUMENT_7: integer (nullable = true)\n",
      " |-- FLAG_DOCUMENT_8: integer (nullable = true)\n",
      " |-- FLAG_DOCUMENT_9: integer (nullable = true)\n",
      " |-- FLAG_DOCUMENT_10: integer (nullable = true)\n",
      " |-- FLAG_DOCUMENT_11: integer (nullable = true)\n",
      " |-- FLAG_DOCUMENT_12: integer (nullable = true)\n",
      " |-- FLAG_DOCUMENT_13: integer (nullable = true)\n",
      " |-- FLAG_DOCUMENT_14: integer (nullable = true)\n",
      " |-- FLAG_DOCUMENT_15: integer (nullable = true)\n",
      " |-- FLAG_DOCUMENT_16: integer (nullable = true)\n",
      " |-- FLAG_DOCUMENT_17: integer (nullable = true)\n",
      " |-- FLAG_DOCUMENT_18: integer (nullable = true)\n",
      " |-- FLAG_DOCUMENT_19: integer (nullable = true)\n",
      " |-- FLAG_DOCUMENT_20: integer (nullable = true)\n",
      " |-- FLAG_DOCUMENT_21: integer (nullable = true)\n",
      " |-- AMT_REQ_CREDIT_BUREAU_HOUR: double (nullable = true)\n",
      " |-- AMT_REQ_CREDIT_BUREAU_DAY: double (nullable = true)\n",
      " |-- AMT_REQ_CREDIT_BUREAU_WEEK: double (nullable = true)\n",
      " |-- AMT_REQ_CREDIT_BUREAU_MON: double (nullable = true)\n",
      " |-- AMT_REQ_CREDIT_BUREAU_QRT: double (nullable = true)\n",
      " |-- AMT_REQ_CREDIT_BUREAU_YEAR: double (nullable = true)\n",
      "\n",
      "Total rows: 307511\n"
     ]
    },
    {
     "name": "stderr",
     "output_type": "stream",
     "text": [
      "25/05/20 10:33:35 WARN SparkStringUtils: Truncated the string representation of a plan since it was too large. This behavior can be adjusted by setting 'spark.sql.debug.maxToStringFields'.\n",
      "                                                                                                    \r"
     ]
    },
    {
     "name": "stdout",
     "output_type": "stream",
     "text": [
      "Missing values (%):\n",
      " - COMMONAREA_AVG: 214865 (69.87%)\n",
      " - COMMONAREA_MODE: 214865 (69.87%)\n",
      " - COMMONAREA_MEDI: 214865 (69.87%)\n",
      " - NONLIVINGAPARTMENTS_AVG: 213514 (69.43%)\n",
      " - NONLIVINGAPARTMENTS_MODE: 213514 (69.43%)\n",
      " - NONLIVINGAPARTMENTS_MEDI: 213514 (69.43%)\n",
      " - FONDKAPREMONT_MODE: 210295 (68.39%)\n",
      " - LIVINGAPARTMENTS_AVG: 210199 (68.35%)\n",
      " - LIVINGAPARTMENTS_MODE: 210199 (68.35%)\n",
      " - LIVINGAPARTMENTS_MEDI: 210199 (68.35%)\n",
      " - FLOORSMIN_AVG: 208642 (67.85%)\n",
      " - FLOORSMIN_MODE: 208642 (67.85%)\n",
      " - FLOORSMIN_MEDI: 208642 (67.85%)\n",
      " - YEARS_BUILD_AVG: 204488 (66.50%)\n",
      " - YEARS_BUILD_MODE: 204488 (66.50%)\n",
      " - YEARS_BUILD_MEDI: 204488 (66.50%)\n",
      " - OWN_CAR_AGE: 202929 (65.99%)\n",
      " - LANDAREA_AVG: 182590 (59.38%)\n",
      " - LANDAREA_MODE: 182590 (59.38%)\n",
      " - LANDAREA_MEDI: 182590 (59.38%)\n",
      " - BASEMENTAREA_AVG: 179943 (58.52%)\n",
      " - BASEMENTAREA_MODE: 179943 (58.52%)\n",
      " - BASEMENTAREA_MEDI: 179943 (58.52%)\n",
      " - EXT_SOURCE_1: 173378 (56.38%)\n",
      " - NONLIVINGAREA_AVG: 169682 (55.18%)\n",
      " - NONLIVINGAREA_MODE: 169682 (55.18%)\n",
      " - NONLIVINGAREA_MEDI: 169682 (55.18%)\n",
      " - ELEVATORS_AVG: 163891 (53.30%)\n",
      " - ELEVATORS_MODE: 163891 (53.30%)\n",
      " - ELEVATORS_MEDI: 163891 (53.30%)\n",
      " - WALLSMATERIAL_MODE: 156341 (50.84%)\n",
      " - APARTMENTS_AVG: 156061 (50.75%)\n",
      " - APARTMENTS_MODE: 156061 (50.75%)\n",
      " - APARTMENTS_MEDI: 156061 (50.75%)\n",
      " - ENTRANCES_AVG: 154828 (50.35%)\n",
      " - ENTRANCES_MODE: 154828 (50.35%)\n",
      " - ENTRANCES_MEDI: 154828 (50.35%)\n",
      " - LIVINGAREA_AVG: 154350 (50.19%)\n",
      " - LIVINGAREA_MODE: 154350 (50.19%)\n",
      " - LIVINGAREA_MEDI: 154350 (50.19%)\n",
      " - HOUSETYPE_MODE: 154297 (50.18%)\n",
      " - FLOORSMAX_AVG: 153020 (49.76%)\n",
      " - FLOORSMAX_MODE: 153020 (49.76%)\n",
      " - FLOORSMAX_MEDI: 153020 (49.76%)\n",
      " - YEARS_BEGINEXPLUATATION_AVG: 150007 (48.78%)\n",
      " - YEARS_BEGINEXPLUATATION_MODE: 150007 (48.78%)\n",
      " - YEARS_BEGINEXPLUATATION_MEDI: 150007 (48.78%)\n",
      " - TOTALAREA_MODE: 148431 (48.27%)\n",
      " - EMERGENCYSTATE_MODE: 145755 (47.40%)\n",
      " - OCCUPATION_TYPE: 96391 (31.35%)\n",
      " - EXT_SOURCE_3: 60965 (19.83%)\n",
      " - AMT_REQ_CREDIT_BUREAU_HOUR: 41519 (13.50%)\n",
      " - AMT_REQ_CREDIT_BUREAU_DAY: 41519 (13.50%)\n",
      " - AMT_REQ_CREDIT_BUREAU_WEEK: 41519 (13.50%)\n",
      " - AMT_REQ_CREDIT_BUREAU_MON: 41519 (13.50%)\n",
      " - AMT_REQ_CREDIT_BUREAU_QRT: 41519 (13.50%)\n",
      " - AMT_REQ_CREDIT_BUREAU_YEAR: 41519 (13.50%)\n",
      " - NAME_TYPE_SUITE: 1292 (0.42%)\n",
      " - OBS_30_CNT_SOCIAL_CIRCLE: 1021 (0.33%)\n",
      " - DEF_30_CNT_SOCIAL_CIRCLE: 1021 (0.33%)\n",
      " - OBS_60_CNT_SOCIAL_CIRCLE: 1021 (0.33%)\n",
      " - DEF_60_CNT_SOCIAL_CIRCLE: 1021 (0.33%)\n",
      " - EXT_SOURCE_2: 660 (0.21%)\n",
      " - AMT_GOODS_PRICE: 278 (0.09%)\n",
      " - AMT_ANNUITY: 12 (0.00%)\n",
      " - CNT_FAM_MEMBERS: 2 (0.00%)\n",
      " - DAYS_LAST_PHONE_CHANGE: 1 (0.00%)\n"
     ]
    },
    {
     "name": "stderr",
     "output_type": "stream",
     "text": [
      "                                                                                                    \r"
     ]
    },
    {
     "name": "stdout",
     "output_type": "stream",
     "text": [
      "Duplicate SK_ID_CURR: 0\n"
     ]
    },
    {
     "name": "stderr",
     "output_type": "stream",
     "text": [
      "                                                                                                    \r"
     ]
    },
    {
     "name": "stdout",
     "output_type": "stream",
     "text": [
      "Duplicate rows (entire rows): 0\n",
      "Low-cardinality columns (≤ threshold):\n"
     ]
    },
    {
     "name": "stderr",
     "output_type": "stream",
     "text": [
      "                                                                                                    \r"
     ]
    },
    {
     "name": "stdout",
     "output_type": "stream",
     "text": [
      " - TARGET (int): 2 unique\n",
      " - NAME_CONTRACT_TYPE (string): 2 unique\n",
      " - CODE_GENDER (string): 3 unique\n",
      " - FLAG_OWN_CAR (string): 2 unique\n",
      " - FLAG_OWN_REALTY (string): 2 unique\n",
      " - CNT_CHILDREN (int): 15 unique\n",
      " - NAME_TYPE_SUITE (string): 7 unique\n",
      " - NAME_INCOME_TYPE (string): 8 unique\n",
      " - NAME_EDUCATION_TYPE (string): 5 unique\n",
      " - NAME_FAMILY_STATUS (string): 5 unique\n",
      " - NAME_HOUSING_TYPE (string): 6 unique\n",
      " - FLAG_MOBIL (int): 2 unique\n",
      " - FLAG_EMP_PHONE (int): 2 unique\n",
      " - FLAG_WORK_PHONE (int): 2 unique\n",
      " - FLAG_CONT_MOBILE (int): 2 unique\n",
      " - FLAG_PHONE (int): 2 unique\n",
      " - FLAG_EMAIL (int): 2 unique\n",
      " - OCCUPATION_TYPE (string): 17 unique\n",
      " - CNT_FAM_MEMBERS (double): 17 unique\n",
      " - REGION_RATING_CLIENT (int): 3 unique\n",
      " - REGION_RATING_CLIENT_W_CITY (int): 3 unique\n",
      " - WEEKDAY_APPR_PROCESS_START (string): 7 unique\n",
      " - REG_REGION_NOT_LIVE_REGION (int): 2 unique\n",
      " - REG_REGION_NOT_WORK_REGION (int): 2 unique\n",
      " - LIVE_REGION_NOT_WORK_REGION (int): 2 unique\n",
      " - REG_CITY_NOT_LIVE_CITY (int): 2 unique\n",
      " - REG_CITY_NOT_WORK_CITY (int): 2 unique\n",
      " - LIVE_CITY_NOT_WORK_CITY (int): 2 unique\n",
      " - FONDKAPREMONT_MODE (string): 4 unique\n",
      " - HOUSETYPE_MODE (string): 3 unique\n",
      " - WALLSMATERIAL_MODE (string): 7 unique\n",
      " - EMERGENCYSTATE_MODE (string): 2 unique\n",
      " - DEF_30_CNT_SOCIAL_CIRCLE (double): 10 unique\n",
      " - DEF_60_CNT_SOCIAL_CIRCLE (double): 9 unique\n",
      " - FLAG_DOCUMENT_2 (int): 2 unique\n",
      " - FLAG_DOCUMENT_3 (int): 2 unique\n",
      " - FLAG_DOCUMENT_4 (int): 2 unique\n",
      " - FLAG_DOCUMENT_5 (int): 2 unique\n",
      " - FLAG_DOCUMENT_6 (int): 2 unique\n",
      " - FLAG_DOCUMENT_7 (int): 2 unique\n",
      " - FLAG_DOCUMENT_8 (int): 2 unique\n",
      " - FLAG_DOCUMENT_9 (int): 2 unique\n",
      " - FLAG_DOCUMENT_10 (int): 2 unique\n",
      " - FLAG_DOCUMENT_11 (int): 2 unique\n",
      " - FLAG_DOCUMENT_12 (int): 2 unique\n",
      " - FLAG_DOCUMENT_13 (int): 2 unique\n",
      " - FLAG_DOCUMENT_14 (int): 2 unique\n",
      " - FLAG_DOCUMENT_15 (int): 2 unique\n",
      " - FLAG_DOCUMENT_16 (int): 2 unique\n",
      " - FLAG_DOCUMENT_17 (int): 2 unique\n",
      " - FLAG_DOCUMENT_18 (int): 2 unique\n",
      " - FLAG_DOCUMENT_19 (int): 2 unique\n",
      " - FLAG_DOCUMENT_20 (int): 2 unique\n",
      " - FLAG_DOCUMENT_21 (int): 2 unique\n",
      " - AMT_REQ_CREDIT_BUREAU_HOUR (double): 5 unique\n",
      " - AMT_REQ_CREDIT_BUREAU_DAY (double): 9 unique\n",
      " - AMT_REQ_CREDIT_BUREAU_WEEK (double): 9 unique\n",
      " - AMT_REQ_CREDIT_BUREAU_QRT (double): 11 unique\n",
      "\n",
      "--- TARGET distribution ---\n"
     ]
    },
    {
     "name": "stderr",
     "output_type": "stream",
     "text": [
      "                                                                                                    \r"
     ]
    },
    {
     "name": "stdout",
     "output_type": "stream",
     "text": [
      "+------+------+\n",
      "|TARGET| count|\n",
      "+------+------+\n",
      "|     0|282686|\n",
      "|     1| 24825|\n",
      "+------+------+\n",
      "\n",
      "\n",
      "--- Numeric stats by TARGET ---\n"
     ]
    },
    {
     "name": "stderr",
     "output_type": "stream",
     "text": [
      "                                                                                                    \r"
     ]
    },
    {
     "name": "stdout",
     "output_type": "stream",
     "text": [
      "+------+---------------------+-----------------+-------------------+-----------------------+-----------------+-----------------+\n",
      "|TARGET|mean_AMT_INCOME_TOTAL|  mean_AMT_CREDIT|    mean_DAYS_BIRTH|median_AMT_INCOME_TOTAL|median_AMT_CREDIT|median_DAYS_BIRTH|\n",
      "+------+---------------------+-----------------+-------------------+-----------------------+-----------------+-----------------+\n",
      "|     1|   165611.76090634443| 557778.527673716| -14884.82807653575|               135000.0|         497520.0|           -14283|\n",
      "|     0|    169077.7222658179|602648.2820019386|-16138.176397133215|               148500.0|         517608.0|           -15878|\n",
      "+------+---------------------+-----------------+-------------------+-----------------------+-----------------+-----------------+\n",
      "\n"
     ]
    },
    {
     "name": "stderr",
     "output_type": "stream",
     "text": [
      "[Stage 430:>                                                                            (0 + 4) / 4]\r"
     ]
    },
    {
     "name": "stdout",
     "output_type": "stream",
     "text": [
      "\n",
      "Correlation matrix:\n",
      "                  AMT_INCOME_TOTAL  AMT_CREDIT  DAYS_BIRTH    TARGET\n",
      "AMT_INCOME_TOTAL          1.000000    0.363351    0.071103 -0.020806\n",
      "AMT_CREDIT                0.363351    1.000000   -0.023737 -0.021872\n",
      "DAYS_BIRTH                0.071103   -0.023737    1.000000  0.083728\n",
      "TARGET                   -0.020806   -0.021872    0.083728  1.000000\n"
     ]
    },
    {
     "name": "stderr",
     "output_type": "stream",
     "text": [
      "                                                                                                    \r"
     ]
    }
   ],
   "source": [
    "#run on application_train\n",
    "df_train = dfs['application_train']\n",
    "\n",
    "basic_profile(df_train, 'application_train')\n",
    "target_dist(df_train)\n",
    "num_stats_by_target(df_train, ['AMT_INCOME_TOTAL', 'AMT_CREDIT', 'DAYS_BIRTH'])\n",
    "corr_matrix(df_train, ['AMT_INCOME_TOTAL', 'AMT_CREDIT', 'DAYS_BIRTH', 'TARGET'])\n"
   ]
  },
  {
   "cell_type": "code",
   "execution_count": null,
   "metadata": {
    "execution": {
     "iopub.execute_input": "2025-05-20T10:36:30.657687Z",
     "iopub.status.busy": "2025-05-20T10:36:30.657361Z",
     "iopub.status.idle": "2025-05-20T10:37:21.824381Z",
     "shell.execute_reply": "2025-05-20T10:37:21.823358Z",
     "shell.execute_reply.started": "2025-05-20T10:36:30.657660Z"
    },
    "trusted": true
   },
   "outputs": [
    {
     "name": "stdout",
     "output_type": "stream",
     "text": [
      "\n",
      "=== application_test Basic Profile ===\n",
      "root\n",
      " |-- SK_ID_CURR: integer (nullable = true)\n",
      " |-- NAME_CONTRACT_TYPE: string (nullable = true)\n",
      " |-- CODE_GENDER: string (nullable = true)\n",
      " |-- FLAG_OWN_CAR: string (nullable = true)\n",
      " |-- FLAG_OWN_REALTY: string (nullable = true)\n",
      " |-- CNT_CHILDREN: integer (nullable = true)\n",
      " |-- AMT_INCOME_TOTAL: double (nullable = true)\n",
      " |-- AMT_CREDIT: double (nullable = true)\n",
      " |-- AMT_ANNUITY: double (nullable = true)\n",
      " |-- AMT_GOODS_PRICE: double (nullable = true)\n",
      " |-- NAME_TYPE_SUITE: string (nullable = true)\n",
      " |-- NAME_INCOME_TYPE: string (nullable = true)\n",
      " |-- NAME_EDUCATION_TYPE: string (nullable = true)\n",
      " |-- NAME_FAMILY_STATUS: string (nullable = true)\n",
      " |-- NAME_HOUSING_TYPE: string (nullable = true)\n",
      " |-- REGION_POPULATION_RELATIVE: double (nullable = true)\n",
      " |-- DAYS_BIRTH: integer (nullable = true)\n",
      " |-- DAYS_EMPLOYED: integer (nullable = true)\n",
      " |-- DAYS_REGISTRATION: double (nullable = true)\n",
      " |-- DAYS_ID_PUBLISH: integer (nullable = true)\n",
      " |-- OWN_CAR_AGE: double (nullable = true)\n",
      " |-- FLAG_MOBIL: integer (nullable = true)\n",
      " |-- FLAG_EMP_PHONE: integer (nullable = true)\n",
      " |-- FLAG_WORK_PHONE: integer (nullable = true)\n",
      " |-- FLAG_CONT_MOBILE: integer (nullable = true)\n",
      " |-- FLAG_PHONE: integer (nullable = true)\n",
      " |-- FLAG_EMAIL: integer (nullable = true)\n",
      " |-- OCCUPATION_TYPE: string (nullable = true)\n",
      " |-- CNT_FAM_MEMBERS: double (nullable = true)\n",
      " |-- REGION_RATING_CLIENT: integer (nullable = true)\n",
      " |-- REGION_RATING_CLIENT_W_CITY: integer (nullable = true)\n",
      " |-- WEEKDAY_APPR_PROCESS_START: string (nullable = true)\n",
      " |-- HOUR_APPR_PROCESS_START: integer (nullable = true)\n",
      " |-- REG_REGION_NOT_LIVE_REGION: integer (nullable = true)\n",
      " |-- REG_REGION_NOT_WORK_REGION: integer (nullable = true)\n",
      " |-- LIVE_REGION_NOT_WORK_REGION: integer (nullable = true)\n",
      " |-- REG_CITY_NOT_LIVE_CITY: integer (nullable = true)\n",
      " |-- REG_CITY_NOT_WORK_CITY: integer (nullable = true)\n",
      " |-- LIVE_CITY_NOT_WORK_CITY: integer (nullable = true)\n",
      " |-- ORGANIZATION_TYPE: string (nullable = true)\n",
      " |-- EXT_SOURCE_1: double (nullable = true)\n",
      " |-- EXT_SOURCE_2: double (nullable = true)\n",
      " |-- EXT_SOURCE_3: double (nullable = true)\n",
      " |-- APARTMENTS_AVG: double (nullable = true)\n",
      " |-- BASEMENTAREA_AVG: double (nullable = true)\n",
      " |-- YEARS_BEGINEXPLUATATION_AVG: double (nullable = true)\n",
      " |-- YEARS_BUILD_AVG: double (nullable = true)\n",
      " |-- COMMONAREA_AVG: double (nullable = true)\n",
      " |-- ELEVATORS_AVG: double (nullable = true)\n",
      " |-- ENTRANCES_AVG: double (nullable = true)\n",
      " |-- FLOORSMAX_AVG: double (nullable = true)\n",
      " |-- FLOORSMIN_AVG: double (nullable = true)\n",
      " |-- LANDAREA_AVG: double (nullable = true)\n",
      " |-- LIVINGAPARTMENTS_AVG: double (nullable = true)\n",
      " |-- LIVINGAREA_AVG: double (nullable = true)\n",
      " |-- NONLIVINGAPARTMENTS_AVG: double (nullable = true)\n",
      " |-- NONLIVINGAREA_AVG: double (nullable = true)\n",
      " |-- APARTMENTS_MODE: double (nullable = true)\n",
      " |-- BASEMENTAREA_MODE: double (nullable = true)\n",
      " |-- YEARS_BEGINEXPLUATATION_MODE: double (nullable = true)\n",
      " |-- YEARS_BUILD_MODE: double (nullable = true)\n",
      " |-- COMMONAREA_MODE: double (nullable = true)\n",
      " |-- ELEVATORS_MODE: double (nullable = true)\n",
      " |-- ENTRANCES_MODE: double (nullable = true)\n",
      " |-- FLOORSMAX_MODE: double (nullable = true)\n",
      " |-- FLOORSMIN_MODE: double (nullable = true)\n",
      " |-- LANDAREA_MODE: double (nullable = true)\n",
      " |-- LIVINGAPARTMENTS_MODE: double (nullable = true)\n",
      " |-- LIVINGAREA_MODE: double (nullable = true)\n",
      " |-- NONLIVINGAPARTMENTS_MODE: double (nullable = true)\n",
      " |-- NONLIVINGAREA_MODE: double (nullable = true)\n",
      " |-- APARTMENTS_MEDI: double (nullable = true)\n",
      " |-- BASEMENTAREA_MEDI: double (nullable = true)\n",
      " |-- YEARS_BEGINEXPLUATATION_MEDI: double (nullable = true)\n",
      " |-- YEARS_BUILD_MEDI: double (nullable = true)\n",
      " |-- COMMONAREA_MEDI: double (nullable = true)\n",
      " |-- ELEVATORS_MEDI: double (nullable = true)\n",
      " |-- ENTRANCES_MEDI: double (nullable = true)\n",
      " |-- FLOORSMAX_MEDI: double (nullable = true)\n",
      " |-- FLOORSMIN_MEDI: double (nullable = true)\n",
      " |-- LANDAREA_MEDI: double (nullable = true)\n",
      " |-- LIVINGAPARTMENTS_MEDI: double (nullable = true)\n",
      " |-- LIVINGAREA_MEDI: double (nullable = true)\n",
      " |-- NONLIVINGAPARTMENTS_MEDI: double (nullable = true)\n",
      " |-- NONLIVINGAREA_MEDI: double (nullable = true)\n",
      " |-- FONDKAPREMONT_MODE: string (nullable = true)\n",
      " |-- HOUSETYPE_MODE: string (nullable = true)\n",
      " |-- TOTALAREA_MODE: double (nullable = true)\n",
      " |-- WALLSMATERIAL_MODE: string (nullable = true)\n",
      " |-- EMERGENCYSTATE_MODE: string (nullable = true)\n",
      " |-- OBS_30_CNT_SOCIAL_CIRCLE: double (nullable = true)\n",
      " |-- DEF_30_CNT_SOCIAL_CIRCLE: double (nullable = true)\n",
      " |-- OBS_60_CNT_SOCIAL_CIRCLE: double (nullable = true)\n",
      " |-- DEF_60_CNT_SOCIAL_CIRCLE: double (nullable = true)\n",
      " |-- DAYS_LAST_PHONE_CHANGE: double (nullable = true)\n",
      " |-- FLAG_DOCUMENT_2: integer (nullable = true)\n",
      " |-- FLAG_DOCUMENT_3: integer (nullable = true)\n",
      " |-- FLAG_DOCUMENT_4: integer (nullable = true)\n",
      " |-- FLAG_DOCUMENT_5: integer (nullable = true)\n",
      " |-- FLAG_DOCUMENT_6: integer (nullable = true)\n",
      " |-- FLAG_DOCUMENT_7: integer (nullable = true)\n",
      " |-- FLAG_DOCUMENT_8: integer (nullable = true)\n",
      " |-- FLAG_DOCUMENT_9: integer (nullable = true)\n",
      " |-- FLAG_DOCUMENT_10: integer (nullable = true)\n",
      " |-- FLAG_DOCUMENT_11: integer (nullable = true)\n",
      " |-- FLAG_DOCUMENT_12: integer (nullable = true)\n",
      " |-- FLAG_DOCUMENT_13: integer (nullable = true)\n",
      " |-- FLAG_DOCUMENT_14: integer (nullable = true)\n",
      " |-- FLAG_DOCUMENT_15: integer (nullable = true)\n",
      " |-- FLAG_DOCUMENT_16: integer (nullable = true)\n",
      " |-- FLAG_DOCUMENT_17: integer (nullable = true)\n",
      " |-- FLAG_DOCUMENT_18: integer (nullable = true)\n",
      " |-- FLAG_DOCUMENT_19: integer (nullable = true)\n",
      " |-- FLAG_DOCUMENT_20: integer (nullable = true)\n",
      " |-- FLAG_DOCUMENT_21: integer (nullable = true)\n",
      " |-- AMT_REQ_CREDIT_BUREAU_HOUR: double (nullable = true)\n",
      " |-- AMT_REQ_CREDIT_BUREAU_DAY: double (nullable = true)\n",
      " |-- AMT_REQ_CREDIT_BUREAU_WEEK: double (nullable = true)\n",
      " |-- AMT_REQ_CREDIT_BUREAU_MON: double (nullable = true)\n",
      " |-- AMT_REQ_CREDIT_BUREAU_QRT: double (nullable = true)\n",
      " |-- AMT_REQ_CREDIT_BUREAU_YEAR: double (nullable = true)\n",
      "\n",
      "Total rows: 48744\n"
     ]
    },
    {
     "name": "stderr",
     "output_type": "stream",
     "text": [
      "                                                                                                    \r"
     ]
    },
    {
     "name": "stdout",
     "output_type": "stream",
     "text": [
      "Missing values (%):\n",
      " - COMMONAREA_AVG: 33495 (68.72%)\n",
      " - COMMONAREA_MODE: 33495 (68.72%)\n",
      " - COMMONAREA_MEDI: 33495 (68.72%)\n",
      " - NONLIVINGAPARTMENTS_AVG: 33347 (68.41%)\n",
      " - NONLIVINGAPARTMENTS_MODE: 33347 (68.41%)\n",
      " - NONLIVINGAPARTMENTS_MEDI: 33347 (68.41%)\n",
      " - FONDKAPREMONT_MODE: 32797 (67.28%)\n",
      " - LIVINGAPARTMENTS_AVG: 32780 (67.25%)\n",
      " - LIVINGAPARTMENTS_MODE: 32780 (67.25%)\n",
      " - LIVINGAPARTMENTS_MEDI: 32780 (67.25%)\n",
      " - FLOORSMIN_AVG: 32466 (66.61%)\n",
      " - FLOORSMIN_MODE: 32466 (66.61%)\n",
      " - FLOORSMIN_MEDI: 32466 (66.61%)\n",
      " - OWN_CAR_AGE: 32312 (66.29%)\n",
      " - YEARS_BUILD_AVG: 31818 (65.28%)\n",
      " - YEARS_BUILD_MODE: 31818 (65.28%)\n",
      " - YEARS_BUILD_MEDI: 31818 (65.28%)\n",
      " - LANDAREA_AVG: 28254 (57.96%)\n",
      " - LANDAREA_MODE: 28254 (57.96%)\n",
      " - LANDAREA_MEDI: 28254 (57.96%)\n",
      " - BASEMENTAREA_AVG: 27641 (56.71%)\n",
      " - BASEMENTAREA_MODE: 27641 (56.71%)\n",
      " - BASEMENTAREA_MEDI: 27641 (56.71%)\n",
      " - NONLIVINGAREA_AVG: 26084 (53.51%)\n",
      " - NONLIVINGAREA_MODE: 26084 (53.51%)\n",
      " - NONLIVINGAREA_MEDI: 26084 (53.51%)\n",
      " - ELEVATORS_AVG: 25189 (51.68%)\n",
      " - ELEVATORS_MODE: 25189 (51.68%)\n",
      " - ELEVATORS_MEDI: 25189 (51.68%)\n",
      " - WALLSMATERIAL_MODE: 23893 (49.02%)\n",
      " - APARTMENTS_AVG: 23887 (49.01%)\n",
      " - APARTMENTS_MODE: 23887 (49.01%)\n",
      " - APARTMENTS_MEDI: 23887 (49.01%)\n",
      " - HOUSETYPE_MODE: 23619 (48.46%)\n",
      " - ENTRANCES_AVG: 23579 (48.37%)\n",
      " - ENTRANCES_MODE: 23579 (48.37%)\n",
      " - ENTRANCES_MEDI: 23579 (48.37%)\n",
      " - LIVINGAREA_AVG: 23552 (48.32%)\n",
      " - LIVINGAREA_MODE: 23552 (48.32%)\n",
      " - LIVINGAREA_MEDI: 23552 (48.32%)\n",
      " - FLOORSMAX_AVG: 23321 (47.84%)\n",
      " - FLOORSMAX_MODE: 23321 (47.84%)\n",
      " - FLOORSMAX_MEDI: 23321 (47.84%)\n",
      " - YEARS_BEGINEXPLUATATION_AVG: 22856 (46.89%)\n",
      " - YEARS_BEGINEXPLUATATION_MODE: 22856 (46.89%)\n",
      " - YEARS_BEGINEXPLUATATION_MEDI: 22856 (46.89%)\n",
      " - TOTALAREA_MODE: 22624 (46.41%)\n",
      " - EMERGENCYSTATE_MODE: 22209 (45.56%)\n",
      " - EXT_SOURCE_1: 20532 (42.12%)\n",
      " - OCCUPATION_TYPE: 15605 (32.01%)\n",
      " - EXT_SOURCE_3: 8668 (17.78%)\n",
      " - AMT_REQ_CREDIT_BUREAU_HOUR: 6049 (12.41%)\n",
      " - AMT_REQ_CREDIT_BUREAU_DAY: 6049 (12.41%)\n",
      " - AMT_REQ_CREDIT_BUREAU_WEEK: 6049 (12.41%)\n",
      " - AMT_REQ_CREDIT_BUREAU_MON: 6049 (12.41%)\n",
      " - AMT_REQ_CREDIT_BUREAU_QRT: 6049 (12.41%)\n",
      " - AMT_REQ_CREDIT_BUREAU_YEAR: 6049 (12.41%)\n",
      " - NAME_TYPE_SUITE: 911 (1.87%)\n",
      " - OBS_30_CNT_SOCIAL_CIRCLE: 29 (0.06%)\n",
      " - DEF_30_CNT_SOCIAL_CIRCLE: 29 (0.06%)\n",
      " - OBS_60_CNT_SOCIAL_CIRCLE: 29 (0.06%)\n",
      " - DEF_60_CNT_SOCIAL_CIRCLE: 29 (0.06%)\n",
      " - AMT_ANNUITY: 24 (0.05%)\n",
      " - EXT_SOURCE_2: 8 (0.02%)\n"
     ]
    },
    {
     "name": "stderr",
     "output_type": "stream",
     "text": [
      "                                                                                                    \r"
     ]
    },
    {
     "name": "stdout",
     "output_type": "stream",
     "text": [
      "Duplicate SK_ID_CURR: 0\n"
     ]
    },
    {
     "name": "stderr",
     "output_type": "stream",
     "text": [
      "                                                                                                    \r"
     ]
    },
    {
     "name": "stdout",
     "output_type": "stream",
     "text": [
      "Duplicate rows (entire rows): 0\n",
      "Low-cardinality columns (≤ threshold):\n",
      " - NAME_CONTRACT_TYPE (string): 2 unique\n",
      " - CODE_GENDER (string): 2 unique\n",
      " - FLAG_OWN_CAR (string): 2 unique\n",
      " - FLAG_OWN_REALTY (string): 2 unique\n",
      " - CNT_CHILDREN (int): 11 unique\n",
      " - NAME_TYPE_SUITE (string): 7 unique\n",
      " - NAME_INCOME_TYPE (string): 7 unique\n",
      " - NAME_EDUCATION_TYPE (string): 5 unique\n",
      " - NAME_FAMILY_STATUS (string): 4 unique\n",
      " - NAME_HOUSING_TYPE (string): 6 unique\n",
      " - FLAG_MOBIL (int): 2 unique\n",
      " - FLAG_EMP_PHONE (int): 2 unique\n",
      " - FLAG_WORK_PHONE (int): 2 unique\n",
      " - FLAG_CONT_MOBILE (int): 2 unique\n",
      " - FLAG_PHONE (int): 2 unique\n",
      " - FLAG_EMAIL (int): 2 unique\n",
      " - OCCUPATION_TYPE (string): 17 unique\n",
      " - CNT_FAM_MEMBERS (double): 12 unique\n",
      " - REGION_RATING_CLIENT (int): 3 unique\n",
      " - REGION_RATING_CLIENT_W_CITY (int): 4 unique\n",
      " - WEEKDAY_APPR_PROCESS_START (string): 7 unique\n",
      " - REG_REGION_NOT_LIVE_REGION (int): 2 unique\n",
      " - REG_REGION_NOT_WORK_REGION (int): 2 unique\n",
      " - LIVE_REGION_NOT_WORK_REGION (int): 2 unique\n",
      " - REG_CITY_NOT_LIVE_CITY (int): 2 unique\n",
      " - REG_CITY_NOT_WORK_CITY (int): 2 unique\n",
      " - LIVE_CITY_NOT_WORK_CITY (int): 2 unique\n",
      " - FONDKAPREMONT_MODE (string): 4 unique\n",
      " - HOUSETYPE_MODE (string): 3 unique\n",
      " - WALLSMATERIAL_MODE (string): 7 unique\n",
      " - EMERGENCYSTATE_MODE (string): 2 unique\n",
      " - DEF_30_CNT_SOCIAL_CIRCLE (double): 8 unique\n",
      " - DEF_60_CNT_SOCIAL_CIRCLE (double): 7 unique\n",
      " - FLAG_DOCUMENT_2 (int): 1 unique\n",
      " - FLAG_DOCUMENT_3 (int): 2 unique\n",
      " - FLAG_DOCUMENT_4 (int): 2 unique\n",
      " - FLAG_DOCUMENT_5 (int): 2 unique\n",
      " - FLAG_DOCUMENT_6 (int): 2 unique\n",
      " - FLAG_DOCUMENT_7 (int): 2 unique\n",
      " - FLAG_DOCUMENT_8 (int): 2 unique\n",
      " - FLAG_DOCUMENT_9 (int): 2 unique\n",
      " - FLAG_DOCUMENT_10 (int): 1 unique\n",
      " - FLAG_DOCUMENT_11 (int): 2 unique\n",
      " - FLAG_DOCUMENT_12 (int): 1 unique\n",
      " - FLAG_DOCUMENT_13 (int): 1 unique\n",
      " - FLAG_DOCUMENT_14 (int): 1 unique\n",
      " - FLAG_DOCUMENT_15 (int): 1 unique\n",
      " - FLAG_DOCUMENT_16 (int): 1 unique\n",
      " - FLAG_DOCUMENT_17 (int): 1 unique\n",
      " - FLAG_DOCUMENT_18 (int): 2 unique\n",
      " - FLAG_DOCUMENT_19 (int): 1 unique\n",
      " - FLAG_DOCUMENT_20 (int): 1 unique\n",
      " - FLAG_DOCUMENT_21 (int): 1 unique\n",
      " - AMT_REQ_CREDIT_BUREAU_HOUR (double): 3 unique\n",
      " - AMT_REQ_CREDIT_BUREAU_DAY (double): 3 unique\n",
      " - AMT_REQ_CREDIT_BUREAU_WEEK (double): 3 unique\n",
      " - AMT_REQ_CREDIT_BUREAU_MON (double): 7 unique\n",
      " - AMT_REQ_CREDIT_BUREAU_QRT (double): 8 unique\n",
      " - AMT_REQ_CREDIT_BUREAU_YEAR (double): 16 unique\n"
     ]
    },
    {
     "data": {
      "text/plain": [
       "['NAME_CONTRACT_TYPE',\n",
       " 'CODE_GENDER',\n",
       " 'FLAG_OWN_CAR',\n",
       " 'FLAG_OWN_REALTY',\n",
       " 'CNT_CHILDREN',\n",
       " 'NAME_TYPE_SUITE',\n",
       " 'NAME_INCOME_TYPE',\n",
       " 'NAME_EDUCATION_TYPE',\n",
       " 'NAME_FAMILY_STATUS',\n",
       " 'NAME_HOUSING_TYPE',\n",
       " 'FLAG_MOBIL',\n",
       " 'FLAG_EMP_PHONE',\n",
       " 'FLAG_WORK_PHONE',\n",
       " 'FLAG_CONT_MOBILE',\n",
       " 'FLAG_PHONE',\n",
       " 'FLAG_EMAIL',\n",
       " 'OCCUPATION_TYPE',\n",
       " 'CNT_FAM_MEMBERS',\n",
       " 'REGION_RATING_CLIENT',\n",
       " 'REGION_RATING_CLIENT_W_CITY',\n",
       " 'WEEKDAY_APPR_PROCESS_START',\n",
       " 'REG_REGION_NOT_LIVE_REGION',\n",
       " 'REG_REGION_NOT_WORK_REGION',\n",
       " 'LIVE_REGION_NOT_WORK_REGION',\n",
       " 'REG_CITY_NOT_LIVE_CITY',\n",
       " 'REG_CITY_NOT_WORK_CITY',\n",
       " 'LIVE_CITY_NOT_WORK_CITY',\n",
       " 'FONDKAPREMONT_MODE',\n",
       " 'HOUSETYPE_MODE',\n",
       " 'WALLSMATERIAL_MODE',\n",
       " 'EMERGENCYSTATE_MODE',\n",
       " 'DEF_30_CNT_SOCIAL_CIRCLE',\n",
       " 'DEF_60_CNT_SOCIAL_CIRCLE',\n",
       " 'FLAG_DOCUMENT_2',\n",
       " 'FLAG_DOCUMENT_3',\n",
       " 'FLAG_DOCUMENT_4',\n",
       " 'FLAG_DOCUMENT_5',\n",
       " 'FLAG_DOCUMENT_6',\n",
       " 'FLAG_DOCUMENT_7',\n",
       " 'FLAG_DOCUMENT_8',\n",
       " 'FLAG_DOCUMENT_9',\n",
       " 'FLAG_DOCUMENT_10',\n",
       " 'FLAG_DOCUMENT_11',\n",
       " 'FLAG_DOCUMENT_12',\n",
       " 'FLAG_DOCUMENT_13',\n",
       " 'FLAG_DOCUMENT_14',\n",
       " 'FLAG_DOCUMENT_15',\n",
       " 'FLAG_DOCUMENT_16',\n",
       " 'FLAG_DOCUMENT_17',\n",
       " 'FLAG_DOCUMENT_18',\n",
       " 'FLAG_DOCUMENT_19',\n",
       " 'FLAG_DOCUMENT_20',\n",
       " 'FLAG_DOCUMENT_21',\n",
       " 'AMT_REQ_CREDIT_BUREAU_HOUR',\n",
       " 'AMT_REQ_CREDIT_BUREAU_DAY',\n",
       " 'AMT_REQ_CREDIT_BUREAU_WEEK',\n",
       " 'AMT_REQ_CREDIT_BUREAU_MON',\n",
       " 'AMT_REQ_CREDIT_BUREAU_QRT',\n",
       " 'AMT_REQ_CREDIT_BUREAU_YEAR']"
      ]
     },
     "execution_count": 13,
     "metadata": {},
     "output_type": "execute_result"
    }
   ],
   "source": [
    "# 5.2 Application Test\n",
    "df_test = dfs['application_test']\n",
    "basic_profile(df_test, 'application_test')"
   ]
  },
  {
   "cell_type": "code",
   "execution_count": null,
   "metadata": {
    "execution": {
     "iopub.execute_input": "2025-05-20T10:37:21.825667Z",
     "iopub.status.busy": "2025-05-20T10:37:21.825318Z",
     "iopub.status.idle": "2025-05-20T10:38:14.500373Z",
     "shell.execute_reply": "2025-05-20T10:38:14.499292Z",
     "shell.execute_reply.started": "2025-05-20T10:37:21.825644Z"
    },
    "trusted": true
   },
   "outputs": [
    {
     "name": "stdout",
     "output_type": "stream",
     "text": [
      "\n",
      "=== bureau Basic Profile ===\n",
      "root\n",
      " |-- SK_ID_CURR: integer (nullable = true)\n",
      " |-- SK_ID_BUREAU: integer (nullable = true)\n",
      " |-- CREDIT_ACTIVE: string (nullable = true)\n",
      " |-- CREDIT_CURRENCY: string (nullable = true)\n",
      " |-- DAYS_CREDIT: integer (nullable = true)\n",
      " |-- CREDIT_DAY_OVERDUE: integer (nullable = true)\n",
      " |-- DAYS_CREDIT_ENDDATE: double (nullable = true)\n",
      " |-- DAYS_ENDDATE_FACT: double (nullable = true)\n",
      " |-- AMT_CREDIT_MAX_OVERDUE: double (nullable = true)\n",
      " |-- CNT_CREDIT_PROLONG: integer (nullable = true)\n",
      " |-- AMT_CREDIT_SUM: double (nullable = true)\n",
      " |-- AMT_CREDIT_SUM_DEBT: double (nullable = true)\n",
      " |-- AMT_CREDIT_SUM_LIMIT: double (nullable = true)\n",
      " |-- AMT_CREDIT_SUM_OVERDUE: double (nullable = true)\n",
      " |-- CREDIT_TYPE: string (nullable = true)\n",
      " |-- DAYS_CREDIT_UPDATE: integer (nullable = true)\n",
      " |-- AMT_ANNUITY: double (nullable = true)\n",
      "\n",
      "Total rows: 1716428\n"
     ]
    },
    {
     "name": "stderr",
     "output_type": "stream",
     "text": [
      "                                                                                                    \r"
     ]
    },
    {
     "name": "stdout",
     "output_type": "stream",
     "text": [
      "Missing values (%):\n",
      " - AMT_ANNUITY: 1226791 (71.47%)\n",
      " - AMT_CREDIT_MAX_OVERDUE: 1124488 (65.51%)\n",
      " - DAYS_ENDDATE_FACT: 633653 (36.92%)\n",
      " - AMT_CREDIT_SUM_LIMIT: 591780 (34.48%)\n",
      " - AMT_CREDIT_SUM_DEBT: 257669 (15.01%)\n",
      " - DAYS_CREDIT_ENDDATE: 105553 (6.15%)\n",
      " - AMT_CREDIT_SUM: 13 (0.00%)\n"
     ]
    },
    {
     "name": "stderr",
     "output_type": "stream",
     "text": [
      "                                                                                                    \r"
     ]
    },
    {
     "name": "stdout",
     "output_type": "stream",
     "text": [
      "Duplicate SK_ID_CURR: 1410617\n"
     ]
    },
    {
     "name": "stderr",
     "output_type": "stream",
     "text": [
      "                                                                                                    \r"
     ]
    },
    {
     "name": "stdout",
     "output_type": "stream",
     "text": [
      "Duplicate rows (entire rows): 0\n",
      "Low-cardinality columns (≤ threshold):\n"
     ]
    },
    {
     "name": "stderr",
     "output_type": "stream",
     "text": [
      "[Stage 878:>                                                                            (0 + 4) / 4]\r"
     ]
    },
    {
     "name": "stdout",
     "output_type": "stream",
     "text": [
      " - CREDIT_ACTIVE (string): 4 unique\n",
      " - CREDIT_CURRENCY (string): 4 unique\n",
      " - CNT_CREDIT_PROLONG (int): 10 unique\n",
      " - CREDIT_TYPE (string): 15 unique\n"
     ]
    },
    {
     "name": "stderr",
     "output_type": "stream",
     "text": [
      "                                                                                                    \r"
     ]
    },
    {
     "data": {
      "text/plain": [
       "['CREDIT_ACTIVE', 'CREDIT_CURRENCY', 'CNT_CREDIT_PROLONG', 'CREDIT_TYPE']"
      ]
     },
     "execution_count": 14,
     "metadata": {},
     "output_type": "execute_result"
    }
   ],
   "source": [
    "# 5.3 Bureau\n",
    "df_bureau = dfs['bureau']\n",
    "basic_profile(df_bureau, 'bureau')"
   ]
  },
  {
   "cell_type": "code",
   "execution_count": null,
   "metadata": {
    "execution": {
     "iopub.execute_input": "2025-05-20T10:38:14.505564Z",
     "iopub.status.busy": "2025-05-20T10:38:14.505168Z",
     "iopub.status.idle": "2025-05-20T10:41:09.820965Z",
     "shell.execute_reply": "2025-05-20T10:41:09.819952Z",
     "shell.execute_reply.started": "2025-05-20T10:38:14.505534Z"
    },
    "trusted": true
   },
   "outputs": [
    {
     "name": "stdout",
     "output_type": "stream",
     "text": [
      "\n",
      "=== bureau_balance Basic Profile ===\n",
      "root\n",
      " |-- SK_ID_BUREAU: integer (nullable = true)\n",
      " |-- MONTHS_BALANCE: integer (nullable = true)\n",
      " |-- STATUS: string (nullable = true)\n",
      "\n"
     ]
    },
    {
     "name": "stderr",
     "output_type": "stream",
     "text": [
      "                                                                                                    \r"
     ]
    },
    {
     "name": "stdout",
     "output_type": "stream",
     "text": [
      "Total rows: 27299925\n"
     ]
    },
    {
     "name": "stderr",
     "output_type": "stream",
     "text": [
      "                                                                                                    \r"
     ]
    },
    {
     "name": "stdout",
     "output_type": "stream",
     "text": [
      "Missing values (%):\n"
     ]
    },
    {
     "name": "stderr",
     "output_type": "stream",
     "text": [
      "25/05/20 10:39:17 WARN RowBasedKeyValueBatch: Calling spill() on RowBasedKeyValueBatch. Will not spill but return 0.\n",
      "25/05/20 10:39:17 WARN RowBasedKeyValueBatch: Calling spill() on RowBasedKeyValueBatch. Will not spill but return 0.\n",
      "25/05/20 10:39:17 WARN RowBasedKeyValueBatch: Calling spill() on RowBasedKeyValueBatch. Will not spill but return 0.\n",
      "25/05/20 10:39:17 WARN RowBasedKeyValueBatch: Calling spill() on RowBasedKeyValueBatch. Will not spill but return 0.\n",
      "25/05/20 10:39:27 WARN RowBasedKeyValueBatch: Calling spill() on RowBasedKeyValueBatch. Will not spill but return 0.\n",
      "25/05/20 10:39:27 WARN RowBasedKeyValueBatch: Calling spill() on RowBasedKeyValueBatch. Will not spill but return 0.\n",
      "25/05/20 10:39:27 WARN RowBasedKeyValueBatch: Calling spill() on RowBasedKeyValueBatch. Will not spill but return 0.\n",
      "25/05/20 10:39:27 WARN RowBasedKeyValueBatch: Calling spill() on RowBasedKeyValueBatch. Will not spill but return 0.\n",
      "25/05/20 10:39:33 WARN RowBasedKeyValueBatch: Calling spill() on RowBasedKeyValueBatch. Will not spill but return 0.\n",
      "25/05/20 10:39:33 WARN RowBasedKeyValueBatch: Calling spill() on RowBasedKeyValueBatch. Will not spill but return 0.\n",
      "25/05/20 10:39:34 WARN RowBasedKeyValueBatch: Calling spill() on RowBasedKeyValueBatch. Will not spill but return 0.\n",
      "25/05/20 10:39:34 WARN RowBasedKeyValueBatch: Calling spill() on RowBasedKeyValueBatch. Will not spill but return 0.\n",
      "25/05/20 10:39:38 WARN RowBasedKeyValueBatch: Calling spill() on RowBasedKeyValueBatch. Will not spill but return 0.\n",
      "25/05/20 10:39:39 WARN RowBasedKeyValueBatch: Calling spill() on RowBasedKeyValueBatch. Will not spill but return 0.\n",
      "25/05/20 10:39:39 WARN RowBasedKeyValueBatch: Calling spill() on RowBasedKeyValueBatch. Will not spill but return 0.\n",
      "25/05/20 10:39:39 WARN RowBasedKeyValueBatch: Calling spill() on RowBasedKeyValueBatch. Will not spill but return 0.\n",
      "25/05/20 10:39:43 WARN RowBasedKeyValueBatch: Calling spill() on RowBasedKeyValueBatch. Will not spill but return 0.\n",
      "25/05/20 10:39:43 WARN RowBasedKeyValueBatch: Calling spill() on RowBasedKeyValueBatch. Will not spill but return 0.\n",
      "25/05/20 10:39:44 WARN RowBasedKeyValueBatch: Calling spill() on RowBasedKeyValueBatch. Will not spill but return 0.\n",
      "25/05/20 10:39:44 WARN RowBasedKeyValueBatch: Calling spill() on RowBasedKeyValueBatch. Will not spill but return 0.\n",
      "25/05/20 10:39:48 WARN RowBasedKeyValueBatch: Calling spill() on RowBasedKeyValueBatch. Will not spill but return 0.\n",
      "25/05/20 10:39:48 WARN RowBasedKeyValueBatch: Calling spill() on RowBasedKeyValueBatch. Will not spill but return 0.\n",
      "25/05/20 10:39:49 WARN RowBasedKeyValueBatch: Calling spill() on RowBasedKeyValueBatch. Will not spill but return 0.\n",
      "25/05/20 10:39:49 WARN RowBasedKeyValueBatch: Calling spill() on RowBasedKeyValueBatch. Will not spill but return 0.\n",
      "                                                                                                    \r"
     ]
    },
    {
     "name": "stdout",
     "output_type": "stream",
     "text": [
      "Duplicate rows (entire rows): 0\n",
      "Low-cardinality columns (≤ threshold):\n"
     ]
    },
    {
     "name": "stderr",
     "output_type": "stream",
     "text": [
      "[Stage 899:=========================================================>                   (3 + 1) / 4]\r"
     ]
    },
    {
     "name": "stdout",
     "output_type": "stream",
     "text": [
      " - STATUS (string): 8 unique\n"
     ]
    },
    {
     "name": "stderr",
     "output_type": "stream",
     "text": [
      "                                                                                                    \r"
     ]
    },
    {
     "data": {
      "text/plain": [
       "['STATUS']"
      ]
     },
     "execution_count": 15,
     "metadata": {},
     "output_type": "execute_result"
    }
   ],
   "source": [
    "# 5.4 Previous Application\n",
    "df_prev = dfs['bureau_balance']\n",
    "basic_profile(df_prev, 'bureau_balance')"
   ]
  },
  {
   "cell_type": "code",
   "execution_count": null,
   "metadata": {
    "execution": {
     "iopub.execute_input": "2025-05-20T10:41:09.822484Z",
     "iopub.status.busy": "2025-05-20T10:41:09.822131Z",
     "iopub.status.idle": "2025-05-20T10:43:50.653354Z",
     "shell.execute_reply": "2025-05-20T10:43:50.652469Z",
     "shell.execute_reply.started": "2025-05-20T10:41:09.822461Z"
    },
    "trusted": true
   },
   "outputs": [
    {
     "name": "stdout",
     "output_type": "stream",
     "text": [
      "\n",
      "=== previous_application Basic Profile ===\n",
      "root\n",
      " |-- SK_ID_PREV: integer (nullable = true)\n",
      " |-- SK_ID_CURR: integer (nullable = true)\n",
      " |-- NAME_CONTRACT_TYPE: string (nullable = true)\n",
      " |-- AMT_ANNUITY: double (nullable = true)\n",
      " |-- AMT_APPLICATION: double (nullable = true)\n",
      " |-- AMT_CREDIT: double (nullable = true)\n",
      " |-- AMT_DOWN_PAYMENT: double (nullable = true)\n",
      " |-- AMT_GOODS_PRICE: double (nullable = true)\n",
      " |-- WEEKDAY_APPR_PROCESS_START: string (nullable = true)\n",
      " |-- HOUR_APPR_PROCESS_START: integer (nullable = true)\n",
      " |-- FLAG_LAST_APPL_PER_CONTRACT: string (nullable = true)\n",
      " |-- NFLAG_LAST_APPL_IN_DAY: integer (nullable = true)\n",
      " |-- RATE_DOWN_PAYMENT: double (nullable = true)\n",
      " |-- RATE_INTEREST_PRIMARY: double (nullable = true)\n",
      " |-- RATE_INTEREST_PRIVILEGED: double (nullable = true)\n",
      " |-- NAME_CASH_LOAN_PURPOSE: string (nullable = true)\n",
      " |-- NAME_CONTRACT_STATUS: string (nullable = true)\n",
      " |-- DAYS_DECISION: integer (nullable = true)\n",
      " |-- NAME_PAYMENT_TYPE: string (nullable = true)\n",
      " |-- CODE_REJECT_REASON: string (nullable = true)\n",
      " |-- NAME_TYPE_SUITE: string (nullable = true)\n",
      " |-- NAME_CLIENT_TYPE: string (nullable = true)\n",
      " |-- NAME_GOODS_CATEGORY: string (nullable = true)\n",
      " |-- NAME_PORTFOLIO: string (nullable = true)\n",
      " |-- NAME_PRODUCT_TYPE: string (nullable = true)\n",
      " |-- CHANNEL_TYPE: string (nullable = true)\n",
      " |-- SELLERPLACE_AREA: integer (nullable = true)\n",
      " |-- NAME_SELLER_INDUSTRY: string (nullable = true)\n",
      " |-- CNT_PAYMENT: double (nullable = true)\n",
      " |-- NAME_YIELD_GROUP: string (nullable = true)\n",
      " |-- PRODUCT_COMBINATION: string (nullable = true)\n",
      " |-- DAYS_FIRST_DRAWING: double (nullable = true)\n",
      " |-- DAYS_FIRST_DUE: double (nullable = true)\n",
      " |-- DAYS_LAST_DUE_1ST_VERSION: double (nullable = true)\n",
      " |-- DAYS_LAST_DUE: double (nullable = true)\n",
      " |-- DAYS_TERMINATION: double (nullable = true)\n",
      " |-- NFLAG_INSURED_ON_APPROVAL: double (nullable = true)\n",
      "\n"
     ]
    },
    {
     "name": "stderr",
     "output_type": "stream",
     "text": [
      "                                                                                                    \r"
     ]
    },
    {
     "name": "stdout",
     "output_type": "stream",
     "text": [
      "Total rows: 1670214\n"
     ]
    },
    {
     "name": "stderr",
     "output_type": "stream",
     "text": [
      "                                                                                                    \r"
     ]
    },
    {
     "name": "stdout",
     "output_type": "stream",
     "text": [
      "Missing values (%):\n",
      " - RATE_INTEREST_PRIMARY: 1664263 (99.64%)\n",
      " - RATE_INTEREST_PRIVILEGED: 1664263 (99.64%)\n",
      " - AMT_DOWN_PAYMENT: 895844 (53.64%)\n",
      " - RATE_DOWN_PAYMENT: 895844 (53.64%)\n",
      " - NAME_TYPE_SUITE: 820405 (49.12%)\n",
      " - DAYS_FIRST_DRAWING: 673065 (40.30%)\n",
      " - DAYS_FIRST_DUE: 673065 (40.30%)\n",
      " - DAYS_LAST_DUE_1ST_VERSION: 673065 (40.30%)\n",
      " - DAYS_LAST_DUE: 673065 (40.30%)\n",
      " - DAYS_TERMINATION: 673065 (40.30%)\n",
      " - NFLAG_INSURED_ON_APPROVAL: 673065 (40.30%)\n",
      " - AMT_GOODS_PRICE: 385515 (23.08%)\n",
      " - AMT_ANNUITY: 372235 (22.29%)\n",
      " - CNT_PAYMENT: 372230 (22.29%)\n",
      " - PRODUCT_COMBINATION: 346 (0.02%)\n",
      " - AMT_CREDIT: 1 (0.00%)\n"
     ]
    },
    {
     "name": "stderr",
     "output_type": "stream",
     "text": [
      "                                                                                                    \r"
     ]
    },
    {
     "name": "stdout",
     "output_type": "stream",
     "text": [
      "Duplicate SK_ID_CURR: 1331357\n"
     ]
    },
    {
     "name": "stderr",
     "output_type": "stream",
     "text": [
      "                                                                                                    \r"
     ]
    },
    {
     "name": "stdout",
     "output_type": "stream",
     "text": [
      "Duplicate rows (entire rows): 0\n",
      "Low-cardinality columns (≤ threshold):\n"
     ]
    },
    {
     "name": "stderr",
     "output_type": "stream",
     "text": [
      "[Stage 1028:>                                                                           (0 + 4) / 4]\r"
     ]
    },
    {
     "name": "stdout",
     "output_type": "stream",
     "text": [
      " - NAME_CONTRACT_TYPE (string): 4 unique\n",
      " - WEEKDAY_APPR_PROCESS_START (string): 7 unique\n",
      " - FLAG_LAST_APPL_PER_CONTRACT (string): 2 unique\n",
      " - NFLAG_LAST_APPL_IN_DAY (int): 2 unique\n",
      " - NAME_CONTRACT_STATUS (string): 4 unique\n",
      " - NAME_PAYMENT_TYPE (string): 4 unique\n",
      " - CODE_REJECT_REASON (string): 9 unique\n",
      " - NAME_TYPE_SUITE (string): 7 unique\n",
      " - NAME_CLIENT_TYPE (string): 4 unique\n",
      " - NAME_PORTFOLIO (string): 5 unique\n",
      " - NAME_PRODUCT_TYPE (string): 3 unique\n",
      " - CHANNEL_TYPE (string): 8 unique\n",
      " - NAME_SELLER_INDUSTRY (string): 11 unique\n",
      " - NAME_YIELD_GROUP (string): 5 unique\n",
      " - PRODUCT_COMBINATION (string): 17 unique\n",
      " - NFLAG_INSURED_ON_APPROVAL (double): 2 unique\n"
     ]
    },
    {
     "name": "stderr",
     "output_type": "stream",
     "text": [
      "                                                                                                    \r"
     ]
    },
    {
     "data": {
      "text/plain": [
       "['NAME_CONTRACT_TYPE',\n",
       " 'WEEKDAY_APPR_PROCESS_START',\n",
       " 'FLAG_LAST_APPL_PER_CONTRACT',\n",
       " 'NFLAG_LAST_APPL_IN_DAY',\n",
       " 'NAME_CONTRACT_STATUS',\n",
       " 'NAME_PAYMENT_TYPE',\n",
       " 'CODE_REJECT_REASON',\n",
       " 'NAME_TYPE_SUITE',\n",
       " 'NAME_CLIENT_TYPE',\n",
       " 'NAME_PORTFOLIO',\n",
       " 'NAME_PRODUCT_TYPE',\n",
       " 'CHANNEL_TYPE',\n",
       " 'NAME_SELLER_INDUSTRY',\n",
       " 'NAME_YIELD_GROUP',\n",
       " 'PRODUCT_COMBINATION',\n",
       " 'NFLAG_INSURED_ON_APPROVAL']"
      ]
     },
     "execution_count": 16,
     "metadata": {},
     "output_type": "execute_result"
    }
   ],
   "source": [
    "# 5.4 Previous Application\n",
    "df_prev = dfs['previous_application']\n",
    "basic_profile(df_prev, 'previous_application')"
   ]
  },
  {
   "cell_type": "code",
   "execution_count": null,
   "metadata": {
    "execution": {
     "iopub.execute_input": "2025-05-20T10:43:50.654481Z",
     "iopub.status.busy": "2025-05-20T10:43:50.654247Z",
     "iopub.status.idle": "2025-05-20T10:46:04.662821Z",
     "shell.execute_reply": "2025-05-20T10:46:04.660987Z",
     "shell.execute_reply.started": "2025-05-20T10:43:50.654461Z"
    },
    "trusted": true
   },
   "outputs": [
    {
     "name": "stdout",
     "output_type": "stream",
     "text": [
      "\n",
      "=== credit_card_balance Basic Profile ===\n",
      "root\n",
      " |-- SK_ID_PREV: integer (nullable = true)\n",
      " |-- SK_ID_CURR: integer (nullable = true)\n",
      " |-- MONTHS_BALANCE: integer (nullable = true)\n",
      " |-- AMT_BALANCE: double (nullable = true)\n",
      " |-- AMT_CREDIT_LIMIT_ACTUAL: integer (nullable = true)\n",
      " |-- AMT_DRAWINGS_ATM_CURRENT: double (nullable = true)\n",
      " |-- AMT_DRAWINGS_CURRENT: double (nullable = true)\n",
      " |-- AMT_DRAWINGS_OTHER_CURRENT: double (nullable = true)\n",
      " |-- AMT_DRAWINGS_POS_CURRENT: double (nullable = true)\n",
      " |-- AMT_INST_MIN_REGULARITY: double (nullable = true)\n",
      " |-- AMT_PAYMENT_CURRENT: double (nullable = true)\n",
      " |-- AMT_PAYMENT_TOTAL_CURRENT: double (nullable = true)\n",
      " |-- AMT_RECEIVABLE_PRINCIPAL: double (nullable = true)\n",
      " |-- AMT_RECIVABLE: double (nullable = true)\n",
      " |-- AMT_TOTAL_RECEIVABLE: double (nullable = true)\n",
      " |-- CNT_DRAWINGS_ATM_CURRENT: double (nullable = true)\n",
      " |-- CNT_DRAWINGS_CURRENT: integer (nullable = true)\n",
      " |-- CNT_DRAWINGS_OTHER_CURRENT: double (nullable = true)\n",
      " |-- CNT_DRAWINGS_POS_CURRENT: double (nullable = true)\n",
      " |-- CNT_INSTALMENT_MATURE_CUM: double (nullable = true)\n",
      " |-- NAME_CONTRACT_STATUS: string (nullable = true)\n",
      " |-- SK_DPD: integer (nullable = true)\n",
      " |-- SK_DPD_DEF: integer (nullable = true)\n",
      "\n"
     ]
    },
    {
     "name": "stderr",
     "output_type": "stream",
     "text": [
      "                                                                                                    \r"
     ]
    },
    {
     "name": "stdout",
     "output_type": "stream",
     "text": [
      "Total rows: 3840312\n"
     ]
    },
    {
     "name": "stderr",
     "output_type": "stream",
     "text": [
      "                                                                                                    \r"
     ]
    },
    {
     "name": "stdout",
     "output_type": "stream",
     "text": [
      "Missing values (%):\n",
      " - AMT_PAYMENT_CURRENT: 767988 (20.00%)\n",
      " - AMT_DRAWINGS_ATM_CURRENT: 749816 (19.52%)\n",
      " - AMT_DRAWINGS_OTHER_CURRENT: 749816 (19.52%)\n",
      " - AMT_DRAWINGS_POS_CURRENT: 749816 (19.52%)\n",
      " - CNT_DRAWINGS_ATM_CURRENT: 749816 (19.52%)\n",
      " - CNT_DRAWINGS_OTHER_CURRENT: 749816 (19.52%)\n",
      " - CNT_DRAWINGS_POS_CURRENT: 749816 (19.52%)\n",
      " - AMT_INST_MIN_REGULARITY: 305236 (7.95%)\n",
      " - CNT_INSTALMENT_MATURE_CUM: 305236 (7.95%)\n"
     ]
    },
    {
     "name": "stderr",
     "output_type": "stream",
     "text": [
      "                                                                                                    \r"
     ]
    },
    {
     "name": "stdout",
     "output_type": "stream",
     "text": [
      "Duplicate SK_ID_CURR: 3736754\n"
     ]
    },
    {
     "name": "stderr",
     "output_type": "stream",
     "text": [
      "                                                                                                    \r"
     ]
    },
    {
     "name": "stdout",
     "output_type": "stream",
     "text": [
      "Duplicate rows (entire rows): 0\n",
      "Low-cardinality columns (≤ threshold):\n"
     ]
    },
    {
     "name": "stderr",
     "output_type": "stream",
     "text": [
      "[Stage 1115:>                                                                           (0 + 4) / 4]\r"
     ]
    },
    {
     "name": "stdout",
     "output_type": "stream",
     "text": [
      " - CNT_DRAWINGS_OTHER_CURRENT (double): 11 unique\n",
      " - NAME_CONTRACT_STATUS (string): 7 unique\n"
     ]
    },
    {
     "name": "stderr",
     "output_type": "stream",
     "text": [
      "                                                                                                    \r"
     ]
    },
    {
     "data": {
      "text/plain": [
       "['CNT_DRAWINGS_OTHER_CURRENT', 'NAME_CONTRACT_STATUS']"
      ]
     },
     "execution_count": 17,
     "metadata": {},
     "output_type": "execute_result"
    }
   ],
   "source": [
    "# 5.5 Credit Card Balance\n",
    "df_ccb = dfs['credit_card_balance']\n",
    "basic_profile(df_ccb, 'credit_card_balance')"
   ]
  },
  {
   "cell_type": "code",
   "execution_count": null,
   "metadata": {
    "execution": {
     "iopub.execute_input": "2025-05-20T10:46:04.664297Z",
     "iopub.status.busy": "2025-05-20T10:46:04.663933Z",
     "iopub.status.idle": "2025-05-20T10:48:09.875195Z",
     "shell.execute_reply": "2025-05-20T10:48:09.874311Z",
     "shell.execute_reply.started": "2025-05-20T10:46:04.664267Z"
    },
    "trusted": true
   },
   "outputs": [
    {
     "name": "stdout",
     "output_type": "stream",
     "text": [
      "\n",
      "=== POS_CASH_balance Basic Profile ===\n",
      "root\n",
      " |-- SK_ID_PREV: integer (nullable = true)\n",
      " |-- SK_ID_CURR: integer (nullable = true)\n",
      " |-- MONTHS_BALANCE: integer (nullable = true)\n",
      " |-- CNT_INSTALMENT: double (nullable = true)\n",
      " |-- CNT_INSTALMENT_FUTURE: double (nullable = true)\n",
      " |-- NAME_CONTRACT_STATUS: string (nullable = true)\n",
      " |-- SK_DPD: integer (nullable = true)\n",
      " |-- SK_DPD_DEF: integer (nullable = true)\n",
      "\n"
     ]
    },
    {
     "name": "stderr",
     "output_type": "stream",
     "text": [
      "                                                                                                    \r"
     ]
    },
    {
     "name": "stdout",
     "output_type": "stream",
     "text": [
      "Total rows: 10001358\n"
     ]
    },
    {
     "name": "stderr",
     "output_type": "stream",
     "text": [
      "                                                                                                    \r"
     ]
    },
    {
     "name": "stdout",
     "output_type": "stream",
     "text": [
      "Missing values (%):\n",
      " - CNT_INSTALMENT_FUTURE: 26087 (0.26%)\n",
      " - CNT_INSTALMENT: 26071 (0.26%)\n"
     ]
    },
    {
     "name": "stderr",
     "output_type": "stream",
     "text": [
      "                                                                                                    \r"
     ]
    },
    {
     "name": "stdout",
     "output_type": "stream",
     "text": [
      "Duplicate SK_ID_CURR: 9664106\n"
     ]
    },
    {
     "name": "stderr",
     "output_type": "stream",
     "text": [
      "25/05/20 10:46:50 WARN RowBasedKeyValueBatch: Calling spill() on RowBasedKeyValueBatch. Will not spill but return 0.\n",
      "25/05/20 10:46:50 WARN RowBasedKeyValueBatch: Calling spill() on RowBasedKeyValueBatch. Will not spill but return 0.\n",
      "25/05/20 10:46:50 WARN RowBasedKeyValueBatch: Calling spill() on RowBasedKeyValueBatch. Will not spill but return 0.\n",
      "25/05/20 10:46:50 WARN RowBasedKeyValueBatch: Calling spill() on RowBasedKeyValueBatch. Will not spill but return 0.\n",
      "25/05/20 10:46:58 WARN RowBasedKeyValueBatch: Calling spill() on RowBasedKeyValueBatch. Will not spill but return 0.\n",
      "25/05/20 10:46:58 WARN RowBasedKeyValueBatch: Calling spill() on RowBasedKeyValueBatch. Will not spill but return 0.\n",
      "25/05/20 10:46:58 WARN RowBasedKeyValueBatch: Calling spill() on RowBasedKeyValueBatch. Will not spill but return 0.\n",
      "25/05/20 10:46:58 WARN RowBasedKeyValueBatch: Calling spill() on RowBasedKeyValueBatch. Will not spill but return 0.\n",
      "                                                                                                    \r"
     ]
    },
    {
     "name": "stdout",
     "output_type": "stream",
     "text": [
      "Duplicate rows (entire rows): 0\n",
      "Low-cardinality columns (≤ threshold):\n"
     ]
    },
    {
     "name": "stderr",
     "output_type": "stream",
     "text": [
      "[Stage 1157:=========================================================>                  (3 + 1) / 4]\r"
     ]
    },
    {
     "name": "stdout",
     "output_type": "stream",
     "text": [
      " - NAME_CONTRACT_STATUS (string): 9 unique\n"
     ]
    },
    {
     "name": "stderr",
     "output_type": "stream",
     "text": [
      "                                                                                                    \r"
     ]
    },
    {
     "data": {
      "text/plain": [
       "['NAME_CONTRACT_STATUS']"
      ]
     },
     "execution_count": 18,
     "metadata": {},
     "output_type": "execute_result"
    }
   ],
   "source": [
    "# 5.6 POS_CASH Balance\n",
    "df_pos = dfs['POS_CASH_balance']\n",
    "basic_profile(df_pos, 'POS_CASH_balance')"
   ]
  },
  {
   "cell_type": "code",
   "execution_count": null,
   "metadata": {
    "execution": {
     "iopub.execute_input": "2025-05-20T10:48:09.876454Z",
     "iopub.status.busy": "2025-05-20T10:48:09.876156Z",
     "iopub.status.idle": "2025-05-20T10:51:07.403680Z",
     "shell.execute_reply": "2025-05-20T10:51:07.402402Z",
     "shell.execute_reply.started": "2025-05-20T10:48:09.876429Z"
    },
    "trusted": true
   },
   "outputs": [
    {
     "name": "stdout",
     "output_type": "stream",
     "text": [
      "\n",
      "=== installments_payments Basic Profile ===\n",
      "root\n",
      " |-- SK_ID_PREV: integer (nullable = true)\n",
      " |-- SK_ID_CURR: integer (nullable = true)\n",
      " |-- NUM_INSTALMENT_VERSION: double (nullable = true)\n",
      " |-- NUM_INSTALMENT_NUMBER: integer (nullable = true)\n",
      " |-- DAYS_INSTALMENT: double (nullable = true)\n",
      " |-- DAYS_ENTRY_PAYMENT: double (nullable = true)\n",
      " |-- AMT_INSTALMENT: double (nullable = true)\n",
      " |-- AMT_PAYMENT: double (nullable = true)\n",
      "\n"
     ]
    },
    {
     "name": "stderr",
     "output_type": "stream",
     "text": [
      "                                                                                                    \r"
     ]
    },
    {
     "name": "stdout",
     "output_type": "stream",
     "text": [
      "Total rows: 13605401\n"
     ]
    },
    {
     "name": "stderr",
     "output_type": "stream",
     "text": [
      "                                                                                                    \r"
     ]
    },
    {
     "name": "stdout",
     "output_type": "stream",
     "text": [
      "Missing values (%):\n",
      " - DAYS_ENTRY_PAYMENT: 2905 (0.02%)\n",
      " - AMT_PAYMENT: 2905 (0.02%)\n"
     ]
    },
    {
     "name": "stderr",
     "output_type": "stream",
     "text": [
      "                                                                                                    \r"
     ]
    },
    {
     "name": "stdout",
     "output_type": "stream",
     "text": [
      "Duplicate SK_ID_CURR: 13265814\n"
     ]
    },
    {
     "name": "stderr",
     "output_type": "stream",
     "text": [
      "25/05/20 10:48:54 WARN RowBasedKeyValueBatch: Calling spill() on RowBasedKeyValueBatch. Will not spill but return 0.\n",
      "25/05/20 10:48:54 WARN RowBasedKeyValueBatch: Calling spill() on RowBasedKeyValueBatch. Will not spill but return 0.\n",
      "25/05/20 10:48:54 WARN RowBasedKeyValueBatch: Calling spill() on RowBasedKeyValueBatch. Will not spill but return 0.\n",
      "25/05/20 10:48:54 WARN RowBasedKeyValueBatch: Calling spill() on RowBasedKeyValueBatch. Will not spill but return 0.\n",
      "25/05/20 10:49:03 WARN RowBasedKeyValueBatch: Calling spill() on RowBasedKeyValueBatch. Will not spill but return 0.\n",
      "25/05/20 10:49:04 WARN RowBasedKeyValueBatch: Calling spill() on RowBasedKeyValueBatch. Will not spill but return 0.\n",
      "25/05/20 10:49:04 WARN RowBasedKeyValueBatch: Calling spill() on RowBasedKeyValueBatch. Will not spill but return 0.\n",
      "25/05/20 10:49:04 WARN RowBasedKeyValueBatch: Calling spill() on RowBasedKeyValueBatch. Will not spill but return 0.\n",
      "                                                                                                    \r"
     ]
    },
    {
     "name": "stdout",
     "output_type": "stream",
     "text": [
      "Duplicate rows (entire rows): 0\n",
      "Low-cardinality columns (≤ threshold):\n"
     ]
    },
    {
     "name": "stderr",
     "output_type": "stream",
     "text": [
      "                                                                                                    \r"
     ]
    },
    {
     "data": {
      "text/plain": [
       "[]"
      ]
     },
     "execution_count": 19,
     "metadata": {},
     "output_type": "execute_result"
    }
   ],
   "source": [
    "# 5.7 Installments Payments\n",
    "df_inst = dfs['installments_payments']\n",
    "basic_profile(df_inst, 'installments_payments')"
   ]
  },
  {
   "cell_type": "markdown",
   "metadata": {},
   "source": [
    "## Aggregate from the vast datasets into the one data then do big EDA"
   ]
  },
  {
   "cell_type": "markdown",
   "metadata": {},
   "source": [
    "### Joining and feature engineer on bureau"
   ]
  },
  {
   "cell_type": "code",
   "execution_count": 20,
   "metadata": {
    "execution": {
     "iopub.execute_input": "2025-05-20T10:51:07.405005Z",
     "iopub.status.busy": "2025-05-20T10:51:07.404595Z",
     "iopub.status.idle": "2025-05-20T10:51:07.410383Z",
     "shell.execute_reply": "2025-05-20T10:51:07.409318Z",
     "shell.execute_reply.started": "2025-05-20T10:51:07.404982Z"
    },
    "trusted": true
   },
   "outputs": [],
   "source": [
    "# 1) Read in the Bureau tables\n",
    "df_bureau        = dfs['bureau']\n",
    "df_bureau_balance = dfs['bureau_balance']\n",
    "df_app           = dfs['application_train']"
   ]
  },
  {
   "cell_type": "code",
   "execution_count": 21,
   "metadata": {
    "execution": {
     "iopub.execute_input": "2025-05-20T10:51:07.411630Z",
     "iopub.status.busy": "2025-05-20T10:51:07.411296Z",
     "iopub.status.idle": "2025-05-20T10:51:26.784562Z",
     "shell.execute_reply": "2025-05-20T10:51:26.783575Z",
     "shell.execute_reply.started": "2025-05-20T10:51:07.411608Z"
    },
    "trusted": true
   },
   "outputs": [
    {
     "name": "stderr",
     "output_type": "stream",
     "text": [
      "[Stage 1202:===================>                                                        (1 + 3) / 4]\r"
     ]
    },
    {
     "name": "stdout",
     "output_type": "stream",
     "text": [
      "+------+\n",
      "|STATUS|\n",
      "+------+\n",
      "|     3|\n",
      "|     0|\n",
      "|     5|\n",
      "|     C|\n",
      "|     X|\n",
      "|     1|\n",
      "|     4|\n",
      "|     2|\n",
      "+------+\n",
      "\n"
     ]
    },
    {
     "name": "stderr",
     "output_type": "stream",
     "text": [
      "                                                                                                    \r"
     ]
    }
   ],
   "source": [
    "df_bureau_balance.select('STATUS').distinct().show()"
   ]
  },
  {
   "cell_type": "code",
   "execution_count": null,
   "metadata": {
    "execution": {
     "iopub.execute_input": "2025-05-20T10:51:26.786845Z",
     "iopub.status.busy": "2025-05-20T10:51:26.785678Z",
     "iopub.status.idle": "2025-05-20T10:51:27.031003Z",
     "shell.execute_reply": "2025-05-20T10:51:27.027681Z",
     "shell.execute_reply.started": "2025-05-20T10:51:26.786813Z"
    },
    "trusted": true
   },
   "outputs": [],
   "source": [
    "# Map STATUS → numeric severity as before\n",
    "status_map = F.create_map(\n",
    "    F.lit(\"0\"), F.lit(0),\n",
    "    F.lit(\"1\"), F.lit(1),\n",
    "    F.lit(\"2\"), F.lit(2),\n",
    "    F.lit(\"3\"), F.lit(3),\n",
    "    F.lit(\"4\"), F.lit(4),\n",
    "    F.lit(\"5\"), F.lit(5),\n",
    "    F.lit(\"C\"), F.lit(0),\n",
    "    F.lit(\"X\"), F.lit(None)\n",
    ")\n",
    "\n",
    "df_bb = dfs['bureau_balance']\n",
    "\n",
    "df_bb2 = (\n",
    "    df_bb\n",
    "      # 2) Absolute months ago\n",
    "      .withColumn(\"months_ago\", F.abs(F.col(\"MONTHS_BALANCE\")))\n",
    "      # 3) Severity\n",
    "      .withColumn(\"severity\", status_map[F.col(\"STATUS\")].cast(\"double\"))\n",
    ")\n",
    "\n",
    "# Compute exponential decay weight = exp(-λ * months_ago)\n",
    "λ = 0.1\n",
    "df_bb3 = df_bb2.withColumn(\"weight\", F.exp(-λ * F.col(\"months_ago\")))\n",
    "\n",
    "# Aggregate per client\n",
    "recency_feats = (\n",
    "    df_bb3\n",
    "      .groupBy(\"SK_ID_BUREAU\")\n",
    "      .agg(\n",
    "         # weighted sum of severity\n",
    "         F.sum(F.col(\"severity\") * F.col(\"weight\")).alias(\"sev_wt_sum\"),\n",
    "         # sum of weights\n",
    "         F.sum(\"weight\").alias(\"wt_sum\")\n",
    "      )\n",
    "      .withColumn(\n",
    "         \"recency_avg_severity\",\n",
    "         F.col(\"sev_wt_sum\") / F.col(\"wt_sum\")\n",
    "      )\n",
    ")"
   ]
  },
  {
   "cell_type": "code",
   "execution_count": null,
   "metadata": {
    "execution": {
     "iopub.execute_input": "2025-05-20T10:51:27.037760Z",
     "iopub.status.busy": "2025-05-20T10:51:27.034546Z",
     "iopub.status.idle": "2025-05-20T10:51:27.118023Z",
     "shell.execute_reply": "2025-05-20T10:51:27.116517Z",
     "shell.execute_reply.started": "2025-05-20T10:51:27.037708Z"
    },
    "trusted": true
   },
   "outputs": [],
   "source": [
    "df_bb3 = dfs['bureau_balance'] \\\n",
    "    .withColumn(\"sev\", status_map[F.col(\"STATUS\")].cast(\"integer\")) \\\n",
    "    .withColumn(\"months_ago\", F.abs(F.col(\"MONTHS_BALANCE\")))\n",
    "\n",
    "# Clients who ever hit sev>0\n",
    "ever_dpd = (\n",
    "    df_bb3\n",
    "      .filter(F.col(\"sev\") > 0)\n",
    "      .select(\"SK_ID_BUREAU\")\n",
    "      .distinct()\n",
    "      .withColumn(\"ever_dpd\", F.lit(1))\n",
    ")\n",
    "\n",
    "# Time since most recent DPD\n",
    "last_dpd = (\n",
    "    df_bb3\n",
    "      .filter(F.col(\"sev\") > 0)\n",
    "      .groupBy(\"SK_ID_BUREAU\")\n",
    "      .agg(F.min(\"months_ago\").alias(\"months_since_last_dpd\"))\n",
    ")"
   ]
  },
  {
   "cell_type": "code",
   "execution_count": 24,
   "metadata": {
    "execution": {
     "iopub.execute_input": "2025-05-20T10:51:27.121445Z",
     "iopub.status.busy": "2025-05-20T10:51:27.121114Z",
     "iopub.status.idle": "2025-05-20T10:51:48.899158Z",
     "shell.execute_reply": "2025-05-20T10:51:48.898136Z",
     "shell.execute_reply.started": "2025-05-20T10:51:27.121412Z"
    },
    "trusted": true
   },
   "outputs": [
    {
     "name": "stderr",
     "output_type": "stream",
     "text": [
      "[Stage 1205:=========================================================>                  (3 + 1) / 4]\r"
     ]
    },
    {
     "name": "stdout",
     "output_type": "stream",
     "text": [
      "+------------+--------+\n",
      "|SK_ID_BUREAU|ever_dpd|\n",
      "+------------+--------+\n",
      "|     5237445|       1|\n",
      "|     5264590|       1|\n",
      "|     5265133|       1|\n",
      "|     6565874|       1|\n",
      "|     5242223|       1|\n",
      "|     6587482|       1|\n",
      "|     6023179|       1|\n",
      "|     6566912|       1|\n",
      "|     5902213|       1|\n",
      "|     5833188|       1|\n",
      "+------------+--------+\n",
      "only showing top 10 rows\n",
      "\n"
     ]
    },
    {
     "name": "stderr",
     "output_type": "stream",
     "text": [
      "                                                                                                    \r"
     ]
    }
   ],
   "source": [
    "ever_dpd.show(10)"
   ]
  },
  {
   "cell_type": "code",
   "execution_count": 25,
   "metadata": {
    "execution": {
     "iopub.execute_input": "2025-05-20T10:51:48.902037Z",
     "iopub.status.busy": "2025-05-20T10:51:48.901336Z",
     "iopub.status.idle": "2025-05-20T10:52:11.324657Z",
     "shell.execute_reply": "2025-05-20T10:52:11.323639Z",
     "shell.execute_reply.started": "2025-05-20T10:51:48.902000Z"
    },
    "trusted": true
   },
   "outputs": [
    {
     "name": "stderr",
     "output_type": "stream",
     "text": [
      "[Stage 1208:=========================================================>                  (3 + 1) / 4]\r"
     ]
    },
    {
     "name": "stdout",
     "output_type": "stream",
     "text": [
      "+------------+---------------------+\n",
      "|SK_ID_BUREAU|months_since_last_dpd|\n",
      "+------------+---------------------+\n",
      "|     5237445|                   31|\n",
      "|     5264590|                   49|\n",
      "|     5265133|                   23|\n",
      "|     6565874|                   95|\n",
      "|     5242223|                   67|\n",
      "|     6587482|                    9|\n",
      "|     6023179|                   29|\n",
      "|     6566912|                   18|\n",
      "|     5902213|                   21|\n",
      "|     5833188|                    0|\n",
      "+------------+---------------------+\n",
      "only showing top 10 rows\n",
      "\n"
     ]
    },
    {
     "name": "stderr",
     "output_type": "stream",
     "text": [
      "                                                                                                    \r"
     ]
    }
   ],
   "source": [
    "last_dpd.show(10)"
   ]
  },
  {
   "cell_type": "markdown",
   "metadata": {},
   "source": [
    "1. Map and aggregate bureau‐balance status  \n",
    "– Translate each code in the STATUS column into a numeric “severity” score.  \n",
    "– Group by customer ID and compute, for each ID:  \n",
    "\n",
    "Total severity (e.g. sum of all mapped scores)  \n",
    "\n",
    "Average recency (e.g. mean time since each status event)  \n",
    "\n",
    "2. Derive DPD indicators  \n",
    "– ever_dpd: a binary flag indicating whether the customer has ever been delinquent (DPD).  \n",
    "– last_dpd: the recency (e.g. days since) of the most recent DPD event."
   ]
  },
  {
   "cell_type": "markdown",
   "metadata": {},
   "source": [
    "Combine the bureau_balance to bureau via SK_ID_CURR"
   ]
  },
  {
   "cell_type": "code",
   "execution_count": 26,
   "metadata": {
    "execution": {
     "iopub.execute_input": "2025-05-20T10:52:11.325861Z",
     "iopub.status.busy": "2025-05-20T10:52:11.325608Z",
     "iopub.status.idle": "2025-05-20T10:52:11.373635Z",
     "shell.execute_reply": "2025-05-20T10:52:11.372659Z",
     "shell.execute_reply.started": "2025-05-20T10:52:11.325841Z"
    },
    "trusted": true
   },
   "outputs": [],
   "source": [
    "b_df = (\n",
    "    df_bureau\n",
    "    .join(ever_dpd, on=\"SK_ID_BUREAU\", how=\"left\")\n",
    "    .join(last_dpd, on=\"SK_ID_BUREAU\", how=\"left\")\n",
    ")"
   ]
  },
  {
   "cell_type": "code",
   "execution_count": 27,
   "metadata": {
    "execution": {
     "iopub.execute_input": "2025-05-20T10:52:11.375433Z",
     "iopub.status.busy": "2025-05-20T10:52:11.375074Z",
     "iopub.status.idle": "2025-05-20T10:52:55.885964Z",
     "shell.execute_reply": "2025-05-20T10:52:55.883150Z",
     "shell.execute_reply.started": "2025-05-20T10:52:11.375408Z"
    },
    "trusted": true
   },
   "outputs": [
    {
     "name": "stderr",
     "output_type": "stream",
     "text": [
      "                                                                                                    \r"
     ]
    },
    {
     "name": "stdout",
     "output_type": "stream",
     "text": [
      "+------------+----------+-------------+---------------+-----------+------------------+-------------------+-----------------+----------------------+------------------+--------------+-------------------+--------------------+----------------------+---------------+------------------+-----------+--------+---------------------+\n",
      "|SK_ID_BUREAU|SK_ID_CURR|CREDIT_ACTIVE|CREDIT_CURRENCY|DAYS_CREDIT|CREDIT_DAY_OVERDUE|DAYS_CREDIT_ENDDATE|DAYS_ENDDATE_FACT|AMT_CREDIT_MAX_OVERDUE|CNT_CREDIT_PROLONG|AMT_CREDIT_SUM|AMT_CREDIT_SUM_DEBT|AMT_CREDIT_SUM_LIMIT|AMT_CREDIT_SUM_OVERDUE|    CREDIT_TYPE|DAYS_CREDIT_UPDATE|AMT_ANNUITY|ever_dpd|months_since_last_dpd|\n",
      "+------------+----------+-------------+---------------+-----------+------------------+-------------------+-----------------+----------------------+------------------+--------------+-------------------+--------------------+----------------------+---------------+------------------+-----------+--------+---------------------+\n",
      "|     5714465|    215354|       Active|     currency 1|       -203|                 0|               NULL|             NULL|                  NULL|                 0|       90000.0|               NULL|                NULL|                   0.0|    Credit card|               -16|       NULL|    NULL|                 NULL|\n",
      "|     5714462|    215354|       Closed|     currency 1|       -497|                 0|             -153.0|           -153.0|                  NULL|                 0|       91323.0|                0.0|                NULL|                   0.0|Consumer credit|              -131|       NULL|    NULL|                 NULL|\n",
      "|     5714468|    215354|       Active|     currency 1|        -43|                 0|               79.0|             NULL|                   0.0|                 0|       42103.8|            42103.8|                 0.0|                   0.0|Consumer credit|               -22|       NULL|    NULL|                 NULL|\n",
      "|     5714466|    215354|       Active|     currency 1|       -629|                 0|             1197.0|             NULL|               77674.5|                 0|     2700000.0|               NULL|                NULL|                   0.0|Consumer credit|               -21|       NULL|    NULL|                 NULL|\n",
      "|     5714469|    162297|       Closed|     currency 1|      -1896|                 0|            -1684.0|          -1710.0|               14985.0|                 0|      76878.45|                0.0|                 0.0|                   0.0|Consumer credit|             -1710|       NULL|    NULL|                 NULL|\n",
      "|     5714472|    162297|       Active|     currency 1|      -1146|                 0|             -180.0|             NULL|                   0.0|                 0|      337500.0|                0.0|                 0.0|                   0.0|    Credit card|              -690|       NULL|    NULL|                 NULL|\n",
      "|     5714470|    162297|       Closed|     currency 1|      -1146|                 0|             -811.0|           -840.0|                   0.0|                 0|      103007.7|                0.0|                 0.0|                   0.0|Consumer credit|              -840|       NULL|    NULL|                 NULL|\n",
      "|     5714463|    215354|       Active|     currency 1|       -208|                 0|             1075.0|             NULL|                  NULL|                 0|      225000.0|           171342.0|                NULL|                   0.0|    Credit card|               -20|       NULL|    NULL|                 NULL|\n",
      "|     5714471|    162297|       Active|     currency 1|      -1146|                 0|             -484.0|             NULL|                   0.0|                 0|        4500.0|                0.0|                 0.0|                   0.0|    Credit card|              -690|       NULL|    NULL|                 NULL|\n",
      "|     5714464|    215354|       Active|     currency 1|       -203|                 0|              528.0|             NULL|                  NULL|                 0|      464323.5|               NULL|                NULL|                   0.0|Consumer credit|               -16|       NULL|    NULL|                 NULL|\n",
      "+------------+----------+-------------+---------------+-----------+------------------+-------------------+-----------------+----------------------+------------------+--------------+-------------------+--------------------+----------------------+---------------+------------------+-----------+--------+---------------------+\n",
      "only showing top 10 rows\n",
      "\n"
     ]
    }
   ],
   "source": [
    "b_df.show(10)"
   ]
  },
  {
   "cell_type": "markdown",
   "metadata": {},
   "source": [
    "Aggregate all the bureau dataset by SK_ID_CURR"
   ]
  },
  {
   "cell_type": "code",
   "execution_count": null,
   "metadata": {
    "execution": {
     "iopub.execute_input": "2025-05-20T10:52:55.887804Z",
     "iopub.status.busy": "2025-05-20T10:52:55.887081Z",
     "iopub.status.idle": "2025-05-20T10:52:56.112181Z",
     "shell.execute_reply": "2025-05-20T10:52:56.111279Z",
     "shell.execute_reply.started": "2025-05-20T10:52:55.887760Z"
    },
    "trusted": true
   },
   "outputs": [],
   "source": [
    "agg_bureau = (\n",
    "    b_df.groupBy(\"SK_ID_CURR\")\n",
    "    .agg(\n",
    "        #mean rations\n",
    "        (F.sum(\"AMT_CREDIT_SUM_DEBT\")/ F.sum(\"AMT_CREDIT_SUM\")).alias(\"mean_debt_ratio\"),\n",
    "        (F.sum(\"AMT_CREDIT_SUM\")/ F.sum(\"AMT_CREDIT_SUM_LIMIT\")).alias(\"mean_utilization\"),\n",
    "        #overdue\n",
    "        F.greatest(\n",
    "            F.max(\"AMT_CREDIT_SUM_OVERDUE\"),\n",
    "            F.max(\"AMT_CREDIT_MAX_OVERDUE\")\n",
    "        ).alias(\"max_overdue\"),\n",
    "        #prolongs & annuity\n",
    "        F.sum(\"CNT_CREDIT_PROLONG\").alias(\"total_prolongs\"),\n",
    "        F.avg(\"AMT_ANNUITY\").alias(\"mean_annuity\"),\n",
    "        #age stats\n",
    "        F.avg(F.abs(\"DAYS_CREDIT\")).alias(\"mean_credit_age\"),\n",
    "        F.avg(\"DAYS_CREDIT_ENDDATE\").alias(\"mean_remaining\"),\n",
    "        F.avg(\"DAYS_ENDDATE_FACT\").alias(\"mean_time_since_end\"),\n",
    "        # categories\n",
    "        (F.sum((F.col(\"CREDIT_ACTIVE\")==\"Active\").cast(\"int\")) \n",
    "        / F.count(\"*\")).alias(\"active_ratio\"),\n",
    "        F.countDistinct(\"CREDIT_CURRENCY\").alias(\"currency_nunique\"), #count number of currencies client bureaued\n",
    "        F.countDistinct(\"CREDIT_TYPE\").alias(\"type_nunique\") #count number of type client bureaued\n",
    "    )\n",
    ")"
   ]
  },
  {
   "cell_type": "code",
   "execution_count": 29,
   "metadata": {
    "execution": {
     "iopub.execute_input": "2025-05-20T10:52:56.113434Z",
     "iopub.status.busy": "2025-05-20T10:52:56.113143Z",
     "iopub.status.idle": "2025-05-20T10:53:06.861519Z",
     "shell.execute_reply": "2025-05-20T10:53:06.860670Z",
     "shell.execute_reply.started": "2025-05-20T10:52:56.113407Z"
    },
    "trusted": true
   },
   "outputs": [
    {
     "name": "stderr",
     "output_type": "stream",
     "text": [
      "                                                                                                    \r"
     ]
    },
    {
     "name": "stdout",
     "output_type": "stream",
     "text": [
      "-RECORD 0-----------------------------------\n",
      " SK_ID_CURR          | 355377               \n",
      " mean_debt_ratio     | 0.18186893123234246  \n",
      " mean_utilization    | NULL                 \n",
      " max_overdue         | 0.0                  \n",
      " total_prolongs      | 0                    \n",
      " mean_annuity        | NULL                 \n",
      " mean_credit_age     | 1540.0               \n",
      " mean_remaining      | -593.0               \n",
      " mean_time_since_end | -1012.875            \n",
      " active_ratio        | 0.1111111111111111   \n",
      " currency_nunique    | 1                    \n",
      " type_nunique        | 2                    \n",
      "-RECORD 1-----------------------------------\n",
      " SK_ID_CURR          | 380065               \n",
      " mean_debt_ratio     | 0.0                  \n",
      " mean_utilization    | NULL                 \n",
      " max_overdue         | 0.0                  \n",
      " total_prolongs      | 0                    \n",
      " mean_annuity        | 0.0                  \n",
      " mean_credit_age     | 638.6666666666666    \n",
      " mean_remaining      | -206.0               \n",
      " mean_time_since_end | -200.0               \n",
      " active_ratio        | 0.3333333333333333   \n",
      " currency_nunique    | 1                    \n",
      " type_nunique        | 2                    \n",
      "-RECORD 2-----------------------------------\n",
      " SK_ID_CURR          | 416191               \n",
      " mean_debt_ratio     | 0.0                  \n",
      " mean_utilization    | NULL                 \n",
      " max_overdue         | 0.0                  \n",
      " total_prolongs      | 0                    \n",
      " mean_annuity        | NULL                 \n",
      " mean_credit_age     | 1429.0               \n",
      " mean_remaining      | -1123.0              \n",
      " mean_time_since_end | -1118.0              \n",
      " active_ratio        | 0.0                  \n",
      " currency_nunique    | 1                    \n",
      " type_nunique        | 1                    \n",
      "-RECORD 3-----------------------------------\n",
      " SK_ID_CURR          | 351175               \n",
      " mean_debt_ratio     | 0.14397395833333335  \n",
      " mean_utilization    | NULL                 \n",
      " max_overdue         | 0.0                  \n",
      " total_prolongs      | 0                    \n",
      " mean_annuity        | 4315.5               \n",
      " mean_credit_age     | 967.0                \n",
      " mean_remaining      | 1687.0               \n",
      " mean_time_since_end | -824.0               \n",
      " active_ratio        | 0.6666666666666666   \n",
      " currency_nunique    | 1                    \n",
      " type_nunique        | 3                    \n",
      "-RECORD 4-----------------------------------\n",
      " SK_ID_CURR          | 341687               \n",
      " mean_debt_ratio     | 0.058424115682707944 \n",
      " mean_utilization    | 23.82849737322969    \n",
      " max_overdue         | 11727.0              \n",
      " total_prolongs      | 0                    \n",
      " mean_annuity        | NULL                 \n",
      " mean_credit_age     | 1473.7               \n",
      " mean_remaining      | 2434.777777777778    \n",
      " mean_time_since_end | -1174.5555555555557  \n",
      " active_ratio        | 0.1                  \n",
      " currency_nunique    | 1                    \n",
      " type_nunique        | 2                    \n",
      "only showing top 5 rows\n",
      "\n"
     ]
    }
   ],
   "source": [
    "agg_bureau.show(n=5, truncate=False, vertical=True)"
   ]
  },
  {
   "cell_type": "markdown",
   "metadata": {},
   "source": [
    "## Aggregated Bureau Features Summary\n",
    "\n",
    "For each customer (`SK_ID_CURR`), the following features are computed from the bureau data:\n",
    "\n",
    "### Financial Ratios\n",
    "- **`mean_debt_ratio`**  \n",
    "  Average proportion of debt relative to total credit amount.\n",
    "\n",
    "- **`mean_utilization`**  \n",
    "  Average proportion of credit used compared to the credit limit.\n",
    "\n",
    "### Delinquency & Repayment Behavior\n",
    "- **`max_overdue`**  \n",
    "  The maximum overdue amount recorded across all credits.\n",
    "\n",
    "- **`total_prolongs`**  \n",
    "  Total number of times the client has extended or rolled over a credit.\n",
    "\n",
    "- **`mean_annuity`**  \n",
    "  Average scheduled payment amount across all credits.\n",
    "\n",
    "### Credit Duration Stats\n",
    "- **`mean_credit_age`**  \n",
    "  Average number of days since each credit account was opened.\n",
    "\n",
    "- **`mean_remaining`**  \n",
    "  Average number of days left until the scheduled end date of each credit.\n",
    "\n",
    "- **`mean_time_since_end`**  \n",
    "  Average number of days since the actual end of past credits.\n",
    "\n",
    "### Categorical and Status-Based Features\n",
    "- **`active_ratio`**  \n",
    "  Proportion of credit accounts currently marked as \"Active\".\n",
    "\n",
    "- **`currency_nunique`**  \n",
    "  Number of different currencies in which the client has borrowed.\n",
    "\n",
    "- **`type_nunique`**  \n",
    "  Number of unique credit product types the client has used.\n",
    "\n",
    "---\n",
    "\n",
    "These features summarize each client’s credit behavior, usage, risk, and portfolio diversity in a compact form.\n"
   ]
  },
  {
   "cell_type": "code",
   "execution_count": null,
   "metadata": {
    "execution": {
     "iopub.execute_input": "2025-05-20T10:53:06.862545Z",
     "iopub.status.busy": "2025-05-20T10:53:06.862228Z",
     "iopub.status.idle": "2025-05-20T10:53:06.870918Z",
     "shell.execute_reply": "2025-05-20T10:53:06.869572Z",
     "shell.execute_reply.started": "2025-05-20T10:53:06.862515Z"
    },
    "trusted": true
   },
   "outputs": [],
   "source": [
    "df_prev       = dfs['previous_application']\n",
    "df_pos        = dfs['POS_CASH_balance']\n",
    "df_credit     = dfs['credit_card_balance']\n",
    "df_install    = dfs['installments_payments']"
   ]
  },
  {
   "cell_type": "code",
   "execution_count": 31,
   "metadata": {
    "execution": {
     "iopub.execute_input": "2025-05-20T10:53:06.872142Z",
     "iopub.status.busy": "2025-05-20T10:53:06.871847Z",
     "iopub.status.idle": "2025-05-20T10:53:07.125974Z",
     "shell.execute_reply": "2025-05-20T10:53:07.124859Z",
     "shell.execute_reply.started": "2025-05-20T10:53:06.872115Z"
    },
    "trusted": true
   },
   "outputs": [],
   "source": [
    "prev_agg = (\n",
    "    df_prev\n",
    "      .groupBy('SK_ID_CURR')\n",
    "      .agg(\n",
    "        # counts & flags\n",
    "        F.count('*').alias('prev_app_count'),\n",
    "        F.sum((F.col('FLAG_LAST_APPL_PER_CONTRACT') == 1).cast('int')).alias('prev_last_per_contract_count'),\n",
    "        F.sum((F.col('NFLAG_LAST_APPL_IN_DAY') == 1).cast('int')).alias('prev_last_in_day_count'),\n",
    "        F.sum((F.col('NFLAG_INSURED_ON_APPROVAL') == 1).cast('int')).alias('prev_insured_count'),\n",
    "\n",
    "        # outcome ratios\n",
    "        F.sum((F.col('NAME_CONTRACT_STATUS') == 'Approved').cast('int')).alias('prev_status_approved'),\n",
    "        F.sum((F.col('NAME_CONTRACT_STATUS') == 'Refused').cast('int')).alias('prev_status_refused'),\n",
    "        F.sum((F.col('NAME_CONTRACT_STATUS') == 'Canceled').cast('int')).alias('prev_status_canceled'),\n",
    "\n",
    "        # amount statistics\n",
    "        F.avg('AMT_APPLICATION').alias('prev_amt_app_mean'),\n",
    "        F.avg('AMT_CREDIT').alias('prev_amt_credit_mean'),\n",
    "        F.avg('AMT_DOWN_PAYMENT').alias('prev_amt_down_pay_mean'),\n",
    "        F.avg('AMT_GOODS_PRICE').alias('prev_goods_price_mean'),\n",
    "        (F.sum('AMT_DOWN_PAYMENT') / F.sum('AMT_APPLICATION')).alias('prev_downpay_ratio'),\n",
    "        F.avg('RATE_DOWN_PAYMENT').alias('prev_rate_downpay_mean'),\n",
    "        F.avg('RATE_INTEREST_PRIMARY').alias('prev_rate_int_primary_mean'),\n",
    "        F.avg('RATE_INTEREST_PRIVILEGED').alias('prev_rate_int_privileged_mean'),\n",
    "        F.avg('AMT_ANNUITY').alias('prev_annuity_mean'),\n",
    "\n",
    "        # timing statistics (absolute days)\n",
    "        F.avg(F.abs(F.col('DAYS_DECISION'))).alias('prev_days_decision_mean'),\n",
    "        F.min(F.abs(F.col('DAYS_DECISION'))).alias('prev_days_decision_min'),\n",
    "        F.max(F.abs(F.col('DAYS_DECISION'))).alias('prev_days_decision_max'),\n",
    "        F.avg(F.abs(F.col('DAYS_FIRST_DRAWING'))).alias('prev_days_first_draw_mean'),\n",
    "        F.avg(F.abs(F.col('DAYS_FIRST_DUE'))).alias('prev_days_first_due_mean'),\n",
    "        F.avg(F.abs(F.col('DAYS_LAST_DUE_1ST_VERSION'))).alias('prev_days_last_due1_mean'),\n",
    "        F.avg(F.abs(F.col('DAYS_LAST_DUE'))).alias('prev_days_last_due_mean'),\n",
    "        F.avg(F.abs(F.col('DAYS_TERMINATION'))).alias('prev_days_termination_mean'),\n",
    "\n",
    "        # categorical cardinalities\n",
    "        F.countDistinct('NAME_CONTRACT_TYPE').alias('prev_contract_type_nunique'),\n",
    "        F.countDistinct('NAME_CASH_LOAN_PURPOSE').alias('prev_cash_loan_purpose_nunique'),\n",
    "        F.countDistinct('NAME_PAYMENT_TYPE').alias('prev_payment_type_nunique'),\n",
    "        F.countDistinct('CODE_REJECT_REASON').alias('prev_reject_reason_nunique'),\n",
    "        F.countDistinct('NAME_TYPE_SUITE').alias('prev_type_suite_nunique'),\n",
    "        F.countDistinct('NAME_CLIENT_TYPE').alias('prev_client_type_nunique'),\n",
    "        F.countDistinct('NAME_GOODS_CATEGORY').alias('prev_goods_category_nunique'),\n",
    "        F.countDistinct('NAME_PORTFOLIO').alias('prev_portfolio_nunique'),\n",
    "        F.countDistinct('NAME_PRODUCT_TYPE').alias('prev_product_type_nunique'),\n",
    "        F.countDistinct('CHANNEL_TYPE').alias('prev_channel_type_nunique'),\n",
    "        F.countDistinct('SELLERPLACE_AREA').alias('prev_seller_area_nunique'),\n",
    "        F.countDistinct('NAME_SELLER_INDUSTRY').alias('prev_seller_industry_nunique'),\n",
    "        F.countDistinct('NAME_YIELD_GROUP').alias('prev_yield_group_nunique'),\n",
    "        F.countDistinct('PRODUCT_COMBINATION').alias('prev_product_comb_nunique'),\n",
    "\n",
    "        # temporal variety\n",
    "        F.countDistinct('WEEKDAY_APPR_PROCESS_START').alias('prev_weekday_nunique'),\n",
    "        F.countDistinct('HOUR_APPR_PROCESS_START').alias('prev_hour_nunique')\n",
    "      )\n",
    ")\n"
   ]
  },
  {
   "cell_type": "markdown",
   "metadata": {},
   "source": [
    "## Aggregated Previous Applications Summary\n",
    "\n",
    "For each customer (`SK_ID_CURR`), the following features are computed from the `previous_application` data:\n",
    "\n",
    "### Application Counts and Flags\n",
    "- **`prev_app_count`**: Total number of previous applications.\n",
    "- **`prev_last_per_contract_count`**: Number of times the current application was the last per contract.\n",
    "- **`prev_last_in_day_count`**: Number of applications that were the last submitted in a day.\n",
    "- **`prev_insured_count`**: Number of applications where the client was insured upon approval.\n",
    "\n",
    "### Contract Status Counts\n",
    "- **`prev_status_approved`**: Count of approved applications.\n",
    "- **`prev_status_refused`**: Count of refused applications.\n",
    "- **`prev_status_canceled`**: Count of canceled applications.\n",
    "\n",
    "### Financial Amount Statistics\n",
    "- **`prev_amt_app_mean`**: Average application amount.\n",
    "- **`prev_amt_credit_mean`**: Average granted credit amount.\n",
    "- **`prev_amt_down_pay_mean`**: Average down payment amount.\n",
    "- **`prev_goods_price_mean`**: Average price of goods applied for.\n",
    "- **`prev_downpay_ratio`**: Total down payment divided by total application amount.\n",
    "- **`prev_rate_downpay_mean`**: Average down payment rate.\n",
    "- **`prev_rate_int_primary_mean`**: Average primary interest rate.\n",
    "- **`prev_rate_int_privileged_mean`**: Average privileged interest rate.\n",
    "- **`prev_annuity_mean`**: Average annuity amount.\n",
    "\n",
    "### Application Timing Statistics\n",
    "- **`prev_days_decision_mean`**: Average time since decision date (absolute days).\n",
    "- **`prev_days_decision_min`**: Closest decision date (minimum absolute days).\n",
    "- **`prev_days_decision_max`**: Furthest decision date (maximum absolute days).\n",
    "- **`prev_days_first_draw_mean`**: Average days until first drawing.\n",
    "- **`prev_days_first_due_mean`**: Average days until first payment was due.\n",
    "- **`prev_days_last_due1_mean`**: Average days until last due (1st version).\n",
    "- **`prev_days_last_due_mean`**: Average days until last due date.\n",
    "- **`prev_days_termination_mean`**: Average days until termination.\n",
    "\n",
    "### Categorical Feature Cardinalities\n",
    "- **`prev_contract_type_nunique`**: Unique contract types used.\n",
    "- **`prev_cash_loan_purpose_nunique`**: Unique cash loan purposes.\n",
    "- **`prev_payment_type_nunique`**: Unique payment types.\n",
    "- **`prev_reject_reason_nunique`**: Unique reasons for rejection.\n",
    "- **`prev_type_suite_nunique`**: Unique suite types.\n",
    "- **`prev_client_type_nunique`**: Unique client types.\n",
    "- **`prev_goods_category_nunique`**: Unique goods categories.\n",
    "- **`prev_portfolio_nunique`**: Unique portfolios.\n",
    "- **`prev_product_type_nunique`**: Unique product types.\n",
    "- **`prev_channel_type_nunique`**: Unique application channels.\n",
    "- **`prev_seller_area_nunique`**: Unique seller areas.\n",
    "- **`prev_seller_industry_nunique`**: Unique seller industries.\n",
    "- **`prev_yield_group_nunique`**: Unique yield groups.\n",
    "- **`prev_product_comb_nunique`**: Unique product combinations.\n",
    "\n",
    "### Temporal Diversity\n",
    "- **`prev_weekday_nunique`**: Number of unique weekdays applications were submitted.\n",
    "- **`prev_hour_nunique`**: Number of unique hours applications were submitted.\n",
    "\n",
    "---\n",
    "\n",
    "These features capture the customer’s historical application volume, outcomes, financial characteristics, and diversity in both product and timing.\n"
   ]
  },
  {
   "cell_type": "code",
   "execution_count": 32,
   "metadata": {
    "execution": {
     "iopub.execute_input": "2025-05-20T10:53:07.127475Z",
     "iopub.status.busy": "2025-05-20T10:53:07.127162Z",
     "iopub.status.idle": "2025-05-20T10:53:14.527920Z",
     "shell.execute_reply": "2025-05-20T10:53:14.526834Z",
     "shell.execute_reply.started": "2025-05-20T10:53:07.127447Z"
    },
    "trusted": true
   },
   "outputs": [
    {
     "name": "stderr",
     "output_type": "stream",
     "text": [
      "[Stage 1226:>                                                                           (0 + 4) / 4]\r"
     ]
    },
    {
     "name": "stdout",
     "output_type": "stream",
     "text": [
      "+--------------------+\n",
      "|NAME_CONTRACT_STATUS|\n",
      "+--------------------+\n",
      "|              Demand|\n",
      "|            Approved|\n",
      "|           Completed|\n",
      "|Returned to the s...|\n",
      "|                 XNA|\n",
      "|              Active|\n",
      "|              Signed|\n",
      "|            Canceled|\n",
      "|      Amortized debt|\n",
      "+--------------------+\n",
      "\n"
     ]
    },
    {
     "name": "stderr",
     "output_type": "stream",
     "text": [
      "                                                                                                    \r"
     ]
    }
   ],
   "source": [
    "df_pos.select(\"NAME_CONTRACT_STATUS\").distinct().show()"
   ]
  },
  {
   "cell_type": "code",
   "execution_count": null,
   "metadata": {
    "execution": {
     "iopub.execute_input": "2025-05-20T10:53:14.534904Z",
     "iopub.status.busy": "2025-05-20T10:53:14.534450Z",
     "iopub.status.idle": "2025-05-20T10:53:14.681652Z",
     "shell.execute_reply": "2025-05-20T10:53:14.680660Z",
     "shell.execute_reply.started": "2025-05-20T10:53:14.534869Z"
    },
    "trusted": true
   },
   "outputs": [],
   "source": [
    "pos_agg = (\n",
    "    df_pos\n",
    "      .groupBy(\"SK_ID_CURR\")\n",
    "      .agg(\n",
    "        # total history length\n",
    "        F.count(\"*\").alias(\"pos_months_count\"),\n",
    "        F.avg(\"CNT_INSTALMENT\").alias(\"pos_instal_mean\"),\n",
    "        F.avg(\"CNT_INSTALMENT_FUTURE\").alias(\"pos_instal_future_mean\"),\n",
    "\n",
    "        # contract‐status counts\n",
    "        F.sum((F.col(\"NAME_CONTRACT_STATUS\") == \"Active\").cast(\"int\")).alias(\"pos_status_active\"),\n",
    "        F.sum((F.col(\"NAME_CONTRACT_STATUS\") == \"Completed\").cast(\"int\")).alias(\"pos_status_completed\"),\n",
    "        F.sum((F.col(\"NAME_CONTRACT_STATUS\") == \"Demand\").cast(\"int\")).alias(\"pos_status_demand\"),\n",
    "        F.sum((F.col(\"NAME_CONTRACT_STATUS\") == \"Signed\").cast(\"int\")).alias(\"pos_status_signed\"),\n",
    "        F.sum((F.col(\"NAME_CONTRACT_STATUS\") == \"Returned to the store\").cast(\"int\")).alias(\"pos_status_returned\"),\n",
    "\n",
    "        # late vs on‐time as before\n",
    "        F.sum((F.col(\"NAME_CONTRACT_STATUS\") == \"Active\").cast(\"int\")).alias(\"pos_on_time\"),\n",
    "        F.sum((F.col(\"NAME_CONTRACT_STATUS\") != \"Active\").cast(\"int\")).alias(\"pos_not_on_time\")\n",
    "      )\n",
    "      .withColumn(\"pos_on_time_rate\", F.col(\"pos_on_time\") / F.col(\"pos_months_count\"))\n",
    "      # normalize each status by total months\n",
    "      .withColumn(\"pos_active_rate\",    F.col(\"pos_status_active\")   / F.col(\"pos_months_count\"))\n",
    "      .withColumn(\"pos_completed_rate\", F.col(\"pos_status_completed\")/ F.col(\"pos_months_count\"))\n",
    "      .withColumn(\"pos_demand_rate\",    F.col(\"pos_status_demand\")   / F.col(\"pos_months_count\"))\n",
    "      .withColumn(\"pos_signed_rate\",    F.col(\"pos_status_signed\")   / F.col(\"pos_months_count\"))\n",
    "      .withColumn(\"pos_returned_rate\",  F.col(\"pos_status_returned\") / F.col(\"pos_months_count\"))\n",
    ")"
   ]
  },
  {
   "cell_type": "markdown",
   "metadata": {},
   "source": [
    "## Aggregated POS_CASH Balance Summary\n",
    "\n",
    "For each customer (`SK_ID_CURR`), the following features are calculated from the `POS_CASH_balance` data:\n",
    "\n",
    "### Installment and History Stats\n",
    "- **`pos_months_count`**: Total number of months on record for POS contracts.\n",
    "- **`pos_instal_mean`**: Average number of total installments (`CNT_INSTALMENT`).\n",
    "- **`pos_instal_future_mean`**: Average number of remaining installments (`CNT_INSTALMENT_FUTURE`).\n",
    "\n",
    "### Contract Status Counts\n",
    "- **`pos_status_active`**: Count of \"Active\" status months.\n",
    "- **`pos_status_completed`**: Count of \"Completed\" status months.\n",
    "- **`pos_status_demand`**: Count of \"Demand\" status months.\n",
    "- **`pos_status_signed`**: Count of \"Signed\" status months.\n",
    "- **`pos_status_returned`**: Count of months when contracts were \"Returned to the store\".\n",
    "\n",
    "### On-Time vs. Not-On-Time Status\n",
    "- **`pos_on_time`**: Count of months with \"Active\" status (considered on-time).\n",
    "- **`pos_not_on_time`**: Count of months with any status other than \"Active\".\n",
    "\n",
    "### Normalized Contract Status Rates\n",
    "These represent the proportion of each status type over total months:\n",
    "- **`pos_on_time_rate`**: Ratio of on-time months to total POS months.\n",
    "- **`pos_active_rate`**: Proportion of months with \"Active\" status.\n",
    "- **`pos_completed_rate`**: Proportion of months with \"Completed\" status.\n",
    "- **`pos_demand_rate`**: Proportion of months with \"Demand\" status.\n",
    "- **`pos_signed_rate`**: Proportion of months with \"Signed\" status.\n",
    "- **`pos_returned_rate`**: Proportion of months with \"Returned to the store\" status.\n",
    "\n",
    "---\n",
    "\n",
    "These features describe a customer's POS contract activity, installment behavior, and repayment status trends over time.\n"
   ]
  },
  {
   "cell_type": "code",
   "execution_count": 34,
   "metadata": {
    "execution": {
     "iopub.execute_input": "2025-05-20T10:53:14.683050Z",
     "iopub.status.busy": "2025-05-20T10:53:14.682606Z",
     "iopub.status.idle": "2025-05-20T10:53:14.802643Z",
     "shell.execute_reply": "2025-05-20T10:53:14.801717Z",
     "shell.execute_reply.started": "2025-05-20T10:53:14.683018Z"
    },
    "trusted": true
   },
   "outputs": [],
   "source": [
    "inst_agg = (\n",
    "    df_install\n",
    "      .groupBy(\"SK_ID_CURR\")\n",
    "      .agg(\n",
    "        # volumes & stability\n",
    "        F.count(\"*\").alias(\"inst_payments_count\"),\n",
    "        F.countDistinct(\"NUM_INSTALMENT_VERSION\").alias(\"inst_versions_count\"),\n",
    "        F.max(\"NUM_INSTALMENT_NUMBER\").alias(\"inst_max_number\"),\n",
    "\n",
    "        # punctuality\n",
    "        F.avg((F.col(\"DAYS_ENTRY_PAYMENT\") - F.col(\"DAYS_INSTALMENT\"))).alias(\"inst_days_late_mean\"),\n",
    "        F.max((F.col(\"DAYS_ENTRY_PAYMENT\") - F.col(\"DAYS_INSTALMENT\"))).alias(\"inst_days_late_max\"),\n",
    "        F.min((F.col(\"DAYS_ENTRY_PAYMENT\") - F.col(\"DAYS_INSTALMENT\"))).alias(\"inst_days_early_min\"),\n",
    "        F.sum((F.col(\"DAYS_ENTRY_PAYMENT\") > F.col(\"DAYS_INSTALMENT\")).cast(\"int\")).alias(\"inst_late_count\"),\n",
    "\n",
    "        # payment volumes\n",
    "        F.avg(\"AMT_PAYMENT\").alias(\"inst_amt_paid_mean\"),\n",
    "        F.avg(\"AMT_INSTALMENT\").alias(\"inst_amt_due_mean\"),\n",
    "        F.avg((F.col(\"AMT_PAYMENT\") / F.col(\"AMT_INSTALMENT\"))).alias(\"inst_pay_ratio_mean\"),\n",
    "        F.stddev((F.col(\"AMT_PAYMENT\") / F.col(\"AMT_INSTALMENT\"))).alias(\"inst_pay_ratio_std\"),\n",
    "        F.sum((F.col(\"AMT_PAYMENT\") < F.col(\"AMT_INSTALMENT\")).cast(\"int\")).alias(\"inst_underpay_count\"),\n",
    "        F.sum((F.col(\"AMT_PAYMENT\") > F.col(\"AMT_INSTALMENT\")).cast(\"int\")).alias(\"inst_overpay_count\")\n",
    "      )\n",
    "      .withColumn(\"inst_late_rate\", F.col(\"inst_late_count\") / F.col(\"inst_payments_count\"))\n",
    ")"
   ]
  },
  {
   "cell_type": "markdown",
   "metadata": {},
   "source": [
    "## Aggregated Installment Payments Summary\n",
    "\n",
    "For each customer (`SK_ID_CURR`), the following features are computed from the `installments_payments` data:\n",
    "\n",
    "### Volume and Stability\n",
    "- **`inst_payments_count`**: Total number of installment records.\n",
    "- **`inst_versions_count`**: Number of unique installment plan versions (`NUM_INSTALMENT_VERSION`).\n",
    "- **`inst_max_number`**: Maximum number of installments scheduled (`NUM_INSTALMENT_NUMBER`).\n",
    "\n",
    "### Payment Punctuality\n",
    "- **`inst_days_late_mean`**: Average number of days late (or early, if negative) for payments.\n",
    "- **`inst_days_late_max`**: Maximum number of days a payment was late.\n",
    "- **`inst_days_early_min`**: Most early payment (minimum value, can be negative).\n",
    "- **`inst_late_count`**: Number of late payments (payment made after scheduled date).\n",
    "- **`inst_late_rate`**: Proportion of late payments over all installment records.\n",
    "\n",
    "### Payment Volumes and Ratios\n",
    "- **`inst_amt_paid_mean`**: Average payment amount.\n",
    "- **`inst_amt_due_mean`**: Average scheduled installment amount.\n",
    "- **`inst_pay_ratio_mean`**: Average ratio of paid amount to scheduled amount.\n",
    "- **`inst_pay_ratio_std`**: Standard deviation of the payment ratio.\n",
    "- **`inst_underpay_count`**: Number of underpayments (payment < installment).\n",
    "- **`inst_overpay_count`**: Number of overpayments (payment > installment).\n",
    "\n",
    "---\n",
    "\n",
    "These features summarize customer behavior in installment payments, including volume, punctuality, and consistency in meeting payment obligations.\n"
   ]
  },
  {
   "cell_type": "code",
   "execution_count": 35,
   "metadata": {
    "execution": {
     "iopub.execute_input": "2025-05-20T10:53:14.803955Z",
     "iopub.status.busy": "2025-05-20T10:53:14.803658Z",
     "iopub.status.idle": "2025-05-20T10:53:20.189407Z",
     "shell.execute_reply": "2025-05-20T10:53:20.188644Z",
     "shell.execute_reply.started": "2025-05-20T10:53:14.803927Z"
    },
    "trusted": true
   },
   "outputs": [
    {
     "name": "stderr",
     "output_type": "stream",
     "text": [
      "                                                                                                    \r"
     ]
    }
   ],
   "source": [
    "cc_agg = (\n",
    "    df_credit\n",
    "      .groupBy('SK_ID_CURR')\n",
    "      .agg(\n",
    "        F.count('*').alias('cc_months_count'),\n",
    "        # utilization\n",
    "        F.avg(F.col('AMT_BALANCE')/F.col('AMT_CREDIT_LIMIT_ACTUAL')).alias('cc_utilization_mean'),\n",
    "        F.max(F.col('AMT_BALANCE')/F.col('AMT_CREDIT_LIMIT_ACTUAL')).alias('cc_utilization_max'),\n",
    "        # draw behavior\n",
    "        F.sum('AMT_DRAWINGS_CURRENT').alias('cc_total_draw_sum'),\n",
    "        F.avg('CNT_DRAWINGS_ATM_CURRENT').alias('cc_atm_draw_count_mean'),\n",
    "        F.avg('CNT_DRAWINGS_POS_CURRENT').alias('cc_pos_draw_count_mean'),\n",
    "        # payment behavior\n",
    "        F.avg('AMT_PAYMENT_CURRENT').alias('cc_payment_mean'),\n",
    "        F.avg('AMT_PAYMENT_TOTAL_CURRENT').alias('cc_payment_total_mean'),\n",
    "        F.sum(F.when((F.col('AMT_PAYMENT_CURRENT')/F.col('AMT_TOTAL_RECEIVABLE')) < 1, 1).otherwise(0)).alias('cc_underpay_count'),\n",
    "        # receivable ratios\n",
    "        F.avg(F.col('AMT_RECEIVABLE_PRINCIPAL')/F.col('AMT_TOTAL_RECEIVABLE')).alias('cc_principal_ratio_mean'),\n",
    "        F.avg(F.col('AMT_TOTAL_RECEIVABLE')/F.col('AMT_CREDIT_LIMIT_ACTUAL')).alias('cc_receivable_limit_ratio_mean'),\n",
    "        # delay metrics\n",
    "        F.max('SK_DPD').alias('cc_max_dpd'),\n",
    "        F.sum((F.col('SK_DPD')>0).cast('int')).alias('cc_dpd_count'),\n",
    "        F.max('SK_DPD_DEF').alias('cc_max_dpd_def'),\n",
    "        # status distribution\n",
    "        *[F.sum((F.col('NAME_CONTRACT_STATUS')==status).cast('int')).alias(f\"cc_status_{status.lower().replace(' ','_')}\")\n",
    "          for status in df_credit.select('NAME_CONTRACT_STATUS').distinct().rdd.flatMap(lambda x: x).collect()]\n",
    "      )\n",
    ")"
   ]
  },
  {
   "cell_type": "markdown",
   "metadata": {},
   "source": [
    "## Aggregated Credit Card Balance Summary\n",
    "\n",
    "For each customer (`SK_ID_CURR`), the following features are computed from the `credit_card_balance` data:\n",
    "\n",
    "### Activity Volume\n",
    "- **`cc_months_count`**: Total number of months on record for credit card activity.\n",
    "\n",
    "### Utilization Behavior\n",
    "- **`cc_utilization_mean`**: Average balance-to-credit limit ratio.\n",
    "- **`cc_utilization_max`**: Maximum observed balance-to-credit limit ratio.\n",
    "\n",
    "### Drawing Behavior\n",
    "- **`cc_total_draw_sum`**: Total amount drawn using the credit card.\n",
    "- **`cc_atm_draw_count_mean`**: Average number of ATM draws per month.\n",
    "- **`cc_pos_draw_count_mean`**: Average number of POS draws per month.\n",
    "\n",
    "### Payment Behavior\n",
    "- **`cc_payment_mean`**: Average payment amount for the current period.\n",
    "- **`cc_payment_total_mean`**: Average total payment across all credit card accounts.\n",
    "- **`cc_underpay_count`**: Number of times the payment was less than the total receivable amount.\n",
    "\n",
    "### Receivable Ratios\n",
    "- **`cc_principal_ratio_mean`**: Average ratio of principal receivables to total receivables.\n",
    "- **`cc_receivable_limit_ratio_mean`**: Average ratio of total receivables to credit limit.\n",
    "\n",
    "### Delay and Delinquency Metrics\n",
    "- **`cc_max_dpd`**: Maximum number of days past due.\n",
    "- **`cc_dpd_count`**: Total number of months with any delay (`SK_DPD` > 0).\n",
    "- **`cc_max_dpd_def`**: Maximum number of days past due with default (`SK_DPD_DEF`).\n",
    "\n",
    "### Contract Status Counts\n",
    "- **`cc_status_<status>`**: Count of months for each unique contract status.  \n",
    "  (*E.g., `cc_status_active`, `cc_status_completed`, etc., generated dynamically from the data.*)\n",
    "\n",
    "---\n",
    "\n",
    "These features provide insights into credit card usage patterns, repayment behavior, and delinquency risk over time.\n"
   ]
  },
  {
   "cell_type": "code",
   "execution_count": 36,
   "metadata": {
    "execution": {
     "iopub.execute_input": "2025-05-20T10:53:20.190701Z",
     "iopub.status.busy": "2025-05-20T10:53:20.190437Z",
     "iopub.status.idle": "2025-05-20T10:53:31.028995Z",
     "shell.execute_reply": "2025-05-20T10:53:31.025663Z",
     "shell.execute_reply.started": "2025-05-20T10:53:20.190681Z"
    },
    "trusted": true
   },
   "outputs": [
    {
     "name": "stderr",
     "output_type": "stream",
     "text": [
      "[Stage 1232:=========================================================>                  (3 + 1) / 4]\r"
     ]
    },
    {
     "name": "stdout",
     "output_type": "stream",
     "text": [
      "-RECORD 0---------------------------------------------\n",
      " SK_ID_CURR                     | 294744              \n",
      " cc_months_count                | 96                  \n",
      " cc_utilization_mean            | 0.44092266666666663 \n",
      " cc_utilization_max             | 0.7989256666666666  \n",
      " cc_total_draw_sum              | 0.0                 \n",
      " cc_atm_draw_count_mean         | 0.0                 \n",
      " cc_pos_draw_count_mean         | 0.0                 \n",
      " cc_payment_mean                | 2335.0518749999997  \n",
      " cc_payment_total_mean          | 1781.7346875        \n",
      " cc_underpay_count              | 26                  \n",
      " cc_principal_ratio_mean        | 0.6626433933567041  \n",
      " cc_receivable_limit_ratio_mean | 0.44076941666666664 \n",
      " cc_max_dpd                     | 0                   \n",
      " cc_dpd_count                   | 0                   \n",
      " cc_max_dpd_def                 | 0                   \n",
      " cc_status_demand               | 0                   \n",
      " cc_status_approved             | 0                   \n",
      " cc_status_completed            | 0                   \n",
      " cc_status_active               | 96                  \n",
      " cc_status_signed               | 0                   \n",
      " cc_status_sent_proposal        | 0                   \n",
      " cc_status_refused              | 0                   \n",
      "-RECORD 1---------------------------------------------\n",
      " SK_ID_CURR                     | 348429              \n",
      " cc_months_count                | 38                  \n",
      " cc_utilization_mean            | 0.6524319406698564  \n",
      " cc_utilization_max             | 0.9999981           \n",
      " cc_total_draw_sum              | 1.6015600125E7      \n",
      " cc_atm_draw_count_mean         | 0.0                 \n",
      " cc_pos_draw_count_mean         | 60.473684210526315  \n",
      " cc_payment_mean                | 410169.6497368421   \n",
      " cc_payment_total_mean          | 388295.19000000006  \n",
      " cc_underpay_count              | 8                   \n",
      " cc_principal_ratio_mean        | 0.9720450245207333  \n",
      " cc_receivable_limit_ratio_mean | 0.6529149643540669  \n",
      " cc_max_dpd                     | 0                   \n",
      " cc_dpd_count                   | 0                   \n",
      " cc_max_dpd_def                 | 0                   \n",
      " cc_status_demand               | 0                   \n",
      " cc_status_approved             | 0                   \n",
      " cc_status_completed            | 0                   \n",
      " cc_status_active               | 38                  \n",
      " cc_status_signed               | 0                   \n",
      " cc_status_sent_proposal        | 0                   \n",
      " cc_status_refused              | 0                   \n",
      "-RECORD 2---------------------------------------------\n",
      " SK_ID_CURR                     | 188986              \n",
      " cc_months_count                | 30                  \n",
      " cc_utilization_mean            | 0.48772167921568627 \n",
      " cc_utilization_max             | 1.1154214705882353  \n",
      " cc_total_draw_sum              | 1986077.0699999998  \n",
      " cc_atm_draw_count_mean         | 6.555555555555555   \n",
      " cc_pos_draw_count_mean         | 0.37037037037037035 \n",
      " cc_payment_mean                | 97453.21833333334   \n",
      " cc_payment_total_mean          | 75448.4535          \n",
      " cc_underpay_count              | 20                  \n",
      " cc_principal_ratio_mean        | 0.9282756019513256  \n",
      " cc_receivable_limit_ratio_mean | 0.477146137385621   \n",
      " cc_max_dpd                     | 0                   \n",
      " cc_dpd_count                   | 0                   \n",
      " cc_max_dpd_def                 | 0                   \n",
      " cc_status_demand               | 0                   \n",
      " cc_status_approved             | 0                   \n",
      " cc_status_completed            | 0                   \n",
      " cc_status_active               | 30                  \n",
      " cc_status_signed               | 0                   \n",
      " cc_status_sent_proposal        | 0                   \n",
      " cc_status_refused              | 0                   \n",
      "-RECORD 3---------------------------------------------\n",
      " SK_ID_CURR                     | 393796              \n",
      " cc_months_count                | 25                  \n",
      " cc_utilization_mean            | 0.0                 \n",
      " cc_utilization_max             | 0.0                 \n",
      " cc_total_draw_sum              | 0.0                 \n",
      " cc_atm_draw_count_mean         | NULL                \n",
      " cc_pos_draw_count_mean         | NULL                \n",
      " cc_payment_mean                | NULL                \n",
      " cc_payment_total_mean          | 0.0                 \n",
      " cc_underpay_count              | 0                   \n",
      " cc_principal_ratio_mean        | NULL                \n",
      " cc_receivable_limit_ratio_mean | 0.0                 \n",
      " cc_max_dpd                     | 0                   \n",
      " cc_dpd_count                   | 0                   \n",
      " cc_max_dpd_def                 | 0                   \n",
      " cc_status_demand               | 0                   \n",
      " cc_status_approved             | 0                   \n",
      " cc_status_completed            | 0                   \n",
      " cc_status_active               | 25                  \n",
      " cc_status_signed               | 0                   \n",
      " cc_status_sent_proposal        | 0                   \n",
      " cc_status_refused              | 0                   \n",
      "-RECORD 4---------------------------------------------\n",
      " SK_ID_CURR                     | 119813              \n",
      " cc_months_count                | 96                  \n",
      " cc_utilization_mean            | 0.6688516739130436  \n",
      " cc_utilization_max             | 1.0681355000000001  \n",
      " cc_total_draw_sum              | 21150.0             \n",
      " cc_atm_draw_count_mean         | 0.08333333333333333 \n",
      " cc_pos_draw_count_mean         | 0.0                 \n",
      " cc_payment_mean                | 5726.288906250001   \n",
      " cc_payment_total_mean          | 1798.25203125       \n",
      " cc_underpay_count              | 23                  \n",
      " cc_principal_ratio_mean        | 0.6188483644906343  \n",
      " cc_receivable_limit_ratio_mean | 0.6682957608695652  \n",
      " cc_max_dpd                     | 1                   \n",
      " cc_dpd_count                   | 4                   \n",
      " cc_max_dpd_def                 | 1                   \n",
      " cc_status_demand               | 0                   \n",
      " cc_status_approved             | 0                   \n",
      " cc_status_completed            | 0                   \n",
      " cc_status_active               | 96                  \n",
      " cc_status_signed               | 0                   \n",
      " cc_status_sent_proposal        | 0                   \n",
      " cc_status_refused              | 0                   \n",
      "only showing top 5 rows\n",
      "\n"
     ]
    },
    {
     "name": "stderr",
     "output_type": "stream",
     "text": [
      "                                                                                                    \r"
     ]
    }
   ],
   "source": [
    "cc_agg.show(n=5, truncate=False, vertical=True)"
   ]
  },
  {
   "cell_type": "code",
   "execution_count": null,
   "metadata": {
    "execution": {
     "iopub.execute_input": "2025-05-20T10:53:31.030086Z",
     "iopub.status.busy": "2025-05-20T10:53:31.029801Z",
     "iopub.status.idle": "2025-05-20T10:53:31.225578Z",
     "shell.execute_reply": "2025-05-20T10:53:31.224515Z",
     "shell.execute_reply.started": "2025-05-20T10:53:31.030062Z"
    },
    "trusted": true
   },
   "outputs": [],
   "source": [
    "# joined all the aggregated dataframes into the application_train dataframe\n",
    "df_enriched = (\n",
    "    df_app\n",
    "    .join(prev_agg,'SK_ID_CURR','left')\n",
    "    .join(pos_agg,'SK_ID_CURR','left')\n",
    "    .join(inst_agg,'SK_ID_CURR','left')\n",
    "    .join(cc_agg,'SK_ID_CURR','left')\n",
    "    .join(agg_bureau,'SK_ID_CURR','left')\n",
    ")"
   ]
  },
  {
   "cell_type": "code",
   "execution_count": null,
   "metadata": {
    "execution": {
     "iopub.execute_input": "2025-05-20T10:53:31.226970Z",
     "iopub.status.busy": "2025-05-20T10:53:31.226464Z",
     "iopub.status.idle": "2025-05-20T10:53:31.233166Z",
     "shell.execute_reply": "2025-05-20T10:53:31.231303Z",
     "shell.execute_reply.started": "2025-05-20T10:53:31.226900Z"
    },
    "trusted": true
   },
   "outputs": [],
   "source": [
    "from pyspark.sql import DataFrame"
   ]
  },
  {
   "cell_type": "code",
   "execution_count": null,
   "metadata": {
    "execution": {
     "iopub.execute_input": "2025-05-20T10:53:31.234657Z",
     "iopub.status.busy": "2025-05-20T10:53:31.234314Z",
     "iopub.status.idle": "2025-05-20T10:53:31.254851Z",
     "shell.execute_reply": "2025-05-20T10:53:31.253662Z",
     "shell.execute_reply.started": "2025-05-20T10:53:31.234628Z"
    },
    "trusted": true
   },
   "outputs": [],
   "source": [
    "#  rechecking the basic profile of the enriched dataframe\n",
    "def basic_profile_2(df: DataFrame,\n",
    "                    name: str,\n",
    "                    cardinality_threshold: int = 20,\n",
    "                    low_thr: float = 5.0,\n",
    "                    med_thr: float = 20.0):\n",
    "    \"\"\"\n",
    "    Prints schema, row count, missing-value summary, duplicates and low-cardinality.\n",
    "    Returns three lists: (low_missing, moderate_missing, high_missing)\n",
    "    \"\"\"\n",
    "\n",
    "    print(f\"\\n=== {name} Basic Profile ===\")\n",
    "    df.printSchema()\n",
    "\n",
    "    # 1) Total rows\n",
    "    total_rows = df.count()\n",
    "    print(f\"Total rows: {total_rows}\")\n",
    "\n",
    "    # 2) Gather missing-value info\n",
    "    low_missing = []\n",
    "    moderate_missing = []\n",
    "    high_missing = []\n",
    "    for c in df.columns:\n",
    "        cnt = df.filter(F.col(c).isNull() | F.isnan(c)).count()\n",
    "        if cnt == 0:\n",
    "            continue\n",
    "        pct = cnt / total_rows * 100\n",
    "        if pct <= low_thr:\n",
    "            low_missing.append(c)\n",
    "        elif pct <= med_thr:\n",
    "            moderate_missing.append(c)\n",
    "        else:\n",
    "            high_missing.append(c)\n",
    "\n",
    "    # Print summary\n",
    "    if low_missing or moderate_missing or high_missing:\n",
    "        print(\"Missing-value categories:\")\n",
    "        if low_missing:\n",
    "            print(f\" - Low (≤{low_thr}%): {low_missing}\")\n",
    "        if moderate_missing:\n",
    "            print(f\" - Moderate (>{low_thr}–≤{med_thr}%): {moderate_missing}\")\n",
    "        if high_missing:\n",
    "            print(f\" - High (> {med_thr}%): {high_missing}\")\n",
    "    else:\n",
    "        print(\"No missing values detected.\")\n",
    "\n",
    "    # 3) Duplicates on SK_ID_CURR\n",
    "    if 'SK_ID_CURR' in df.columns:\n",
    "        dup_id = total_rows - df.dropDuplicates(['SK_ID_CURR']).count()\n",
    "        print(f\"Duplicate SK_ID_CURR: {dup_id}\")\n",
    "\n",
    "    # 4) Low-cardinality string/boolean columns\n",
    "    print(\"Low-cardinality columns (≤ threshold considered categorical):\")\n",
    "    low_card = []\n",
    "    for c, t in df.dtypes:\n",
    "        if t in ('string', 'boolean'):\n",
    "            uniq = df.agg(F.approx_count_distinct(c).alias('cnt')).collect()[0]['cnt']\n",
    "            if uniq <= cardinality_threshold:\n",
    "                low_card.append(c)\n",
    "    print(f\" - {low_card}\" if low_card else \" - None\")\n",
    "\n",
    "    return low_missing, moderate_missing, high_missing"
   ]
  },
  {
   "cell_type": "code",
   "execution_count": null,
   "metadata": {
    "execution": {
     "iopub.execute_input": "2025-05-20T10:53:31.258673Z",
     "iopub.status.busy": "2025-05-20T10:53:31.255972Z",
     "iopub.status.idle": "2025-05-20T11:09:40.431045Z",
     "shell.execute_reply": "2025-05-20T11:09:40.430076Z",
     "shell.execute_reply.started": "2025-05-20T10:53:31.258606Z"
    },
    "trusted": true
   },
   "outputs": [
    {
     "name": "stdout",
     "output_type": "stream",
     "text": [
      "\n",
      "=== df profile Basic Profile ===\n",
      "root\n",
      " |-- SK_ID_CURR: integer (nullable = true)\n",
      " |-- TARGET: integer (nullable = true)\n",
      " |-- NAME_CONTRACT_TYPE: string (nullable = true)\n",
      " |-- CODE_GENDER: string (nullable = true)\n",
      " |-- FLAG_OWN_CAR: string (nullable = true)\n",
      " |-- FLAG_OWN_REALTY: string (nullable = true)\n",
      " |-- CNT_CHILDREN: integer (nullable = true)\n",
      " |-- AMT_INCOME_TOTAL: double (nullable = true)\n",
      " |-- AMT_CREDIT: double (nullable = true)\n",
      " |-- AMT_ANNUITY: double (nullable = true)\n",
      " |-- AMT_GOODS_PRICE: double (nullable = true)\n",
      " |-- NAME_TYPE_SUITE: string (nullable = true)\n",
      " |-- NAME_INCOME_TYPE: string (nullable = true)\n",
      " |-- NAME_EDUCATION_TYPE: string (nullable = true)\n",
      " |-- NAME_FAMILY_STATUS: string (nullable = true)\n",
      " |-- NAME_HOUSING_TYPE: string (nullable = true)\n",
      " |-- REGION_POPULATION_RELATIVE: double (nullable = true)\n",
      " |-- DAYS_BIRTH: integer (nullable = true)\n",
      " |-- DAYS_EMPLOYED: integer (nullable = true)\n",
      " |-- DAYS_REGISTRATION: double (nullable = true)\n",
      " |-- DAYS_ID_PUBLISH: integer (nullable = true)\n",
      " |-- OWN_CAR_AGE: double (nullable = true)\n",
      " |-- FLAG_MOBIL: integer (nullable = true)\n",
      " |-- FLAG_EMP_PHONE: integer (nullable = true)\n",
      " |-- FLAG_WORK_PHONE: integer (nullable = true)\n",
      " |-- FLAG_CONT_MOBILE: integer (nullable = true)\n",
      " |-- FLAG_PHONE: integer (nullable = true)\n",
      " |-- FLAG_EMAIL: integer (nullable = true)\n",
      " |-- OCCUPATION_TYPE: string (nullable = true)\n",
      " |-- CNT_FAM_MEMBERS: double (nullable = true)\n",
      " |-- REGION_RATING_CLIENT: integer (nullable = true)\n",
      " |-- REGION_RATING_CLIENT_W_CITY: integer (nullable = true)\n",
      " |-- WEEKDAY_APPR_PROCESS_START: string (nullable = true)\n",
      " |-- HOUR_APPR_PROCESS_START: integer (nullable = true)\n",
      " |-- REG_REGION_NOT_LIVE_REGION: integer (nullable = true)\n",
      " |-- REG_REGION_NOT_WORK_REGION: integer (nullable = true)\n",
      " |-- LIVE_REGION_NOT_WORK_REGION: integer (nullable = true)\n",
      " |-- REG_CITY_NOT_LIVE_CITY: integer (nullable = true)\n",
      " |-- REG_CITY_NOT_WORK_CITY: integer (nullable = true)\n",
      " |-- LIVE_CITY_NOT_WORK_CITY: integer (nullable = true)\n",
      " |-- ORGANIZATION_TYPE: string (nullable = true)\n",
      " |-- EXT_SOURCE_1: double (nullable = true)\n",
      " |-- EXT_SOURCE_2: double (nullable = true)\n",
      " |-- EXT_SOURCE_3: double (nullable = true)\n",
      " |-- APARTMENTS_AVG: double (nullable = true)\n",
      " |-- BASEMENTAREA_AVG: double (nullable = true)\n",
      " |-- YEARS_BEGINEXPLUATATION_AVG: double (nullable = true)\n",
      " |-- YEARS_BUILD_AVG: double (nullable = true)\n",
      " |-- COMMONAREA_AVG: double (nullable = true)\n",
      " |-- ELEVATORS_AVG: double (nullable = true)\n",
      " |-- ENTRANCES_AVG: double (nullable = true)\n",
      " |-- FLOORSMAX_AVG: double (nullable = true)\n",
      " |-- FLOORSMIN_AVG: double (nullable = true)\n",
      " |-- LANDAREA_AVG: double (nullable = true)\n",
      " |-- LIVINGAPARTMENTS_AVG: double (nullable = true)\n",
      " |-- LIVINGAREA_AVG: double (nullable = true)\n",
      " |-- NONLIVINGAPARTMENTS_AVG: double (nullable = true)\n",
      " |-- NONLIVINGAREA_AVG: double (nullable = true)\n",
      " |-- APARTMENTS_MODE: double (nullable = true)\n",
      " |-- BASEMENTAREA_MODE: double (nullable = true)\n",
      " |-- YEARS_BEGINEXPLUATATION_MODE: double (nullable = true)\n",
      " |-- YEARS_BUILD_MODE: double (nullable = true)\n",
      " |-- COMMONAREA_MODE: double (nullable = true)\n",
      " |-- ELEVATORS_MODE: double (nullable = true)\n",
      " |-- ENTRANCES_MODE: double (nullable = true)\n",
      " |-- FLOORSMAX_MODE: double (nullable = true)\n",
      " |-- FLOORSMIN_MODE: double (nullable = true)\n",
      " |-- LANDAREA_MODE: double (nullable = true)\n",
      " |-- LIVINGAPARTMENTS_MODE: double (nullable = true)\n",
      " |-- LIVINGAREA_MODE: double (nullable = true)\n",
      " |-- NONLIVINGAPARTMENTS_MODE: double (nullable = true)\n",
      " |-- NONLIVINGAREA_MODE: double (nullable = true)\n",
      " |-- APARTMENTS_MEDI: double (nullable = true)\n",
      " |-- BASEMENTAREA_MEDI: double (nullable = true)\n",
      " |-- YEARS_BEGINEXPLUATATION_MEDI: double (nullable = true)\n",
      " |-- YEARS_BUILD_MEDI: double (nullable = true)\n",
      " |-- COMMONAREA_MEDI: double (nullable = true)\n",
      " |-- ELEVATORS_MEDI: double (nullable = true)\n",
      " |-- ENTRANCES_MEDI: double (nullable = true)\n",
      " |-- FLOORSMAX_MEDI: double (nullable = true)\n",
      " |-- FLOORSMIN_MEDI: double (nullable = true)\n",
      " |-- LANDAREA_MEDI: double (nullable = true)\n",
      " |-- LIVINGAPARTMENTS_MEDI: double (nullable = true)\n",
      " |-- LIVINGAREA_MEDI: double (nullable = true)\n",
      " |-- NONLIVINGAPARTMENTS_MEDI: double (nullable = true)\n",
      " |-- NONLIVINGAREA_MEDI: double (nullable = true)\n",
      " |-- FONDKAPREMONT_MODE: string (nullable = true)\n",
      " |-- HOUSETYPE_MODE: string (nullable = true)\n",
      " |-- TOTALAREA_MODE: double (nullable = true)\n",
      " |-- WALLSMATERIAL_MODE: string (nullable = true)\n",
      " |-- EMERGENCYSTATE_MODE: string (nullable = true)\n",
      " |-- OBS_30_CNT_SOCIAL_CIRCLE: double (nullable = true)\n",
      " |-- DEF_30_CNT_SOCIAL_CIRCLE: double (nullable = true)\n",
      " |-- OBS_60_CNT_SOCIAL_CIRCLE: double (nullable = true)\n",
      " |-- DEF_60_CNT_SOCIAL_CIRCLE: double (nullable = true)\n",
      " |-- DAYS_LAST_PHONE_CHANGE: double (nullable = true)\n",
      " |-- FLAG_DOCUMENT_2: integer (nullable = true)\n",
      " |-- FLAG_DOCUMENT_3: integer (nullable = true)\n",
      " |-- FLAG_DOCUMENT_4: integer (nullable = true)\n",
      " |-- FLAG_DOCUMENT_5: integer (nullable = true)\n",
      " |-- FLAG_DOCUMENT_6: integer (nullable = true)\n",
      " |-- FLAG_DOCUMENT_7: integer (nullable = true)\n",
      " |-- FLAG_DOCUMENT_8: integer (nullable = true)\n",
      " |-- FLAG_DOCUMENT_9: integer (nullable = true)\n",
      " |-- FLAG_DOCUMENT_10: integer (nullable = true)\n",
      " |-- FLAG_DOCUMENT_11: integer (nullable = true)\n",
      " |-- FLAG_DOCUMENT_12: integer (nullable = true)\n",
      " |-- FLAG_DOCUMENT_13: integer (nullable = true)\n",
      " |-- FLAG_DOCUMENT_14: integer (nullable = true)\n",
      " |-- FLAG_DOCUMENT_15: integer (nullable = true)\n",
      " |-- FLAG_DOCUMENT_16: integer (nullable = true)\n",
      " |-- FLAG_DOCUMENT_17: integer (nullable = true)\n",
      " |-- FLAG_DOCUMENT_18: integer (nullable = true)\n",
      " |-- FLAG_DOCUMENT_19: integer (nullable = true)\n",
      " |-- FLAG_DOCUMENT_20: integer (nullable = true)\n",
      " |-- FLAG_DOCUMENT_21: integer (nullable = true)\n",
      " |-- AMT_REQ_CREDIT_BUREAU_HOUR: double (nullable = true)\n",
      " |-- AMT_REQ_CREDIT_BUREAU_DAY: double (nullable = true)\n",
      " |-- AMT_REQ_CREDIT_BUREAU_WEEK: double (nullable = true)\n",
      " |-- AMT_REQ_CREDIT_BUREAU_MON: double (nullable = true)\n",
      " |-- AMT_REQ_CREDIT_BUREAU_QRT: double (nullable = true)\n",
      " |-- AMT_REQ_CREDIT_BUREAU_YEAR: double (nullable = true)\n",
      " |-- prev_app_count: long (nullable = true)\n",
      " |-- prev_last_per_contract_count: long (nullable = true)\n",
      " |-- prev_last_in_day_count: long (nullable = true)\n",
      " |-- prev_insured_count: long (nullable = true)\n",
      " |-- prev_status_approved: long (nullable = true)\n",
      " |-- prev_status_refused: long (nullable = true)\n",
      " |-- prev_status_canceled: long (nullable = true)\n",
      " |-- prev_amt_app_mean: double (nullable = true)\n",
      " |-- prev_amt_credit_mean: double (nullable = true)\n",
      " |-- prev_amt_down_pay_mean: double (nullable = true)\n",
      " |-- prev_goods_price_mean: double (nullable = true)\n",
      " |-- prev_downpay_ratio: double (nullable = true)\n",
      " |-- prev_rate_downpay_mean: double (nullable = true)\n",
      " |-- prev_rate_int_primary_mean: double (nullable = true)\n",
      " |-- prev_rate_int_privileged_mean: double (nullable = true)\n",
      " |-- prev_annuity_mean: double (nullable = true)\n",
      " |-- prev_days_decision_mean: double (nullable = true)\n",
      " |-- prev_days_decision_min: integer (nullable = true)\n",
      " |-- prev_days_decision_max: integer (nullable = true)\n",
      " |-- prev_days_first_draw_mean: double (nullable = true)\n",
      " |-- prev_days_first_due_mean: double (nullable = true)\n",
      " |-- prev_days_last_due1_mean: double (nullable = true)\n",
      " |-- prev_days_last_due_mean: double (nullable = true)\n",
      " |-- prev_days_termination_mean: double (nullable = true)\n",
      " |-- prev_contract_type_nunique: long (nullable = true)\n",
      " |-- prev_cash_loan_purpose_nunique: long (nullable = true)\n",
      " |-- prev_payment_type_nunique: long (nullable = true)\n",
      " |-- prev_reject_reason_nunique: long (nullable = true)\n",
      " |-- prev_type_suite_nunique: long (nullable = true)\n",
      " |-- prev_client_type_nunique: long (nullable = true)\n",
      " |-- prev_goods_category_nunique: long (nullable = true)\n",
      " |-- prev_portfolio_nunique: long (nullable = true)\n",
      " |-- prev_product_type_nunique: long (nullable = true)\n",
      " |-- prev_channel_type_nunique: long (nullable = true)\n",
      " |-- prev_seller_area_nunique: long (nullable = true)\n",
      " |-- prev_seller_industry_nunique: long (nullable = true)\n",
      " |-- prev_yield_group_nunique: long (nullable = true)\n",
      " |-- prev_product_comb_nunique: long (nullable = true)\n",
      " |-- prev_weekday_nunique: long (nullable = true)\n",
      " |-- prev_hour_nunique: long (nullable = true)\n",
      " |-- pos_months_count: long (nullable = true)\n",
      " |-- pos_instal_mean: double (nullable = true)\n",
      " |-- pos_instal_future_mean: double (nullable = true)\n",
      " |-- pos_status_active: long (nullable = true)\n",
      " |-- pos_status_completed: long (nullable = true)\n",
      " |-- pos_status_demand: long (nullable = true)\n",
      " |-- pos_status_signed: long (nullable = true)\n",
      " |-- pos_status_returned: long (nullable = true)\n",
      " |-- pos_on_time: long (nullable = true)\n",
      " |-- pos_not_on_time: long (nullable = true)\n",
      " |-- pos_on_time_rate: double (nullable = true)\n",
      " |-- pos_active_rate: double (nullable = true)\n",
      " |-- pos_completed_rate: double (nullable = true)\n",
      " |-- pos_demand_rate: double (nullable = true)\n",
      " |-- pos_signed_rate: double (nullable = true)\n",
      " |-- pos_returned_rate: double (nullable = true)\n",
      " |-- inst_payments_count: long (nullable = true)\n",
      " |-- inst_versions_count: long (nullable = true)\n",
      " |-- inst_max_number: integer (nullable = true)\n",
      " |-- inst_days_late_mean: double (nullable = true)\n",
      " |-- inst_days_late_max: double (nullable = true)\n",
      " |-- inst_days_early_min: double (nullable = true)\n",
      " |-- inst_late_count: long (nullable = true)\n",
      " |-- inst_amt_paid_mean: double (nullable = true)\n",
      " |-- inst_amt_due_mean: double (nullable = true)\n",
      " |-- inst_pay_ratio_mean: double (nullable = true)\n",
      " |-- inst_pay_ratio_std: double (nullable = true)\n",
      " |-- inst_underpay_count: long (nullable = true)\n",
      " |-- inst_overpay_count: long (nullable = true)\n",
      " |-- inst_late_rate: double (nullable = true)\n",
      " |-- cc_months_count: long (nullable = true)\n",
      " |-- cc_utilization_mean: double (nullable = true)\n",
      " |-- cc_utilization_max: double (nullable = true)\n",
      " |-- cc_total_draw_sum: double (nullable = true)\n",
      " |-- cc_atm_draw_count_mean: double (nullable = true)\n",
      " |-- cc_pos_draw_count_mean: double (nullable = true)\n",
      " |-- cc_payment_mean: double (nullable = true)\n",
      " |-- cc_payment_total_mean: double (nullable = true)\n",
      " |-- cc_underpay_count: long (nullable = true)\n",
      " |-- cc_principal_ratio_mean: double (nullable = true)\n",
      " |-- cc_receivable_limit_ratio_mean: double (nullable = true)\n",
      " |-- cc_max_dpd: integer (nullable = true)\n",
      " |-- cc_dpd_count: long (nullable = true)\n",
      " |-- cc_max_dpd_def: integer (nullable = true)\n",
      " |-- cc_status_demand: long (nullable = true)\n",
      " |-- cc_status_approved: long (nullable = true)\n",
      " |-- cc_status_completed: long (nullable = true)\n",
      " |-- cc_status_active: long (nullable = true)\n",
      " |-- cc_status_signed: long (nullable = true)\n",
      " |-- cc_status_sent_proposal: long (nullable = true)\n",
      " |-- cc_status_refused: long (nullable = true)\n",
      " |-- mean_debt_ratio: double (nullable = true)\n",
      " |-- mean_utilization: double (nullable = true)\n",
      " |-- max_overdue: double (nullable = true)\n",
      " |-- total_prolongs: long (nullable = true)\n",
      " |-- mean_annuity: double (nullable = true)\n",
      " |-- mean_credit_age: double (nullable = true)\n",
      " |-- mean_remaining: double (nullable = true)\n",
      " |-- mean_time_since_end: double (nullable = true)\n",
      " |-- active_ratio: double (nullable = true)\n",
      " |-- currency_nunique: long (nullable = true)\n",
      " |-- type_nunique: long (nullable = true)\n",
      "\n",
      "Total rows: 307511\n"
     ]
    },
    {
     "name": "stderr",
     "output_type": "stream",
     "text": [
      "                                                                                                    \r"
     ]
    },
    {
     "name": "stdout",
     "output_type": "stream",
     "text": [
      "Missing-value categories:\n",
      " - Low (≤5.0%): ['AMT_ANNUITY', 'AMT_GOODS_PRICE', 'NAME_TYPE_SUITE', 'CNT_FAM_MEMBERS', 'EXT_SOURCE_2', 'OBS_30_CNT_SOCIAL_CIRCLE', 'DEF_30_CNT_SOCIAL_CIRCLE', 'OBS_60_CNT_SOCIAL_CIRCLE', 'DEF_60_CNT_SOCIAL_CIRCLE', 'DAYS_LAST_PHONE_CHANGE']\n",
      " - Moderate (>5.0–≤20.0%): ['EXT_SOURCE_3', 'AMT_REQ_CREDIT_BUREAU_HOUR', 'AMT_REQ_CREDIT_BUREAU_DAY', 'AMT_REQ_CREDIT_BUREAU_WEEK', 'AMT_REQ_CREDIT_BUREAU_MON', 'AMT_REQ_CREDIT_BUREAU_QRT', 'AMT_REQ_CREDIT_BUREAU_YEAR', 'prev_app_count', 'prev_last_in_day_count', 'prev_insured_count', 'prev_status_approved', 'prev_status_refused', 'prev_status_canceled', 'prev_amt_app_mean', 'prev_amt_credit_mean', 'prev_amt_down_pay_mean', 'prev_goods_price_mean', 'prev_downpay_ratio', 'prev_rate_downpay_mean', 'prev_annuity_mean', 'prev_days_decision_mean', 'prev_days_decision_min', 'prev_days_decision_max', 'prev_days_first_draw_mean', 'prev_days_first_due_mean', 'prev_days_last_due1_mean', 'prev_days_last_due_mean', 'prev_days_termination_mean', 'prev_contract_type_nunique', 'prev_cash_loan_purpose_nunique', 'prev_payment_type_nunique', 'prev_reject_reason_nunique', 'prev_type_suite_nunique', 'prev_client_type_nunique', 'prev_goods_category_nunique', 'prev_portfolio_nunique', 'prev_product_type_nunique', 'prev_channel_type_nunique', 'prev_seller_area_nunique', 'prev_seller_industry_nunique', 'prev_yield_group_nunique', 'prev_product_comb_nunique', 'prev_weekday_nunique', 'prev_hour_nunique', 'pos_months_count', 'pos_instal_mean', 'pos_instal_future_mean', 'pos_status_active', 'pos_status_completed', 'pos_status_demand', 'pos_status_signed', 'pos_status_returned', 'pos_on_time', 'pos_not_on_time', 'pos_on_time_rate', 'pos_active_rate', 'pos_completed_rate', 'pos_demand_rate', 'pos_signed_rate', 'pos_returned_rate', 'inst_payments_count', 'inst_versions_count', 'inst_max_number', 'inst_days_late_mean', 'inst_days_late_max', 'inst_days_early_min', 'inst_late_count', 'inst_amt_paid_mean', 'inst_amt_due_mean', 'inst_pay_ratio_mean', 'inst_pay_ratio_std', 'inst_underpay_count', 'inst_overpay_count', 'inst_late_rate', 'mean_debt_ratio', 'max_overdue', 'total_prolongs', 'mean_credit_age', 'mean_remaining', 'active_ratio', 'currency_nunique', 'type_nunique']\n",
      " - High (> 20.0%): ['OWN_CAR_AGE', 'OCCUPATION_TYPE', 'EXT_SOURCE_1', 'APARTMENTS_AVG', 'BASEMENTAREA_AVG', 'YEARS_BEGINEXPLUATATION_AVG', 'YEARS_BUILD_AVG', 'COMMONAREA_AVG', 'ELEVATORS_AVG', 'ENTRANCES_AVG', 'FLOORSMAX_AVG', 'FLOORSMIN_AVG', 'LANDAREA_AVG', 'LIVINGAPARTMENTS_AVG', 'LIVINGAREA_AVG', 'NONLIVINGAPARTMENTS_AVG', 'NONLIVINGAREA_AVG', 'APARTMENTS_MODE', 'BASEMENTAREA_MODE', 'YEARS_BEGINEXPLUATATION_MODE', 'YEARS_BUILD_MODE', 'COMMONAREA_MODE', 'ELEVATORS_MODE', 'ENTRANCES_MODE', 'FLOORSMAX_MODE', 'FLOORSMIN_MODE', 'LANDAREA_MODE', 'LIVINGAPARTMENTS_MODE', 'LIVINGAREA_MODE', 'NONLIVINGAPARTMENTS_MODE', 'NONLIVINGAREA_MODE', 'APARTMENTS_MEDI', 'BASEMENTAREA_MEDI', 'YEARS_BEGINEXPLUATATION_MEDI', 'YEARS_BUILD_MEDI', 'COMMONAREA_MEDI', 'ELEVATORS_MEDI', 'ENTRANCES_MEDI', 'FLOORSMAX_MEDI', 'FLOORSMIN_MEDI', 'LANDAREA_MEDI', 'LIVINGAPARTMENTS_MEDI', 'LIVINGAREA_MEDI', 'NONLIVINGAPARTMENTS_MEDI', 'NONLIVINGAREA_MEDI', 'FONDKAPREMONT_MODE', 'HOUSETYPE_MODE', 'TOTALAREA_MODE', 'WALLSMATERIAL_MODE', 'EMERGENCYSTATE_MODE', 'prev_last_per_contract_count', 'prev_rate_int_primary_mean', 'prev_rate_int_privileged_mean', 'cc_months_count', 'cc_utilization_mean', 'cc_utilization_max', 'cc_total_draw_sum', 'cc_atm_draw_count_mean', 'cc_pos_draw_count_mean', 'cc_payment_mean', 'cc_payment_total_mean', 'cc_underpay_count', 'cc_principal_ratio_mean', 'cc_receivable_limit_ratio_mean', 'cc_max_dpd', 'cc_dpd_count', 'cc_max_dpd_def', 'cc_status_demand', 'cc_status_approved', 'cc_status_completed', 'cc_status_active', 'cc_status_signed', 'cc_status_sent_proposal', 'cc_status_refused', 'mean_utilization', 'mean_annuity', 'mean_time_since_end']\n"
     ]
    },
    {
     "name": "stderr",
     "output_type": "stream",
     "text": [
      "                                                                                                    \r"
     ]
    },
    {
     "name": "stdout",
     "output_type": "stream",
     "text": [
      "Duplicate SK_ID_CURR: 0\n",
      "Low-cardinality columns (≤ threshold considered categorical):\n"
     ]
    },
    {
     "name": "stderr",
     "output_type": "stream",
     "text": [
      "[Stage 2648:>                                                                           (0 + 4) / 4]\r"
     ]
    },
    {
     "name": "stdout",
     "output_type": "stream",
     "text": [
      " - ['NAME_CONTRACT_TYPE', 'CODE_GENDER', 'FLAG_OWN_CAR', 'FLAG_OWN_REALTY', 'NAME_TYPE_SUITE', 'NAME_INCOME_TYPE', 'NAME_EDUCATION_TYPE', 'NAME_FAMILY_STATUS', 'NAME_HOUSING_TYPE', 'OCCUPATION_TYPE', 'WEEKDAY_APPR_PROCESS_START', 'FONDKAPREMONT_MODE', 'HOUSETYPE_MODE', 'WALLSMATERIAL_MODE', 'EMERGENCYSTATE_MODE']\n"
     ]
    },
    {
     "name": "stderr",
     "output_type": "stream",
     "text": [
      "                                                                                                    \r"
     ]
    }
   ],
   "source": [
    "low, med, high = basic_profile_2(df_enriched, \"df profile\") # Checking the missing values in the dataframe then categorized into low, medium, high missing rates (around > 184500 rows)"
   ]
  },
  {
   "cell_type": "code",
   "execution_count": 41,
   "metadata": {
    "execution": {
     "iopub.execute_input": "2025-05-20T11:11:01.454702Z",
     "iopub.status.busy": "2025-05-20T11:11:01.454306Z",
     "iopub.status.idle": "2025-05-20T11:11:01.459588Z",
     "shell.execute_reply": "2025-05-20T11:11:01.458665Z",
     "shell.execute_reply.started": "2025-05-20T11:11:01.454672Z"
    },
    "trusted": true
   },
   "outputs": [],
   "source": [
    "low = ['AMT_ANNUITY',\n",
    " 'AMT_GOODS_PRICE',\n",
    " 'NAME_TYPE_SUITE',\n",
    " 'CNT_FAM_MEMBERS',\n",
    " 'EXT_SOURCE_2',\n",
    " 'OBS_30_CNT_SOCIAL_CIRCLE',\n",
    " 'DEF_30_CNT_SOCIAL_CIRCLE',\n",
    " 'OBS_60_CNT_SOCIAL_CIRCLE',\n",
    " 'DEF_60_CNT_SOCIAL_CIRCLE',\n",
    " 'DAYS_LAST_PHONE_CHANGE']"
   ]
  },
  {
   "cell_type": "code",
   "execution_count": 42,
   "metadata": {
    "execution": {
     "iopub.execute_input": "2025-05-20T11:11:04.462865Z",
     "iopub.status.busy": "2025-05-20T11:11:04.462451Z",
     "iopub.status.idle": "2025-05-20T11:11:04.469791Z",
     "shell.execute_reply": "2025-05-20T11:11:04.468802Z",
     "shell.execute_reply.started": "2025-05-20T11:11:04.462837Z"
    },
    "trusted": true
   },
   "outputs": [],
   "source": [
    "med = ['EXT_SOURCE_3',\n",
    " 'AMT_REQ_CREDIT_BUREAU_HOUR',\n",
    " 'AMT_REQ_CREDIT_BUREAU_DAY',\n",
    " 'AMT_REQ_CREDIT_BUREAU_WEEK',\n",
    " 'AMT_REQ_CREDIT_BUREAU_MON',\n",
    " 'AMT_REQ_CREDIT_BUREAU_QRT',\n",
    " 'AMT_REQ_CREDIT_BUREAU_YEAR',\n",
    " 'prev_app_count',\n",
    " 'prev_last_in_day_count',\n",
    " 'prev_insured_count',\n",
    " 'prev_status_approved',\n",
    " 'prev_status_refused',\n",
    " 'prev_status_canceled',\n",
    " 'prev_amt_app_mean',\n",
    " 'prev_amt_credit_mean',\n",
    " 'prev_amt_down_pay_mean',\n",
    " 'prev_goods_price_mean',\n",
    " 'prev_downpay_ratio',\n",
    " 'prev_rate_downpay_mean',\n",
    " 'prev_annuity_mean',\n",
    " 'prev_days_decision_mean',\n",
    " 'prev_days_decision_min',\n",
    " 'prev_days_decision_max',\n",
    " 'prev_days_first_draw_mean',\n",
    " 'prev_days_first_due_mean',\n",
    " 'prev_days_last_due1_mean',\n",
    " 'prev_days_last_due_mean',\n",
    " 'prev_days_termination_mean',\n",
    " 'prev_contract_type_nunique',\n",
    " 'prev_cash_loan_purpose_nunique',\n",
    " 'prev_payment_type_nunique',\n",
    " 'prev_reject_reason_nunique',\n",
    " 'prev_type_suite_nunique',\n",
    " 'prev_client_type_nunique',\n",
    " 'prev_goods_category_nunique',\n",
    " 'prev_portfolio_nunique',\n",
    " 'prev_product_type_nunique',\n",
    " 'prev_channel_type_nunique',\n",
    " 'prev_seller_area_nunique',\n",
    " 'prev_seller_industry_nunique',\n",
    " 'prev_yield_group_nunique',\n",
    " 'prev_product_comb_nunique',\n",
    " 'prev_weekday_nunique',\n",
    " 'prev_hour_nunique',\n",
    " 'pos_months_count',\n",
    " 'pos_instal_mean',\n",
    " 'pos_instal_future_mean',\n",
    " 'pos_status_active',\n",
    " 'pos_status_completed',\n",
    " 'pos_status_demand',\n",
    " 'pos_status_signed',\n",
    " 'pos_status_returned',\n",
    " 'pos_on_time',\n",
    " 'pos_not_on_time',\n",
    " 'pos_on_time_rate',\n",
    " 'pos_active_rate',\n",
    " 'pos_completed_rate',\n",
    " 'pos_demand_rate',\n",
    " 'pos_signed_rate',\n",
    " 'pos_returned_rate',\n",
    " 'inst_payments_count',\n",
    " 'inst_versions_count',\n",
    " 'inst_max_number',\n",
    " 'inst_days_late_mean',\n",
    " 'inst_days_late_max',\n",
    " 'inst_days_early_min',\n",
    " 'inst_late_count',\n",
    " 'inst_amt_paid_mean',\n",
    " 'inst_amt_due_mean',\n",
    " 'inst_pay_ratio_mean',\n",
    " 'inst_pay_ratio_std',\n",
    " 'inst_underpay_count',\n",
    " 'inst_overpay_count',\n",
    " 'inst_late_rate',\n",
    " 'mean_debt_ratio',\n",
    " 'max_overdue',\n",
    " 'total_prolongs',\n",
    " 'mean_credit_age',\n",
    " 'mean_remaining',\n",
    " 'active_ratio',\n",
    " 'currency_nunique',\n",
    " 'type_nunique']"
   ]
  },
  {
   "cell_type": "code",
   "execution_count": 43,
   "metadata": {
    "execution": {
     "iopub.execute_input": "2025-05-20T11:11:05.934009Z",
     "iopub.status.busy": "2025-05-20T11:11:05.933667Z",
     "iopub.status.idle": "2025-05-20T11:11:05.941373Z",
     "shell.execute_reply": "2025-05-20T11:11:05.940244Z",
     "shell.execute_reply.started": "2025-05-20T11:11:05.933988Z"
    },
    "trusted": true
   },
   "outputs": [],
   "source": [
    "high = ['OWN_CAR_AGE',\n",
    " 'OCCUPATION_TYPE',\n",
    " 'EXT_SOURCE_1',\n",
    " 'APARTMENTS_AVG',\n",
    " 'BASEMENTAREA_AVG',\n",
    " 'YEARS_BEGINEXPLUATATION_AVG',\n",
    " 'YEARS_BUILD_AVG',\n",
    " 'COMMONAREA_AVG',\n",
    " 'ELEVATORS_AVG',\n",
    " 'ENTRANCES_AVG',\n",
    " 'FLOORSMAX_AVG',\n",
    " 'FLOORSMIN_AVG',\n",
    " 'LANDAREA_AVG',\n",
    " 'LIVINGAPARTMENTS_AVG',\n",
    " 'LIVINGAREA_AVG',\n",
    " 'NONLIVINGAPARTMENTS_AVG',\n",
    " 'NONLIVINGAREA_AVG',\n",
    " 'APARTMENTS_MODE',\n",
    " 'BASEMENTAREA_MODE',\n",
    " 'YEARS_BEGINEXPLUATATION_MODE',\n",
    " 'YEARS_BUILD_MODE',\n",
    " 'COMMONAREA_MODE',\n",
    " 'ELEVATORS_MODE',\n",
    " 'ENTRANCES_MODE',\n",
    " 'FLOORSMAX_MODE',\n",
    " 'FLOORSMIN_MODE',\n",
    " 'LANDAREA_MODE',\n",
    " 'LIVINGAPARTMENTS_MODE',\n",
    " 'LIVINGAREA_MODE',\n",
    " 'NONLIVINGAPARTMENTS_MODE',\n",
    " 'NONLIVINGAREA_MODE',\n",
    " 'APARTMENTS_MEDI',\n",
    " 'BASEMENTAREA_MEDI',\n",
    " 'YEARS_BEGINEXPLUATATION_MEDI',\n",
    " 'YEARS_BUILD_MEDI',\n",
    " 'COMMONAREA_MEDI',\n",
    " 'ELEVATORS_MEDI',\n",
    " 'ENTRANCES_MEDI',\n",
    " 'FLOORSMAX_MEDI',\n",
    " 'FLOORSMIN_MEDI',\n",
    " 'LANDAREA_MEDI',\n",
    " 'LIVINGAPARTMENTS_MEDI',\n",
    " 'LIVINGAREA_MEDI',\n",
    " 'NONLIVINGAPARTMENTS_MEDI',\n",
    " 'NONLIVINGAREA_MEDI',\n",
    " 'FONDKAPREMONT_MODE',\n",
    " 'HOUSETYPE_MODE',\n",
    " 'TOTALAREA_MODE',\n",
    " 'WALLSMATERIAL_MODE',\n",
    " 'EMERGENCYSTATE_MODE',\n",
    " 'prev_last_per_contract_count',\n",
    " 'prev_rate_int_primary_mean',\n",
    " 'prev_rate_int_privileged_mean',\n",
    " 'cc_months_count',\n",
    " 'cc_utilization_mean',\n",
    " 'cc_utilization_max',\n",
    " 'cc_total_draw_sum',\n",
    " 'cc_atm_draw_count_mean',\n",
    " 'cc_pos_draw_count_mean',\n",
    " 'cc_payment_mean',\n",
    " 'cc_payment_total_mean',\n",
    " 'cc_underpay_count',\n",
    " 'cc_principal_ratio_mean',\n",
    " 'cc_receivable_limit_ratio_mean',\n",
    " 'cc_max_dpd',\n",
    " 'cc_dpd_count',\n",
    " 'cc_max_dpd_def',\n",
    " 'cc_status_demand',\n",
    " 'cc_status_approved',\n",
    " 'cc_status_completed',\n",
    " 'cc_status_active',\n",
    " 'cc_status_signed',\n",
    " 'cc_status_sent_proposal',\n",
    " 'cc_status_refused',\n",
    " 'mean_utilization',\n",
    " 'mean_annuity',\n",
    " 'mean_time_since_end']"
   ]
  },
  {
   "cell_type": "code",
   "execution_count": null,
   "metadata": {
    "execution": {
     "iopub.execute_input": "2025-05-20T11:11:10.293195Z",
     "iopub.status.busy": "2025-05-20T11:11:10.292913Z",
     "iopub.status.idle": "2025-05-20T11:11:10.328764Z",
     "shell.execute_reply": "2025-05-20T11:11:10.327777Z",
     "shell.execute_reply.started": "2025-05-20T11:11:10.293174Z"
    },
    "trusted": true
   },
   "outputs": [],
   "source": [
    "df_enriched_remove_cols = df_enriched.drop(*high) # Drop the column that has missing rates > 60% of the whole data which means around 184500 rows"
   ]
  },
  {
   "cell_type": "code",
   "execution_count": null,
   "metadata": {
    "execution": {
     "iopub.execute_input": "2025-05-20T11:11:16.060547Z",
     "iopub.status.busy": "2025-05-20T11:11:16.060245Z",
     "iopub.status.idle": "2025-05-20T11:11:16.109467Z",
     "shell.execute_reply": "2025-05-20T11:11:16.108428Z",
     "shell.execute_reply.started": "2025-05-20T11:11:16.060525Z"
    },
    "trusted": true
   },
   "outputs": [
    {
     "data": {
      "text/plain": [
       "147"
      ]
     },
     "execution_count": 45,
     "metadata": {},
     "output_type": "execute_result"
    }
   ],
   "source": [
    "len(df_enriched_remove_cols.columns) # 147 columns left after dropping the columns with high missing rates"
   ]
  },
  {
   "cell_type": "markdown",
   "metadata": {},
   "source": [
    "## Checking all the columns to decide which to keep"
   ]
  },
  {
   "cell_type": "code",
   "execution_count": null,
   "metadata": {
    "execution": {
     "iopub.execute_input": "2025-05-20T06:26:58.182165Z",
     "iopub.status.busy": "2025-05-20T06:26:58.181760Z",
     "iopub.status.idle": "2025-05-20T06:26:58.192478Z",
     "shell.execute_reply": "2025-05-20T06:26:58.191227Z",
     "shell.execute_reply.started": "2025-05-20T06:26:58.182142Z"
    },
    "trusted": true
   },
   "outputs": [
    {
     "name": "stdout",
     "output_type": "stream",
     "text": [
      "root\n",
      " |-- SK_ID_CURR: integer (nullable = true)\n",
      " |-- TARGET: integer (nullable = true)\n",
      " |-- NAME_CONTRACT_TYPE: string (nullable = true)\n",
      " |-- CODE_GENDER: string (nullable = true)\n",
      " |-- FLAG_OWN_CAR: string (nullable = true)\n",
      " |-- FLAG_OWN_REALTY: string (nullable = true)\n",
      " |-- CNT_CHILDREN: integer (nullable = true)\n",
      " |-- AMT_INCOME_TOTAL: double (nullable = true)\n",
      " |-- AMT_CREDIT: double (nullable = true)\n",
      " |-- AMT_ANNUITY: double (nullable = true)\n",
      " |-- AMT_GOODS_PRICE: double (nullable = true)\n",
      " |-- NAME_TYPE_SUITE: string (nullable = true)\n",
      " |-- NAME_INCOME_TYPE: string (nullable = true)\n",
      " |-- NAME_EDUCATION_TYPE: string (nullable = true)\n",
      " |-- NAME_FAMILY_STATUS: string (nullable = true)\n",
      " |-- NAME_HOUSING_TYPE: string (nullable = true)\n",
      " |-- REGION_POPULATION_RELATIVE: double (nullable = true)\n",
      " |-- DAYS_BIRTH: integer (nullable = true)\n",
      " |-- DAYS_EMPLOYED: integer (nullable = true)\n",
      " |-- DAYS_REGISTRATION: double (nullable = true)\n",
      " |-- DAYS_ID_PUBLISH: integer (nullable = true)\n",
      " |-- FLAG_MOBIL: integer (nullable = true)\n",
      " |-- FLAG_EMP_PHONE: integer (nullable = true)\n",
      " |-- FLAG_WORK_PHONE: integer (nullable = true)\n",
      " |-- FLAG_CONT_MOBILE: integer (nullable = true)\n",
      " |-- FLAG_PHONE: integer (nullable = true)\n",
      " |-- FLAG_EMAIL: integer (nullable = true)\n",
      " |-- CNT_FAM_MEMBERS: double (nullable = true)\n",
      " |-- REGION_RATING_CLIENT: integer (nullable = true)\n",
      " |-- REGION_RATING_CLIENT_W_CITY: integer (nullable = true)\n",
      " |-- WEEKDAY_APPR_PROCESS_START: string (nullable = true)\n",
      " |-- HOUR_APPR_PROCESS_START: integer (nullable = true)\n",
      " |-- REG_REGION_NOT_LIVE_REGION: integer (nullable = true)\n",
      " |-- REG_REGION_NOT_WORK_REGION: integer (nullable = true)\n",
      " |-- LIVE_REGION_NOT_WORK_REGION: integer (nullable = true)\n",
      " |-- REG_CITY_NOT_LIVE_CITY: integer (nullable = true)\n",
      " |-- REG_CITY_NOT_WORK_CITY: integer (nullable = true)\n",
      " |-- LIVE_CITY_NOT_WORK_CITY: integer (nullable = true)\n",
      " |-- ORGANIZATION_TYPE: string (nullable = true)\n",
      " |-- EXT_SOURCE_2: double (nullable = true)\n",
      " |-- EXT_SOURCE_3: double (nullable = true)\n",
      " |-- OBS_30_CNT_SOCIAL_CIRCLE: double (nullable = true)\n",
      " |-- DEF_30_CNT_SOCIAL_CIRCLE: double (nullable = true)\n",
      " |-- OBS_60_CNT_SOCIAL_CIRCLE: double (nullable = true)\n",
      " |-- DEF_60_CNT_SOCIAL_CIRCLE: double (nullable = true)\n",
      " |-- DAYS_LAST_PHONE_CHANGE: double (nullable = true)\n",
      " |-- FLAG_DOCUMENT_2: integer (nullable = true)\n",
      " |-- FLAG_DOCUMENT_3: integer (nullable = true)\n",
      " |-- FLAG_DOCUMENT_4: integer (nullable = true)\n",
      " |-- FLAG_DOCUMENT_5: integer (nullable = true)\n",
      " |-- FLAG_DOCUMENT_6: integer (nullable = true)\n",
      " |-- FLAG_DOCUMENT_7: integer (nullable = true)\n",
      " |-- FLAG_DOCUMENT_8: integer (nullable = true)\n",
      " |-- FLAG_DOCUMENT_9: integer (nullable = true)\n",
      " |-- FLAG_DOCUMENT_10: integer (nullable = true)\n",
      " |-- FLAG_DOCUMENT_11: integer (nullable = true)\n",
      " |-- FLAG_DOCUMENT_12: integer (nullable = true)\n",
      " |-- FLAG_DOCUMENT_13: integer (nullable = true)\n",
      " |-- FLAG_DOCUMENT_14: integer (nullable = true)\n",
      " |-- FLAG_DOCUMENT_15: integer (nullable = true)\n",
      " |-- FLAG_DOCUMENT_16: integer (nullable = true)\n",
      " |-- FLAG_DOCUMENT_17: integer (nullable = true)\n",
      " |-- FLAG_DOCUMENT_18: integer (nullable = true)\n",
      " |-- FLAG_DOCUMENT_19: integer (nullable = true)\n",
      " |-- FLAG_DOCUMENT_20: integer (nullable = true)\n",
      " |-- FLAG_DOCUMENT_21: integer (nullable = true)\n",
      " |-- AMT_REQ_CREDIT_BUREAU_HOUR: double (nullable = true)\n",
      " |-- AMT_REQ_CREDIT_BUREAU_DAY: double (nullable = true)\n",
      " |-- AMT_REQ_CREDIT_BUREAU_WEEK: double (nullable = true)\n",
      " |-- AMT_REQ_CREDIT_BUREAU_MON: double (nullable = true)\n",
      " |-- AMT_REQ_CREDIT_BUREAU_QRT: double (nullable = true)\n",
      " |-- AMT_REQ_CREDIT_BUREAU_YEAR: double (nullable = true)\n",
      " |-- prev_app_count: long (nullable = true)\n",
      " |-- prev_last_in_day_count: long (nullable = true)\n",
      " |-- prev_insured_count: long (nullable = true)\n",
      " |-- prev_status_approved: long (nullable = true)\n",
      " |-- prev_status_refused: long (nullable = true)\n",
      " |-- prev_status_canceled: long (nullable = true)\n",
      " |-- prev_amt_app_mean: double (nullable = true)\n",
      " |-- prev_amt_credit_mean: double (nullable = true)\n",
      " |-- prev_amt_down_pay_mean: double (nullable = true)\n",
      " |-- prev_goods_price_mean: double (nullable = true)\n",
      " |-- prev_downpay_ratio: double (nullable = true)\n",
      " |-- prev_rate_downpay_mean: double (nullable = true)\n",
      " |-- prev_annuity_mean: double (nullable = true)\n",
      " |-- prev_days_decision_mean: double (nullable = true)\n",
      " |-- prev_days_decision_min: integer (nullable = true)\n",
      " |-- prev_days_decision_max: integer (nullable = true)\n",
      " |-- prev_days_first_draw_mean: double (nullable = true)\n",
      " |-- prev_days_first_due_mean: double (nullable = true)\n",
      " |-- prev_days_last_due1_mean: double (nullable = true)\n",
      " |-- prev_days_last_due_mean: double (nullable = true)\n",
      " |-- prev_days_termination_mean: double (nullable = true)\n",
      " |-- prev_contract_type_nunique: long (nullable = true)\n",
      " |-- prev_cash_loan_purpose_nunique: long (nullable = true)\n",
      " |-- prev_payment_type_nunique: long (nullable = true)\n",
      " |-- prev_reject_reason_nunique: long (nullable = true)\n",
      " |-- prev_type_suite_nunique: long (nullable = true)\n",
      " |-- prev_client_type_nunique: long (nullable = true)\n",
      " |-- prev_goods_category_nunique: long (nullable = true)\n",
      " |-- prev_portfolio_nunique: long (nullable = true)\n",
      " |-- prev_product_type_nunique: long (nullable = true)\n",
      " |-- prev_channel_type_nunique: long (nullable = true)\n",
      " |-- prev_seller_area_nunique: long (nullable = true)\n",
      " |-- prev_seller_industry_nunique: long (nullable = true)\n",
      " |-- prev_yield_group_nunique: long (nullable = true)\n",
      " |-- prev_product_comb_nunique: long (nullable = true)\n",
      " |-- prev_weekday_nunique: long (nullable = true)\n",
      " |-- prev_hour_nunique: long (nullable = true)\n",
      " |-- pos_months_count: long (nullable = true)\n",
      " |-- pos_instal_mean: double (nullable = true)\n",
      " |-- pos_instal_future_mean: double (nullable = true)\n",
      " |-- pos_status_active: long (nullable = true)\n",
      " |-- pos_status_completed: long (nullable = true)\n",
      " |-- pos_status_demand: long (nullable = true)\n",
      " |-- pos_status_signed: long (nullable = true)\n",
      " |-- pos_status_returned: long (nullable = true)\n",
      " |-- pos_on_time: long (nullable = true)\n",
      " |-- pos_not_on_time: long (nullable = true)\n",
      " |-- pos_on_time_rate: double (nullable = true)\n",
      " |-- pos_active_rate: double (nullable = true)\n",
      " |-- pos_completed_rate: double (nullable = true)\n",
      " |-- pos_demand_rate: double (nullable = true)\n",
      " |-- pos_signed_rate: double (nullable = true)\n",
      " |-- pos_returned_rate: double (nullable = true)\n",
      " |-- inst_payments_count: long (nullable = true)\n",
      " |-- inst_versions_count: long (nullable = true)\n",
      " |-- inst_max_number: integer (nullable = true)\n",
      " |-- inst_days_late_mean: double (nullable = true)\n",
      " |-- inst_days_late_max: double (nullable = true)\n",
      " |-- inst_days_early_min: double (nullable = true)\n",
      " |-- inst_late_count: long (nullable = true)\n",
      " |-- inst_amt_paid_mean: double (nullable = true)\n",
      " |-- inst_amt_due_mean: double (nullable = true)\n",
      " |-- inst_pay_ratio_mean: double (nullable = true)\n",
      " |-- inst_pay_ratio_std: double (nullable = true)\n",
      " |-- inst_underpay_count: long (nullable = true)\n",
      " |-- inst_overpay_count: long (nullable = true)\n",
      " |-- inst_late_rate: double (nullable = true)\n",
      " |-- mean_debt_ratio: double (nullable = true)\n",
      " |-- max_overdue: double (nullable = true)\n",
      " |-- total_prolongs: long (nullable = true)\n",
      " |-- mean_credit_age: double (nullable = true)\n",
      " |-- mean_remaining: double (nullable = true)\n",
      " |-- active_ratio: double (nullable = true)\n",
      " |-- currency_nunique: long (nullable = true)\n",
      " |-- type_nunique: long (nullable = true)\n",
      "\n"
     ]
    }
   ],
   "source": [
    "df_enriched_remove_cols.printSchema() # Check the schema of the dataframe after dropping the columns with high missing rates"
   ]
  },
  {
   "cell_type": "code",
   "execution_count": null,
   "metadata": {
    "execution": {
     "iopub.execute_input": "2025-05-20T11:38:57.959140Z",
     "iopub.status.busy": "2025-05-20T11:38:57.958735Z",
     "iopub.status.idle": "2025-05-20T12:17:54.868645Z",
     "shell.execute_reply": "2025-05-20T12:17:54.867324Z",
     "shell.execute_reply.started": "2025-05-20T11:38:57.959110Z"
    },
    "trusted": true
   },
   "outputs": [
    {
     "name": "stdout",
     "output_type": "stream",
     "text": [
      "Numeric features sample: ['CNT_CHILDREN', 'AMT_INCOME_TOTAL', 'AMT_CREDIT', 'AMT_ANNUITY', 'AMT_GOODS_PRICE', 'REGION_POPULATION_RELATIVE', 'DAYS_BIRTH', 'DAYS_EMPLOYED', 'DAYS_REGISTRATION', 'DAYS_ID_PUBLISH']\n",
      "Categorical features sample: ['NAME_CONTRACT_TYPE', 'CODE_GENDER', 'FLAG_OWN_CAR', 'FLAG_OWN_REALTY', 'NAME_TYPE_SUITE', 'NAME_INCOME_TYPE', 'NAME_EDUCATION_TYPE', 'NAME_FAMILY_STATUS', 'NAME_HOUSING_TYPE', 'FLAG_MOBIL']\n"
     ]
    },
    {
     "name": "stderr",
     "output_type": "stream",
     "text": [
      "25/05/20 11:39:15 WARN QuantileDiscretizer: Some quantiles were identical. Bucketing to 4 buckets as a result.\n",
      "25/05/20 11:40:42 WARN QuantileDiscretizer: Some quantiles were identical. Bucketing to 4 buckets as a result.\n",
      "25/05/20 11:41:37 WARN QuantileDiscretizer: Some quantiles were identical. Bucketing to 6 buckets as a result.\n",
      "25/05/20 11:41:42 WARN QuantileDiscretizer: Some quantiles were identical. Bucketing to 3 buckets as a result.\n",
      "25/05/20 11:41:47 WARN QuantileDiscretizer: Some quantiles were identical. Bucketing to 6 buckets as a result.\n",
      "25/05/20 11:41:51 WARN QuantileDiscretizer: Some quantiles were identical. Bucketing to 2 buckets as a result.\n",
      "25/05/20 11:43:07 WARN QuantileDiscretizer: Some quantiles were identical. Bucketing to 2 buckets as a result.\n",
      "25/05/20 11:43:11 WARN QuantileDiscretizer: Some quantiles were identical. Bucketing to 2 buckets as a result.\n",
      "25/05/20 11:43:16 WARN QuantileDiscretizer: Some quantiles were identical. Bucketing to 2 buckets as a result.\n",
      "25/05/20 11:43:20 WARN QuantileDiscretizer: Some quantiles were identical. Bucketing to 3 buckets as a result.\n",
      "25/05/20 11:43:25 WARN QuantileDiscretizer: Some quantiles were identical. Bucketing to 3 buckets as a result.\n",
      "25/05/20 11:43:30 WARN QuantileDiscretizer: Some quantiles were identical. Bucketing to 6 buckets as a result.\n",
      "25/05/20 11:43:42 WARN QuantileDiscretizer: Some quantiles were identical. Bucketing to 9 buckets as a result.\n",
      "25/05/20 11:43:57 WARN QuantileDiscretizer: Some quantiles were identical. Bucketing to 9 buckets as a result.\n",
      "25/05/20 11:44:14 WARN QuantileDiscretizer: Some quantiles were identical. Bucketing to 5 buckets as a result.\n",
      "25/05/20 11:44:30 WARN QuantileDiscretizer: Some quantiles were identical. Bucketing to 6 buckets as a result.\n",
      "25/05/20 11:44:46 WARN QuantileDiscretizer: Some quantiles were identical. Bucketing to 4 buckets as a result.\n",
      "25/05/20 11:45:01 WARN QuantileDiscretizer: Some quantiles were identical. Bucketing to 5 buckets as a result.\n",
      "25/05/20 11:45:50 WARN QuantileDiscretizer: Some quantiles were identical. Bucketing to 9 buckets as a result.\n",
      "25/05/20 11:46:22 WARN QuantileDiscretizer: Some quantiles were identical. Bucketing to 9 buckets as a result.\n",
      "25/05/20 11:46:37 WARN QuantileDiscretizer: Some quantiles were identical. Bucketing to 9 buckets as a result.\n",
      "25/05/20 11:47:59 WARN QuantileDiscretizer: Some quantiles were identical. Bucketing to 3 buckets as a result.\n",
      "25/05/20 11:49:21 WARN QuantileDiscretizer: Some quantiles were identical. Bucketing to 3 buckets as a result.\n",
      "25/05/20 11:49:39 WARN QuantileDiscretizer: Some quantiles were identical. Bucketing to 3 buckets as a result.\n",
      "25/05/20 11:49:57 WARN QuantileDiscretizer: Some quantiles were identical. Bucketing to 3 buckets as a result.\n",
      "25/05/20 11:50:15 WARN QuantileDiscretizer: Some quantiles were identical. Bucketing to 3 buckets as a result.\n",
      "25/05/20 11:50:33 WARN QuantileDiscretizer: Some quantiles were identical. Bucketing to 4 buckets as a result.\n",
      "25/05/20 11:50:51 WARN QuantileDiscretizer: Some quantiles were identical. Bucketing to 3 buckets as a result.\n",
      "25/05/20 11:51:10 WARN QuantileDiscretizer: Some quantiles were identical. Bucketing to 5 buckets as a result.\n",
      "25/05/20 11:51:28 WARN QuantileDiscretizer: Some quantiles were identical. Bucketing to 4 buckets as a result.\n",
      "25/05/20 11:52:04 WARN QuantileDiscretizer: Some quantiles were identical. Bucketing to 4 buckets as a result.\n",
      "25/05/20 11:52:24 WARN QuantileDiscretizer: Some quantiles were identical. Bucketing to 5 buckets as a result.\n",
      "25/05/20 11:52:42 WARN QuantileDiscretizer: Some quantiles were identical. Bucketing to 4 buckets as a result.\n",
      "25/05/20 11:53:01 WARN QuantileDiscretizer: Some quantiles were identical. Bucketing to 4 buckets as a result.\n",
      "25/05/20 11:53:21 WARN QuantileDiscretizer: Some quantiles were identical. Bucketing to 7 buckets as a result.\n",
      "25/05/20 11:53:40 WARN QuantileDiscretizer: Some quantiles were identical. Bucketing to 5 buckets as a result.\n",
      "25/05/20 11:53:59 WARN QuantileDiscretizer: Some quantiles were identical. Bucketing to 7 buckets as a result.\n",
      "25/05/20 11:56:45 WARN QuantileDiscretizer: Some quantiles were identical. Bucketing to 6 buckets as a result.\n",
      "25/05/20 11:57:19 WARN QuantileDiscretizer: Some quantiles were identical. Bucketing to 2 buckets as a result.\n",
      "25/05/20 11:57:52 WARN QuantileDiscretizer: Some quantiles were identical. Bucketing to 3 buckets as a result.\n",
      "25/05/20 11:58:25 WARN QuantileDiscretizer: Some quantiles were identical. Bucketing to 2 buckets as a result.\n",
      "25/05/20 11:59:33 WARN QuantileDiscretizer: Some quantiles were identical. Bucketing to 6 buckets as a result.\n",
      "25/05/20 12:01:56 WARN QuantileDiscretizer: Some quantiles were identical. Bucketing to 2 buckets as a result.\n",
      "25/05/20 12:02:31 WARN QuantileDiscretizer: Some quantiles were identical. Bucketing to 3 buckets as a result.\n",
      "25/05/20 12:03:03 WARN QuantileDiscretizer: Some quantiles were identical. Bucketing to 2 buckets as a result.\n",
      "25/05/20 12:04:35 WARN QuantileDiscretizer: Some quantiles were identical. Bucketing to 5 buckets as a result.\n",
      "25/05/20 12:05:24 WARN QuantileDiscretizer: Some quantiles were identical. Bucketing to 9 buckets as a result.\n",
      "25/05/20 12:08:55 WARN QuantileDiscretizer: Some quantiles were identical. Bucketing to 7 buckets as a result.\n",
      "25/05/20 12:11:42 WARN QuantileDiscretizer: Some quantiles were identical. Bucketing to 6 buckets as a result.\n",
      "25/05/20 12:12:45 WARN QuantileDiscretizer: Some quantiles were identical. Bucketing to 6 buckets as a result.\n",
      "25/05/20 12:13:47 WARN QuantileDiscretizer: Some quantiles were identical. Bucketing to 5 buckets as a result.\n",
      "25/05/20 12:14:50 WARN QuantileDiscretizer: Some quantiles were identical. Bucketing to 3 buckets as a result.\n",
      "25/05/20 12:15:45 WARN QuantileDiscretizer: Some quantiles were identical. Bucketing to 7 buckets as a result.\n",
      "25/05/20 12:16:12 WARN QuantileDiscretizer: Some quantiles were identical. Bucketing to 9 buckets as a result.\n",
      "25/05/20 12:16:26 WARN QuantileDiscretizer: Some quantiles were identical. Bucketing to 4 buckets as a result.\n",
      "25/05/20 12:16:39 WARN QuantileDiscretizer: Some quantiles were identical. Bucketing to 2 buckets as a result.\n",
      "25/05/20 12:17:18 WARN QuantileDiscretizer: Some quantiles were identical. Bucketing to 9 buckets as a result.\n",
      "25/05/20 12:17:33 WARN QuantileDiscretizer: Some quantiles were identical. Bucketing to 2 buckets as a result.\n",
      "25/05/20 12:17:48 WARN QuantileDiscretizer: Some quantiles were identical. Bucketing to 3 buckets as a result.\n",
      "                                                                                                    \r"
     ]
    },
    {
     "name": "stdout",
     "output_type": "stream",
     "text": [
      "+---------------------------+--------------------+\n",
      "|feature                    |iv                  |\n",
      "+---------------------------+--------------------+\n",
      "|EXT_SOURCE_3               |0.3299366611444971  |\n",
      "|EXT_SOURCE_2               |0.3065605560293323  |\n",
      "|mean_credit_age            |0.12265263569985949 |\n",
      "|DAYS_EMPLOYED              |0.1110897439504079  |\n",
      "|mean_debt_ratio            |0.09955766745747271 |\n",
      "|active_ratio               |0.08453581792691661 |\n",
      "|DAYS_BIRTH                 |0.0842424081896839  |\n",
      "|ORGANIZATION_TYPE          |0.07336773969237431 |\n",
      "|mean_remaining             |0.0714231319358683  |\n",
      "|inst_late_rate             |0.06195243963415392 |\n",
      "|NAME_INCOME_TYPE           |0.05939734143979247 |\n",
      "|prev_status_refused        |0.053344468186253206|\n",
      "|AMT_GOODS_PRICE            |0.05228759741901649 |\n",
      "|inst_pay_ratio_mean        |0.05143885642806417 |\n",
      "|REGION_RATING_CLIENT_W_CITY|0.0512014970962462  |\n",
      "|NAME_EDUCATION_TYPE        |0.050835539651795755|\n",
      "|REGION_RATING_CLIENT       |0.04831690141757527 |\n",
      "|AMT_CREDIT                 |0.04710909605610455 |\n",
      "|DAYS_LAST_PHONE_CHANGE     |0.04689413585971801 |\n",
      "|prev_days_decision_mean    |0.04558683438803973 |\n",
      "+---------------------------+--------------------+\n",
      "only showing top 20 rows\n",
      "\n"
     ]
    }
   ],
   "source": [
    "from pyspark.sql.types import NumericType\n",
    "from pyspark.sql import functions as F\n",
    "from pyspark.ml.feature import QuantileDiscretizer\n",
    "from pyspark.sql.utils import AnalysisException\n",
    "from pyspark.sql import DataFrame\n",
    "\n",
    "TARGET_COL = 'TARGET'\n",
    "drop_cols = ['SK_ID_CURR', TARGET_COL]\n",
    "\n",
    "manual_categoricals = [\n",
    "    \"FLAG_MOBIL\", \"FLAG_EMP_PHONE\", \"FLAG_WORK_PHONE\",\n",
    "    \"FLAG_CONT_MOBILE\", \"FLAG_PHONE\", \"FLAG_EMAIL\",\n",
    "    \"REGION_RATING_CLIENT\", \"REGION_RATING_CLIENT_W_CITY\",\n",
    "    \"REG_CITY_NOT_LIVE_CITY\", \"REG_CITY_NOT_WORK_CITY\",\n",
    "    \"LIVE_CITY_NOT_WORK_CITY\",\n",
    "] + [f\"FLAG_DOCUMENT_{i}\" for i in range(2, 22)]\n",
    "\n",
    "# auto-detect numeric columns, excluding drop & manual cats\n",
    "numeric_cols = [\n",
    "    f.name\n",
    "    for f in df_enriched.schema.fields\n",
    "    if isinstance(f.dataType, NumericType)\n",
    "]\n",
    "numeric_cols = [\n",
    "    c for c in numeric_cols\n",
    "    if c not in drop_cols + manual_categoricals\n",
    "]\n",
    "\n",
    "# build categorical list\n",
    "all_cols = df_enriched.columns\n",
    "categorical_cols = [\n",
    "    c for c in all_cols\n",
    "    if c not in numeric_cols + drop_cols\n",
    "]\n",
    "\n",
    "print(\"Numeric features sample:\", numeric_cols[:10])\n",
    "print(\"Categorical features sample:\", categorical_cols[:10])\n",
    "\n",
    "# robust IV function\n",
    "def calc_iv(\n",
    "    df: DataFrame,\n",
    "    feature: str,\n",
    "    target: str = TARGET_COL,\n",
    "    numeric_cols: list = numeric_cols,\n",
    "    bins: int = 10,\n",
    "    eps: float = 1e-9\n",
    ") -> float:\n",
    "    # skip columns with ≤1 distinct value\n",
    "    distinct_cnt = df.agg(F.approx_count_distinct(feature).alias(\"d\"))\\\n",
    "                     .collect()[0][\"d\"]\n",
    "    if distinct_cnt <= 1:\n",
    "        return 0.0\n",
    "\n",
    "    # bucket creation\n",
    "    if feature in numeric_cols:\n",
    "        real_bins = min(bins, distinct_cnt)\n",
    "        try:\n",
    "            qd = QuantileDiscretizer(\n",
    "                numBuckets=real_bins,\n",
    "                inputCol=feature,\n",
    "                outputCol=\"__bucket\",\n",
    "                handleInvalid=\"keep\"\n",
    "            ).fit(df)\n",
    "            work = qd.transform(df).select(\"__bucket\", target)\\\n",
    "                     .withColumnRenamed(\"__bucket\", \"bucket\")\n",
    "        except AnalysisException:\n",
    "            # fallback if discretizer fails\n",
    "            work = df.select(F.lit(0).alias(\"bucket\"), target)\n",
    "    else:\n",
    "        work = df.select(feature, target).withColumnRenamed(feature, \"bucket\")\n",
    "\n",
    "    # aggregate goods/bads\n",
    "    agg = (work.groupBy(\"bucket\")\n",
    "               .agg(\n",
    "                   F.sum(F.when(F.col(target)==1, 1).otherwise(0)).alias(\"bad\"),\n",
    "                   F.sum(F.when(F.col(target)==0, 1).otherwise(0)).alias(\"good\")\n",
    "               ))\n",
    "    totals = work.agg(\n",
    "        F.sum(F.when(F.col(target)==1,1).otherwise(0)).alias(\"total_bad\"),\n",
    "        F.sum(F.when(F.col(target)==0,1).otherwise(0)).alias(\"total_good\")\n",
    "    ).collect()[0]\n",
    "    tb, tg = totals[\"total_bad\"], totals[\"total_good\"]\n",
    "\n",
    "    # compute IV\n",
    "    iv = (agg\n",
    "          .withColumn(\"dist_bad\",  F.col(\"bad\")  / (tb  + eps))\n",
    "          .withColumn(\"dist_good\", F.col(\"good\") / (tg  + eps))\n",
    "          .withColumn(\"woe\",       F.log((F.col(\"dist_good\")+eps) /\n",
    "                                         (F.col(\"dist_bad\")+eps)))\n",
    "          .withColumn(\"iv_part\",   (F.col(\"dist_good\")-F.col(\"dist_bad\")) *\n",
    "                                         F.col(\"woe\"))\n",
    "          .agg(F.sum(\"iv_part\").alias(\"iv\"))\n",
    "          .collect()[0][\"iv\"]\n",
    "    )\n",
    "    return float(iv or 0.0)\n",
    "\n",
    "# compute IV for all features except dropped ones\n",
    "iv_rows = [\n",
    "    (c, calc_iv(df_enriched_remove_cols, c))\n",
    "    for c in df_enriched_remove_cols.columns\n",
    "    if c not in drop_cols\n",
    "]\n",
    "iv_df = spark.createDataFrame(iv_rows, [\"feature\", \"iv\"])\\\n",
    "             .orderBy(F.desc(\"iv\"))\n",
    "\n",
    "iv_df.show(20, truncate=False)\n"
   ]
  },
  {
   "cell_type": "code",
   "execution_count": null,
   "metadata": {
    "execution": {
     "iopub.execute_input": "2025-05-20T12:18:18.758619Z",
     "iopub.status.busy": "2025-05-20T12:18:18.758213Z",
     "iopub.status.idle": "2025-05-20T12:18:19.760783Z",
     "shell.execute_reply": "2025-05-20T12:18:19.759659Z",
     "shell.execute_reply.started": "2025-05-20T12:18:18.758589Z"
    },
    "trusted": true
   },
   "outputs": [
    {
     "name": "stdout",
     "output_type": "stream",
     "text": [
      "+---------------------------+--------------------+-----------+\n",
      "|feature                    |iv                  |iv_strength|\n",
      "+---------------------------+--------------------+-----------+\n",
      "|EXT_SOURCE_3               |0.3299366611444971  |Strong     |\n",
      "|EXT_SOURCE_2               |0.3065605560293323  |Strong     |\n",
      "|mean_credit_age            |0.12265263569985949 |Medium     |\n",
      "|DAYS_EMPLOYED              |0.1110897439504079  |Medium     |\n",
      "|mean_debt_ratio            |0.09955766745747271 |Weak       |\n",
      "|active_ratio               |0.08453581792691661 |Weak       |\n",
      "|DAYS_BIRTH                 |0.0842424081896839  |Weak       |\n",
      "|ORGANIZATION_TYPE          |0.07336773969237431 |Weak       |\n",
      "|mean_remaining             |0.0714231319358683  |Weak       |\n",
      "|inst_late_rate             |0.06195243963415392 |Weak       |\n",
      "|NAME_INCOME_TYPE           |0.05939734143979247 |Weak       |\n",
      "|prev_status_refused        |0.053344468186253206|Weak       |\n",
      "|AMT_GOODS_PRICE            |0.05228759741901649 |Weak       |\n",
      "|inst_pay_ratio_mean        |0.05143885642806417 |Weak       |\n",
      "|REGION_RATING_CLIENT_W_CITY|0.0512014970962462  |Weak       |\n",
      "|NAME_EDUCATION_TYPE        |0.050835539651795755|Weak       |\n",
      "|REGION_RATING_CLIENT       |0.04831690141757527 |Weak       |\n",
      "|AMT_CREDIT                 |0.04710909605610455 |Weak       |\n",
      "|DAYS_LAST_PHONE_CHANGE     |0.04689413585971801 |Weak       |\n",
      "|prev_days_decision_mean    |0.04558683438803973 |Weak       |\n",
      "+---------------------------+--------------------+-----------+\n",
      "only showing top 20 rows\n",
      "\n",
      "Features to keep (IV ≥ 0.02): ['EXT_SOURCE_3', 'EXT_SOURCE_2', 'mean_credit_age', 'DAYS_EMPLOYED', 'mean_debt_ratio', 'active_ratio', 'DAYS_BIRTH', 'ORGANIZATION_TYPE', 'mean_remaining', 'inst_late_rate', 'NAME_INCOME_TYPE', 'prev_status_refused', 'AMT_GOODS_PRICE', 'inst_pay_ratio_mean', 'REGION_RATING_CLIENT_W_CITY', 'NAME_EDUCATION_TYPE', 'REGION_RATING_CLIENT', 'AMT_CREDIT', 'DAYS_LAST_PHONE_CHANGE', 'prev_days_decision_mean', 'prev_days_decision_max', 'prev_reject_reason_nunique', 'CODE_GENDER', 'DAYS_ID_PUBLISH', 'prev_days_first_due_mean', 'inst_days_late_max', 'inst_late_count', 'inst_pay_ratio_std', 'prev_days_first_draw_mean', 'FLAG_EMP_PHONE', 'REG_CITY_NOT_WORK_CITY', 'prev_amt_down_pay_mean', 'inst_underpay_count', 'max_overdue', 'inst_amt_paid_mean', 'pos_status_active', 'pos_on_time', 'pos_months_count', 'FLAG_DOCUMENT_3', 'inst_days_late_mean', 'REGION_POPULATION_RELATIVE', 'DAYS_REGISTRATION', 'AMT_ANNUITY', 'prev_days_last_due1_mean', 'prev_days_last_due_mean', 'pos_status_completed', 'prev_days_termination_mean', 'REG_CITY_NOT_LIVE_CITY', 'inst_amt_due_mean', 'prev_annuity_mean', 'NAME_FAMILY_STATUS', 'prev_status_approved', 'prev_downpay_ratio']\n"
     ]
    }
   ],
   "source": [
    "# Categorize each feature by IV strength\n",
    "iv_categorized = iv_df.withColumn(\n",
    "    \"iv_strength\",\n",
    "    F.when(F.col(\"iv\") > 0.3, \"Strong\")\n",
    "     .when((F.col(\"iv\") > 0.1) & (F.col(\"iv\") <= 0.3), \"Medium\")\n",
    "     .when((F.col(\"iv\") > 0.02) & (F.col(\"iv\") <= 0.1), \"Weak\")\n",
    "     .otherwise(\"Not Predictive\")\n",
    ")\n",
    "\n",
    "iv_categorized.show(truncate=False)\n",
    "\n",
    "# Pick features with at least “Weak” signal (IV ≥ 0.02)\n",
    "keep_df = iv_categorized.filter(F.col(\"iv\") >= 0.02).select(\"feature\")\n",
    "\n",
    "# Collect into a Python list for downstream use\n",
    "keep_list = [row[\"feature\"] for row in keep_df.collect()]\n",
    "\n",
    "print(\"Features to keep (IV ≥ 0.02):\", keep_list)"
   ]
  },
  {
   "cell_type": "markdown",
   "metadata": {},
   "source": [
    "## Information Value (IV) Calculation Overview\n",
    "\n",
    "This code performs Information Value (IV) analysis to evaluate and rank features based on their predictive power for a binary classification target (e.g., `TARGET` for default/no-default).\n",
    "\n",
    "---\n",
    "\n",
    "### 1. Setup and Feature Classification\n",
    "\n",
    "- **`drop_cols`**: Columns excluded from analysis (`SK_ID_CURR`, `TARGET`).\n",
    "- **`manual_categoricals`**: Predefined categorical columns (e.g., flags, document indicators).\n",
    "- **`numeric_cols`**: Auto-detected numeric columns (excluding drops and manual categoricals).\n",
    "- **`categorical_cols`**: All remaining columns not in `numeric_cols` or `drop_cols`.\n",
    "\n",
    "---\n",
    "\n",
    "### 2. IV Calculation Function: `calc_iv()`\n",
    "\n",
    "This function computes the IV for any feature using the following steps:\n",
    "\n",
    "- **Skip low-variance features**: Features with ≤1 unique value return an IV of `0.0`.\n",
    "- **Discretization**:\n",
    "  - For numeric features, use `QuantileDiscretizer` to create up to 10 bins.\n",
    "  - For categorical features, use raw category values.\n",
    "- **Bucket-level Aggregation**:\n",
    "  - Count `good` (target = 0) and `bad` (target = 1) instances per bucket.\n",
    "- **Calculate IV**:\n",
    "  - Compute the distribution of good and bad per bucket.\n",
    "  - Calculate Weight of Evidence (WOE).\n",
    "  - Compute IV contribution from each bucket.\n",
    "  - Sum all contributions to get the total IV for the feature.\n",
    "\n",
    "---\n",
    "\n",
    "### 3. Compute IV for All Features\n",
    "\n",
    "- Loops through all features in `df_enriched_remove_cols` except the dropped ones.\n",
    "- Applies `calc_iv()` to each.\n",
    "- Stores `(feature, iv)` pairs into a DataFrame `iv_df`.\n",
    "\n",
    "---\n",
    "\n",
    "### 4. Output\n",
    "\n",
    "- Sorts features by descending IV.\n",
    "- Displays the top 20 most predictive features based on IV.\n",
    "\n",
    "---\n",
    "\n",
    "### ✅ Purpose\n",
    "\n",
    "This process helps in:\n",
    "- **Feature selection** for binary classification tasks.\n",
    "- Identifying which variables have strong predictive power.\n",
    "- Supporting **interpretable modeling** like credit scoring or churn prediction.\n",
    "\n",
    "---\n"
   ]
  },
  {
   "cell_type": "code",
   "execution_count": 56,
   "metadata": {
    "execution": {
     "iopub.execute_input": "2025-05-20T12:18:28.679796Z",
     "iopub.status.busy": "2025-05-20T12:18:28.679354Z",
     "iopub.status.idle": "2025-05-20T12:18:28.687962Z",
     "shell.execute_reply": "2025-05-20T12:18:28.687074Z",
     "shell.execute_reply.started": "2025-05-20T12:18:28.679762Z"
    },
    "trusted": true
   },
   "outputs": [
    {
     "data": {
      "text/plain": [
       "['EXT_SOURCE_3',\n",
       " 'EXT_SOURCE_2',\n",
       " 'mean_credit_age',\n",
       " 'DAYS_EMPLOYED',\n",
       " 'mean_debt_ratio',\n",
       " 'active_ratio',\n",
       " 'DAYS_BIRTH',\n",
       " 'ORGANIZATION_TYPE',\n",
       " 'mean_remaining',\n",
       " 'inst_late_rate',\n",
       " 'NAME_INCOME_TYPE',\n",
       " 'prev_status_refused',\n",
       " 'AMT_GOODS_PRICE',\n",
       " 'inst_pay_ratio_mean',\n",
       " 'REGION_RATING_CLIENT_W_CITY',\n",
       " 'NAME_EDUCATION_TYPE',\n",
       " 'REGION_RATING_CLIENT',\n",
       " 'AMT_CREDIT',\n",
       " 'DAYS_LAST_PHONE_CHANGE',\n",
       " 'prev_days_decision_mean',\n",
       " 'prev_days_decision_max',\n",
       " 'prev_reject_reason_nunique',\n",
       " 'CODE_GENDER',\n",
       " 'DAYS_ID_PUBLISH',\n",
       " 'prev_days_first_due_mean',\n",
       " 'inst_days_late_max',\n",
       " 'inst_late_count',\n",
       " 'inst_pay_ratio_std',\n",
       " 'prev_days_first_draw_mean',\n",
       " 'FLAG_EMP_PHONE',\n",
       " 'REG_CITY_NOT_WORK_CITY',\n",
       " 'prev_amt_down_pay_mean',\n",
       " 'inst_underpay_count',\n",
       " 'max_overdue',\n",
       " 'inst_amt_paid_mean',\n",
       " 'pos_status_active',\n",
       " 'pos_on_time',\n",
       " 'pos_months_count',\n",
       " 'FLAG_DOCUMENT_3',\n",
       " 'inst_days_late_mean',\n",
       " 'REGION_POPULATION_RELATIVE',\n",
       " 'DAYS_REGISTRATION',\n",
       " 'AMT_ANNUITY',\n",
       " 'prev_days_last_due1_mean',\n",
       " 'prev_days_last_due_mean',\n",
       " 'pos_status_completed',\n",
       " 'prev_days_termination_mean',\n",
       " 'REG_CITY_NOT_LIVE_CITY',\n",
       " 'inst_amt_due_mean',\n",
       " 'prev_annuity_mean',\n",
       " 'NAME_FAMILY_STATUS',\n",
       " 'prev_status_approved',\n",
       " 'prev_downpay_ratio']"
      ]
     },
     "execution_count": 56,
     "metadata": {},
     "output_type": "execute_result"
    }
   ],
   "source": [
    "keep_list"
   ]
  },
  {
   "cell_type": "code",
   "execution_count": 54,
   "metadata": {
    "execution": {
     "iopub.execute_input": "2025-05-20T08:05:59.366624Z",
     "iopub.status.busy": "2025-05-20T08:05:59.365593Z",
     "iopub.status.idle": "2025-05-20T08:05:59.371396Z",
     "shell.execute_reply": "2025-05-20T08:05:59.370254Z",
     "shell.execute_reply.started": "2025-05-20T08:05:59.366587Z"
    },
    "trusted": true
   },
   "outputs": [],
   "source": [
    "pd.set_option(\"display.max_columns\", None)\n",
    "pd.set_option(\"display.max_rows\", None)"
   ]
  },
  {
   "cell_type": "code",
   "execution_count": 44,
   "metadata": {
    "execution": {
     "iopub.execute_input": "2025-05-20T07:51:36.512221Z",
     "iopub.status.busy": "2025-05-20T07:51:36.511859Z",
     "iopub.status.idle": "2025-05-20T07:51:36.662175Z",
     "shell.execute_reply": "2025-05-20T07:51:36.661163Z",
     "shell.execute_reply.started": "2025-05-20T07:51:36.512198Z"
    },
    "trusted": true
   },
   "outputs": [],
   "source": [
    "df_enriched_sel = df_enriched[keep_list]"
   ]
  },
  {
   "cell_type": "code",
   "execution_count": 48,
   "metadata": {
    "execution": {
     "iopub.execute_input": "2025-05-20T07:54:58.405220Z",
     "iopub.status.busy": "2025-05-20T07:54:58.404940Z",
     "iopub.status.idle": "2025-05-20T07:56:55.104920Z",
     "shell.execute_reply": "2025-05-20T07:56:55.104186Z",
     "shell.execute_reply.started": "2025-05-20T07:54:58.405199Z"
    },
    "trusted": true
   },
   "outputs": [
    {
     "name": "stderr",
     "output_type": "stream",
     "text": [
      "                                                                                                    \r"
     ]
    }
   ],
   "source": [
    "df_enriched_sel.toPandas().to_csv('mycsv.csv')"
   ]
  },
  {
   "cell_type": "code",
   "execution_count": 49,
   "metadata": {
    "execution": {
     "iopub.execute_input": "2025-05-20T11:12:22.095302Z",
     "iopub.status.busy": "2025-05-20T11:12:22.094995Z",
     "iopub.status.idle": "2025-05-20T11:12:22.099973Z",
     "shell.execute_reply": "2025-05-20T11:12:22.099009Z",
     "shell.execute_reply.started": "2025-05-20T11:12:22.095280Z"
    },
    "trusted": true
   },
   "outputs": [],
   "source": [
    "TARGET_COL = [\"TARGET\"]"
   ]
  },
  {
   "cell_type": "markdown",
   "metadata": {},
   "source": [
    "#### Use LightGBM and SHAP to filtered down the features "
   ]
  },
  {
   "cell_type": "code",
   "execution_count": 61,
   "metadata": {
    "execution": {
     "iopub.execute_input": "2025-05-20T12:21:48.781709Z",
     "iopub.status.busy": "2025-05-20T12:21:48.781340Z",
     "iopub.status.idle": "2025-05-20T12:24:27.904132Z",
     "shell.execute_reply": "2025-05-20T12:24:27.902884Z",
     "shell.execute_reply.started": "2025-05-20T12:21:48.781685Z"
    },
    "trusted": true
   },
   "outputs": [
    {
     "name": "stdout",
     "output_type": "stream",
     "text": [
      "[LightGBM] [Info] Number of positive: 6525, number of negative: 73622\n",
      "[LightGBM] [Info] Auto-choosing row-wise multi-threading, the overhead of testing was 0.019982 seconds.\n",
      "You can set `force_row_wise=true` to remove the overhead.\n",
      "And if memory is not enough, you can set `force_col_wise=true`.\n",
      "[LightGBM] [Info] Total Bins 8971\n",
      "[LightGBM] [Info] Number of data points in the train set: 80147, number of used features: 53\n",
      "[LightGBM] [Info] [binary:BoostFromScore]: pavg=0.081413 -> initscore=-2.423303\n",
      "[LightGBM] [Info] Start training from score -2.423303\n"
     ]
    },
    {
     "name": "stderr",
     "output_type": "stream",
     "text": [
      "LightGBM binary classifier with TreeExplainer shap values output has changed to a list of ndarray\n"
     ]
    },
    {
     "name": "stdout",
     "output_type": "stream",
     "text": [
      "[LightGBM] [Info] Number of positive: 6525, number of negative: 73622\n",
      "[LightGBM] [Info] Auto-choosing col-wise multi-threading, the overhead of testing was 0.034086 seconds.\n",
      "You can set `force_col_wise=true` to remove the overhead.\n",
      "[LightGBM] [Info] Total Bins 8957\n",
      "[LightGBM] [Info] Number of data points in the train set: 80147, number of used features: 53\n",
      "[LightGBM] [Info] [binary:BoostFromScore]: pavg=0.081413 -> initscore=-2.423303\n",
      "[LightGBM] [Info] Start training from score -2.423303\n"
     ]
    },
    {
     "name": "stderr",
     "output_type": "stream",
     "text": [
      "LightGBM binary classifier with TreeExplainer shap values output has changed to a list of ndarray\n"
     ]
    },
    {
     "name": "stdout",
     "output_type": "stream",
     "text": [
      "[LightGBM] [Info] Number of positive: 6525, number of negative: 73622\n",
      "[LightGBM] [Info] Auto-choosing row-wise multi-threading, the overhead of testing was 0.013897 seconds.\n",
      "You can set `force_row_wise=true` to remove the overhead.\n",
      "And if memory is not enough, you can set `force_col_wise=true`.\n",
      "[LightGBM] [Info] Total Bins 8977\n",
      "[LightGBM] [Info] Number of data points in the train set: 80147, number of used features: 53\n",
      "[LightGBM] [Info] [binary:BoostFromScore]: pavg=0.081413 -> initscore=-2.423303\n",
      "[LightGBM] [Info] Start training from score -2.423303\n"
     ]
    },
    {
     "name": "stderr",
     "output_type": "stream",
     "text": [
      "LightGBM binary classifier with TreeExplainer shap values output has changed to a list of ndarray\n"
     ]
    },
    {
     "name": "stdout",
     "output_type": "stream",
     "text": [
      "[LightGBM] [Info] Number of positive: 6524, number of negative: 73623\n",
      "[LightGBM] [Info] Auto-choosing row-wise multi-threading, the overhead of testing was 0.013944 seconds.\n",
      "You can set `force_row_wise=true` to remove the overhead.\n",
      "And if memory is not enough, you can set `force_col_wise=true`.\n",
      "[LightGBM] [Info] Total Bins 8966\n",
      "[LightGBM] [Info] Number of data points in the train set: 80147, number of used features: 53\n",
      "[LightGBM] [Info] [binary:BoostFromScore]: pavg=0.081400 -> initscore=-2.423470\n",
      "[LightGBM] [Info] Start training from score -2.423470\n"
     ]
    },
    {
     "name": "stderr",
     "output_type": "stream",
     "text": [
      "LightGBM binary classifier with TreeExplainer shap values output has changed to a list of ndarray\n"
     ]
    },
    {
     "name": "stdout",
     "output_type": "stream",
     "text": [
      "[LightGBM] [Info] Number of positive: 6525, number of negative: 73623\n",
      "[LightGBM] [Info] Auto-choosing row-wise multi-threading, the overhead of testing was 0.013678 seconds.\n",
      "You can set `force_row_wise=true` to remove the overhead.\n",
      "And if memory is not enough, you can set `force_col_wise=true`.\n",
      "[LightGBM] [Info] Total Bins 8965\n",
      "[LightGBM] [Info] Number of data points in the train set: 80148, number of used features: 53\n",
      "[LightGBM] [Info] [binary:BoostFromScore]: pavg=0.081412 -> initscore=-2.423317\n",
      "[LightGBM] [Info] Start training from score -2.423317\n",
      "                      feature  mean_abs_shap\n",
      "0                EXT_SOURCE_2       0.321659\n",
      "1                EXT_SOURCE_3       0.279645\n",
      "2                 CODE_GENDER       0.116948\n",
      "3         NAME_EDUCATION_TYPE       0.113503\n",
      "4             AMT_GOODS_PRICE       0.098750\n",
      "5                  AMT_CREDIT       0.095739\n",
      "6                  DAYS_BIRTH       0.093390\n",
      "7              inst_late_rate       0.093141\n",
      "8               DAYS_EMPLOYED       0.081530\n",
      "9         prev_status_refused       0.079593\n",
      "10            mean_debt_ratio       0.077151\n",
      "11        inst_pay_ratio_mean       0.055332\n",
      "12         NAME_FAMILY_STATUS       0.052787\n",
      "13     prev_amt_down_pay_mean       0.047464\n",
      "14  prev_days_first_draw_mean       0.044915\n",
      "15            FLAG_DOCUMENT_3       0.044186\n",
      "16                AMT_ANNUITY       0.042567\n",
      "17            mean_credit_age       0.042406\n",
      "18                max_overdue       0.042203\n",
      "19         prev_downpay_ratio       0.040465\n"
     ]
    },
    {
     "name": "stderr",
     "output_type": "stream",
     "text": [
      "LightGBM binary classifier with TreeExplainer shap values output has changed to a list of ndarray\n"
     ]
    }
   ],
   "source": [
    "import numpy as np\n",
    "import pandas as pd\n",
    "import lightgbm as lgb\n",
    "import shap\n",
    "from sklearn.model_selection import StratifiedKFold\n",
    "\n",
    "\n",
    "# 2) encode categoricals as before\n",
    "for col in X.select_dtypes(include=['object']).columns:\n",
    "    X[col] = X[col].astype('category').cat.codes\n",
    "\n",
    "# 3) prepare k-fold\n",
    "kf = StratifiedKFold(n_splits=5, shuffle=True, random_state=42)\n",
    "\n",
    "shap_sum = np.zeros(len(keep_list), dtype=float)\n",
    "for train_idx, test_idx in kf.split(X, y):\n",
    "    X_train, y_train = X.iloc[train_idx], y.iloc[train_idx]\n",
    "    X_test            = X.iloc[test_idx]\n",
    "\n",
    "    model = lgb.LGBMClassifier(\n",
    "        n_estimators=200,\n",
    "        learning_rate=0.05,\n",
    "        random_state=42\n",
    "    )\n",
    "    model.fit(X_train, y_train)\n",
    "\n",
    "    explainer   = shap.TreeExplainer(model)\n",
    "    shap_values = explainer.shap_values(X_test, check_additivity=False)[1]\n",
    "    shap_sum   += np.abs(shap_values).mean(axis=0)\n",
    "\n",
    "# 4) average and build DataFrame\n",
    "mean_shap = shap_sum / kf.n_splits\n",
    "shap_df = (\n",
    "    pd.DataFrame({\n",
    "        \"feature\": keep_list,\n",
    "        \"mean_abs_shap\": mean_shap\n",
    "    })\n",
    "    .sort_values(\"mean_abs_shap\", ascending=False)\n",
    "    .reset_index(drop=True)\n",
    ")\n",
    "\n",
    "# 5) inspect\n",
    "print(shap_df.head(20))"
   ]
  },
  {
   "cell_type": "markdown",
   "metadata": {},
   "source": [
    "Choose 30 features that cover 90% of SHAP"
   ]
  },
  {
   "cell_type": "code",
   "execution_count": 63,
   "metadata": {
    "execution": {
     "iopub.execute_input": "2025-05-20T12:26:24.115535Z",
     "iopub.status.busy": "2025-05-20T12:26:24.114659Z",
     "iopub.status.idle": "2025-05-20T12:26:24.124620Z",
     "shell.execute_reply": "2025-05-20T12:26:24.123580Z",
     "shell.execute_reply.started": "2025-05-20T12:26:24.115471Z"
    },
    "trusted": true
   },
   "outputs": [
    {
     "name": "stdout",
     "output_type": "stream",
     "text": [
      "→ 30 features cover 90% of SHAP\n"
     ]
    }
   ],
   "source": [
    "import pandas as pd\n",
    "import numpy as np\n",
    "from itertools import combinations\n",
    "from statsmodels.stats.outliers_influence import variance_inflation_factor\n",
    "from pyspark.sql import functions as F\n",
    "\n",
    "# ─────────────────────────────────────────────────────────────────────────────\n",
    "# 1) Long-tail SHAP elimination\n",
    "# ─────────────────────────────────────────────────────────────────────────────\n",
    "# assume `shap_df` is your DataFrame with [\"feature\",\"mean_abs_shap\"]\n",
    "shap_df[\"cum_shap_pct\"] = shap_df[\"mean_abs_shap\"].cumsum() / shap_df[\"mean_abs_shap\"].sum()\n",
    "\n",
    "# keep features up to 90% of cumulative SHAP\n",
    "top_shap_feats = (\n",
    "    shap_df\n",
    "    .loc[shap_df[\"cum_shap_pct\"] <= 0.90, \"feature\"]\n",
    "    .tolist()\n",
    ")\n",
    "print(f\"→ {len(top_shap_feats)} features cover 90% of SHAP\")\n"
   ]
  },
  {
   "cell_type": "code",
   "execution_count": 76,
   "metadata": {
    "execution": {
     "iopub.execute_input": "2025-05-20T12:33:57.532423Z",
     "iopub.status.busy": "2025-05-20T12:33:57.532116Z",
     "iopub.status.idle": "2025-05-20T12:33:57.538709Z",
     "shell.execute_reply": "2025-05-20T12:33:57.537635Z",
     "shell.execute_reply.started": "2025-05-20T12:33:57.532403Z"
    },
    "trusted": true
   },
   "outputs": [
    {
     "data": {
      "text/plain": [
       "['EXT_SOURCE_2',\n",
       " 'EXT_SOURCE_3',\n",
       " 'CODE_GENDER',\n",
       " 'NAME_EDUCATION_TYPE',\n",
       " 'AMT_GOODS_PRICE',\n",
       " 'AMT_CREDIT',\n",
       " 'DAYS_BIRTH',\n",
       " 'inst_late_rate',\n",
       " 'DAYS_EMPLOYED',\n",
       " 'prev_status_refused',\n",
       " 'mean_debt_ratio',\n",
       " 'inst_pay_ratio_mean',\n",
       " 'NAME_FAMILY_STATUS',\n",
       " 'prev_amt_down_pay_mean',\n",
       " 'prev_days_first_draw_mean',\n",
       " 'FLAG_DOCUMENT_3',\n",
       " 'AMT_ANNUITY',\n",
       " 'mean_credit_age',\n",
       " 'max_overdue',\n",
       " 'prev_downpay_ratio',\n",
       " 'pos_status_active',\n",
       " 'DAYS_ID_PUBLISH',\n",
       " 'prev_annuity_mean',\n",
       " 'prev_days_first_due_mean',\n",
       " 'prev_days_decision_max',\n",
       " 'NAME_INCOME_TYPE',\n",
       " 'prev_days_last_due1_mean',\n",
       " 'inst_days_late_max',\n",
       " 'inst_amt_paid_mean',\n",
       " 'REGION_RATING_CLIENT_W_CITY']"
      ]
     },
     "execution_count": 76,
     "metadata": {},
     "output_type": "execute_result"
    }
   ],
   "source": [
    "top_shap_feats"
   ]
  },
  {
   "cell_type": "code",
   "execution_count": null,
   "metadata": {
    "trusted": true
   },
   "outputs": [],
   "source": [
    "df_EDA = df_enriched[top_shap_feats] + df_enriched[['TARGET']]"
   ]
  },
  {
   "cell_type": "code",
   "execution_count": null,
   "metadata": {
    "execution": {
     "iopub.execute_input": "2025-05-20T13:00:08.241645Z",
     "iopub.status.busy": "2025-05-20T13:00:08.241177Z",
     "iopub.status.idle": "2025-05-20T13:01:10.219914Z",
     "shell.execute_reply": "2025-05-20T13:01:10.218848Z",
     "shell.execute_reply.started": "2025-05-20T13:00:08.241605Z"
    },
    "trusted": true
   },
   "outputs": [
    {
     "name": "stderr",
     "output_type": "stream",
     "text": [
      "                                                                                                    \r"
     ]
    }
   ],
   "source": [
    "SHAP_FEATURES = top_shap_feats\n",
    "pdf = (\n",
    "    df_enriched\n",
    "      .select(SHAP_FEATURES + [TARGET_COL])\n",
    "      .toPandas()\n",
    ")"
   ]
  },
  {
   "cell_type": "code",
   "execution_count": 95,
   "metadata": {
    "execution": {
     "iopub.execute_input": "2025-05-20T13:01:37.581104Z",
     "iopub.status.busy": "2025-05-20T13:01:37.580796Z",
     "iopub.status.idle": "2025-05-20T13:01:37.717016Z",
     "shell.execute_reply": "2025-05-20T13:01:37.715968Z",
     "shell.execute_reply.started": "2025-05-20T13:01:37.581084Z"
    },
    "trusted": true
   },
   "outputs": [
    {
     "name": "stdout",
     "output_type": "stream",
     "text": [
      "<class 'pandas.core.frame.DataFrame'>\n",
      "RangeIndex: 307511 entries, 0 to 307510\n",
      "Data columns (total 31 columns):\n",
      " #   Column                       Non-Null Count   Dtype  \n",
      "---  ------                       --------------   -----  \n",
      " 0   EXT_SOURCE_2                 306851 non-null  float64\n",
      " 1   EXT_SOURCE_3                 246546 non-null  float64\n",
      " 2   CODE_GENDER                  307511 non-null  object \n",
      " 3   NAME_EDUCATION_TYPE          307511 non-null  object \n",
      " 4   AMT_GOODS_PRICE              307233 non-null  float64\n",
      " 5   AMT_CREDIT                   307511 non-null  float64\n",
      " 6   DAYS_BIRTH                   307511 non-null  int32  \n",
      " 7   inst_late_rate               291635 non-null  float64\n",
      " 8   DAYS_EMPLOYED                307511 non-null  int32  \n",
      " 9   prev_status_refused          291057 non-null  float64\n",
      " 10  mean_debt_ratio              255154 non-null  float64\n",
      " 11  inst_pay_ratio_mean          291632 non-null  float64\n",
      " 12  NAME_FAMILY_STATUS           307511 non-null  object \n",
      " 13  prev_amt_down_pay_mean       273605 non-null  float64\n",
      " 14  prev_days_first_draw_mean    289760 non-null  float64\n",
      " 15  FLAG_DOCUMENT_3              307511 non-null  int32  \n",
      " 16  AMT_ANNUITY                  307499 non-null  float64\n",
      " 17  mean_credit_age              263491 non-null  float64\n",
      " 18  max_overdue                  263491 non-null  float64\n",
      " 19  prev_downpay_ratio           273604 non-null  float64\n",
      " 20  pos_status_active            289444 non-null  float64\n",
      " 21  DAYS_ID_PUBLISH              307511 non-null  int32  \n",
      " 22  prev_annuity_mean            290640 non-null  float64\n",
      " 23  prev_days_first_due_mean     289760 non-null  float64\n",
      " 24  prev_days_decision_max       291057 non-null  float64\n",
      " 25  NAME_INCOME_TYPE             307511 non-null  object \n",
      " 26  prev_days_last_due1_mean     289760 non-null  float64\n",
      " 27  inst_days_late_max           291635 non-null  float64\n",
      " 28  inst_amt_paid_mean           291635 non-null  float64\n",
      " 29  REGION_RATING_CLIENT_W_CITY  307511 non-null  int32  \n",
      " 30  TARGET                       307511 non-null  int32  \n",
      "dtypes: float64(21), int32(6), object(4)\n",
      "memory usage: 65.7+ MB\n"
     ]
    }
   ],
   "source": [
    "pdf.info()"
   ]
  },
  {
   "cell_type": "code",
   "execution_count": 96,
   "metadata": {
    "execution": {
     "iopub.execute_input": "2025-05-20T13:01:49.339178Z",
     "iopub.status.busy": "2025-05-20T13:01:49.338858Z",
     "iopub.status.idle": "2025-05-20T13:01:49.367031Z",
     "shell.execute_reply": "2025-05-20T13:01:49.366076Z",
     "shell.execute_reply.started": "2025-05-20T13:01:49.339154Z"
    },
    "trusted": true
   },
   "outputs": [],
   "source": [
    "# 1) Identify numeric vs categorical among just those features\n",
    "numeric_feats = pdf.select_dtypes(include=[\"int64\",\"float64\"])\\\n",
    "                   .columns.intersection(SHAP_FEATURES).tolist()\n",
    "categorical_feats = [f for f in SHAP_FEATURES if f not in numeric_feats]"
   ]
  },
  {
   "cell_type": "code",
   "execution_count": 97,
   "metadata": {
    "execution": {
     "iopub.execute_input": "2025-05-20T13:01:52.653227Z",
     "iopub.status.busy": "2025-05-20T13:01:52.652909Z",
     "iopub.status.idle": "2025-05-20T13:01:54.732359Z",
     "shell.execute_reply": "2025-05-20T13:01:54.731449Z",
     "shell.execute_reply.started": "2025-05-20T13:01:52.653203Z"
    },
    "trusted": true
   },
   "outputs": [],
   "source": [
    "# 2) Numeric EDA\n",
    "num_eda = []\n",
    "for f in numeric_feats:\n",
    "    s = pdf[f]\n",
    "    miss = s.isna().mean() * 100\n",
    "    desc = s.describe().to_dict()\n",
    "    try:\n",
    "        pdf[\"_decile\"] = pd.qcut(\n",
    "            s.rank(method=\"first\"), \n",
    "            q=10, labels=False, duplicates=\"drop\"\n",
    "        )\n",
    "        dr = pdf.groupby(\"_decile\")[TARGET_COL].mean().round(4).to_dict()\n",
    "    except Exception:\n",
    "        dr = {}\n",
    "    num_eda.append({\n",
    "        \"feature\": f,\n",
    "        \"missing_%\": round(miss,2),\n",
    "        \"mean\": round(desc.get(\"mean\",np.nan),3),\n",
    "        \"std\":  round(desc.get(\"std\", np.nan),3),\n",
    "        \"min\":  desc.get(\"min\", np.nan),\n",
    "        \"25%\":  round(desc.get(\"25%\",np.nan),3),\n",
    "        \"50%\":  round(desc.get(\"50%\",np.nan),3),\n",
    "        \"75%\":  round(desc.get(\"75%\",np.nan),3),\n",
    "        \"max\":  desc.get(\"max\", np.nan),\n",
    "        \"decile_default_rate\": dr\n",
    "    })\n",
    "numeric_eda_df = pd.DataFrame(num_eda)"
   ]
  },
  {
   "cell_type": "code",
   "execution_count": 98,
   "metadata": {
    "execution": {
     "iopub.execute_input": "2025-05-20T13:01:57.333196Z",
     "iopub.status.busy": "2025-05-20T13:01:57.332870Z",
     "iopub.status.idle": "2025-05-20T13:01:57.758150Z",
     "shell.execute_reply": "2025-05-20T13:01:57.757037Z",
     "shell.execute_reply.started": "2025-05-20T13:01:57.333175Z"
    },
    "trusted": true
   },
   "outputs": [],
   "source": [
    "# 3) Categorical EDA\n",
    "cat_eda = []\n",
    "for f in categorical_feats:\n",
    "    s = pdf[f].astype(\"category\")\n",
    "    miss = s.isna().mean() * 100\n",
    "    top5 = s.value_counts().head(5).to_dict()\n",
    "    dr = pdf.groupby(f)[TARGET_COL].mean().round(4).to_dict()\n",
    "    cat_eda.append({\n",
    "        \"feature\": f,\n",
    "        \"missing_%\": round(miss,2),\n",
    "        \"top_5_levels\": top5,\n",
    "        \"default_rate_by_level\": dr\n",
    "    })\n",
    "categorical_eda_df = pd.DataFrame(cat_eda)"
   ]
  },
  {
   "cell_type": "code",
   "execution_count": 86,
   "metadata": {
    "execution": {
     "iopub.execute_input": "2025-05-20T12:47:37.383379Z",
     "iopub.status.busy": "2025-05-20T12:47:37.383013Z",
     "iopub.status.idle": "2025-05-20T12:47:37.389064Z",
     "shell.execute_reply": "2025-05-20T12:47:37.387886Z",
     "shell.execute_reply.started": "2025-05-20T12:47:37.383356Z"
    },
    "trusted": true
   },
   "outputs": [],
   "source": [
    "# Show all columns\n",
    "pd.set_option('display.max_columns', None)\n",
    "\n",
    "# Show all rows\n",
    "pd.set_option('display.max_rows', None)\n",
    "\n",
    "# (Optional) Expand the console width so wide tables don’t wrap\n",
    "pd.set_option('display.width', 200)\n",
    "\n",
    "# (Optional) Prevent truncation of column contents\n",
    "pd.set_option('display.max_colwidth', None)\n",
    "\n",
    "# (Optional) Control floating‐point precision\n",
    "pd.set_option('display.precision', 4)"
   ]
  },
  {
   "cell_type": "code",
   "execution_count": 99,
   "metadata": {
    "execution": {
     "iopub.execute_input": "2025-05-20T13:02:02.693227Z",
     "iopub.status.busy": "2025-05-20T13:02:02.692896Z",
     "iopub.status.idle": "2025-05-20T13:02:02.749025Z",
     "shell.execute_reply": "2025-05-20T13:02:02.748011Z",
     "shell.execute_reply.started": "2025-05-20T13:02:02.693203Z"
    },
    "trusted": true
   },
   "outputs": [
    {
     "name": "stdout",
     "output_type": "stream",
     "text": [
      "=== Numeric EDA (Top SHAP Features) ===\n"
     ]
    },
    {
     "data": {
      "text/html": [
       "<div>\n",
       "<style scoped>\n",
       "    .dataframe tbody tr th:only-of-type {\n",
       "        vertical-align: middle;\n",
       "    }\n",
       "\n",
       "    .dataframe tbody tr th {\n",
       "        vertical-align: top;\n",
       "    }\n",
       "\n",
       "    .dataframe thead th {\n",
       "        text-align: right;\n",
       "    }\n",
       "</style>\n",
       "<table border=\"1\" class=\"dataframe\">\n",
       "  <thead>\n",
       "    <tr style=\"text-align: right;\">\n",
       "      <th></th>\n",
       "      <th>feature</th>\n",
       "      <th>missing_%</th>\n",
       "      <th>mean</th>\n",
       "      <th>std</th>\n",
       "      <th>min</th>\n",
       "      <th>25%</th>\n",
       "      <th>50%</th>\n",
       "      <th>75%</th>\n",
       "      <th>max</th>\n",
       "      <th>decile_default_rate</th>\n",
       "    </tr>\n",
       "  </thead>\n",
       "  <tbody>\n",
       "    <tr>\n",
       "      <th>0</th>\n",
       "      <td>EXT_SOURCE_2</td>\n",
       "      <td>0.21</td>\n",
       "      <td>0.514</td>\n",
       "      <td>0.191</td>\n",
       "      <td>8.1736e-08</td>\n",
       "      <td>0.392</td>\n",
       "      <td>0.566</td>\n",
       "      <td>0.664</td>\n",
       "      <td>8.5500e-01</td>\n",
       "      <td>{0.0: 0.1835, 1.0: 0.1208, 2.0: 0.0996, 3.0: 0.0836, 4.0: 0.0742, 5.0: 0.0665, 6.0: 0.0585, 7.0: 0.0489, 8.0: 0.042, 9.0: 0.0297}</td>\n",
       "    </tr>\n",
       "    <tr>\n",
       "      <th>1</th>\n",
       "      <td>EXT_SOURCE_3</td>\n",
       "      <td>19.83</td>\n",
       "      <td>0.511</td>\n",
       "      <td>0.195</td>\n",
       "      <td>5.2727e-04</td>\n",
       "      <td>0.371</td>\n",
       "      <td>0.535</td>\n",
       "      <td>0.669</td>\n",
       "      <td>8.9601e-01</td>\n",
       "      <td>{0.0: 0.1999, 1.0: 0.128, 2.0: 0.0952, 3.0: 0.0805, 4.0: 0.0617, 5.0: 0.0535, 6.0: 0.0479, 7.0: 0.0423, 8.0: 0.0354, 9.0: 0.0322}</td>\n",
       "    </tr>\n",
       "    <tr>\n",
       "      <th>2</th>\n",
       "      <td>AMT_GOODS_PRICE</td>\n",
       "      <td>0.09</td>\n",
       "      <td>538396.207</td>\n",
       "      <td>369446.461</td>\n",
       "      <td>4.0500e+04</td>\n",
       "      <td>238500.000</td>\n",
       "      <td>450000.000</td>\n",
       "      <td>679500.000</td>\n",
       "      <td>4.0500e+06</td>\n",
       "      <td>{0.0: 0.0694, 1.0: 0.0871, 2.0: 0.0836, 3.0: 0.0934, 4.0: 0.1303, 5.0: 0.0772, 6.0: 0.0828, 7.0: 0.069, 8.0: 0.0655, 9.0: 0.0491}</td>\n",
       "    </tr>\n",
       "    <tr>\n",
       "      <th>3</th>\n",
       "      <td>AMT_CREDIT</td>\n",
       "      <td>0.00</td>\n",
       "      <td>599026.000</td>\n",
       "      <td>402490.777</td>\n",
       "      <td>4.5000e+04</td>\n",
       "      <td>270000.000</td>\n",
       "      <td>513531.000</td>\n",
       "      <td>808650.000</td>\n",
       "      <td>4.0500e+06</td>\n",
       "      <td>{0: 0.0659, 1: 0.0781, 2: 0.0818, 3: 0.1003, 4: 0.096, 5: 0.1052, 6: 0.0852, 7: 0.0738, 8: 0.0679, 9: 0.0532}</td>\n",
       "    </tr>\n",
       "    <tr>\n",
       "      <th>4</th>\n",
       "      <td>inst_late_rate</td>\n",
       "      <td>5.16</td>\n",
       "      <td>0.076</td>\n",
       "      <td>0.116</td>\n",
       "      <td>0.0000e+00</td>\n",
       "      <td>0.000</td>\n",
       "      <td>0.019</td>\n",
       "      <td>0.111</td>\n",
       "      <td>1.0000e+00</td>\n",
       "      <td>{0.0: 0.069, 1.0: 0.0661, 2.0: 0.0686, 3.0: 0.0676, 4.0: 0.0654, 5.0: 0.073, 6.0: 0.0857, 7.0: 0.0964, 8.0: 0.1013, 9.0: 0.1257}</td>\n",
       "    </tr>\n",
       "    <tr>\n",
       "      <th>5</th>\n",
       "      <td>prev_status_refused</td>\n",
       "      <td>5.35</td>\n",
       "      <td>0.843</td>\n",
       "      <td>1.814</td>\n",
       "      <td>0.0000e+00</td>\n",
       "      <td>0.000</td>\n",
       "      <td>0.000</td>\n",
       "      <td>1.000</td>\n",
       "      <td>6.8000e+01</td>\n",
       "      <td>{0.0: 0.0713, 1.0: 0.0697, 2.0: 0.0725, 3.0: 0.0702, 4.0: 0.0706, 5.0: 0.07, 6.0: 0.0802, 7.0: 0.0877, 8.0: 0.1004, 9.0: 0.1269}</td>\n",
       "    </tr>\n",
       "    <tr>\n",
       "      <th>6</th>\n",
       "      <td>mean_debt_ratio</td>\n",
       "      <td>17.03</td>\n",
       "      <td>0.290</td>\n",
       "      <td>0.455</td>\n",
       "      <td>-1.7529e+02</td>\n",
       "      <td>0.000</td>\n",
       "      <td>0.223</td>\n",
       "      <td>0.492</td>\n",
       "      <td>7.7891e+00</td>\n",
       "      <td>{0.0: 0.0553, 1.0: 0.0551, 2.0: 0.0557, 3.0: 0.06, 4.0: 0.0652, 5.0: 0.0709, 6.0: 0.0791, 7.0: 0.0925, 8.0: 0.109, 9.0: 0.1329}</td>\n",
       "    </tr>\n",
       "    <tr>\n",
       "      <th>7</th>\n",
       "      <td>inst_pay_ratio_mean</td>\n",
       "      <td>5.16</td>\n",
       "      <td>1.383</td>\n",
       "      <td>30.179</td>\n",
       "      <td>3.3333e-01</td>\n",
       "      <td>0.954</td>\n",
       "      <td>1.000</td>\n",
       "      <td>1.000</td>\n",
       "      <td>8.4824e+03</td>\n",
       "      <td>{0.0: 0.1224, 1.0: 0.1052, 2.0: 0.0875, 3.0: 0.0752, 4.0: 0.0742, 5.0: 0.0718, 6.0: 0.0744, 7.0: 0.0723, 8.0: 0.0739, 9.0: 0.0618}</td>\n",
       "    </tr>\n",
       "    <tr>\n",
       "      <th>8</th>\n",
       "      <td>prev_amt_down_pay_mean</td>\n",
       "      <td>11.03</td>\n",
       "      <td>7080.503</td>\n",
       "      <td>18421.798</td>\n",
       "      <td>-2.2500e-01</td>\n",
       "      <td>0.000</td>\n",
       "      <td>3375.000</td>\n",
       "      <td>8282.250</td>\n",
       "      <td>2.0250e+06</td>\n",
       "      <td>{0.0: 0.092, 1.0: 0.0943, 2.0: 0.0918, 3.0: 0.0937, 4.0: 0.0887, 5.0: 0.0818, 6.0: 0.0747, 7.0: 0.0695, 8.0: 0.0638, 9.0: 0.0541}</td>\n",
       "    </tr>\n",
       "    <tr>\n",
       "      <th>9</th>\n",
       "      <td>prev_days_first_draw_mean</td>\n",
       "      <td>5.77</td>\n",
       "      <td>343240.669</td>\n",
       "      <td>55243.567</td>\n",
       "      <td>2.0000e+00</td>\n",
       "      <td>365243.000</td>\n",
       "      <td>365243.000</td>\n",
       "      <td>365243.000</td>\n",
       "      <td>3.6524e+05</td>\n",
       "      <td>{0.0: 0.1232, 1.0: 0.088, 2.0: 0.0772, 3.0: 0.0748, 4.0: 0.076, 5.0: 0.0744, 6.0: 0.0778, 7.0: 0.0736, 8.0: 0.0786, 9.0: 0.0756}</td>\n",
       "    </tr>\n",
       "    <tr>\n",
       "      <th>10</th>\n",
       "      <td>AMT_ANNUITY</td>\n",
       "      <td>0.00</td>\n",
       "      <td>27108.574</td>\n",
       "      <td>14493.737</td>\n",
       "      <td>1.6155e+03</td>\n",
       "      <td>16524.000</td>\n",
       "      <td>24903.000</td>\n",
       "      <td>34596.000</td>\n",
       "      <td>2.5803e+05</td>\n",
       "      <td>{0.0: 0.0708, 1.0: 0.0682, 2.0: 0.0848, 3.0: 0.0868, 4.0: 0.0847, 5.0: 0.0913, 6.0: 0.1007, 7.0: 0.086, 8.0: 0.0761, 9.0: 0.0579}</td>\n",
       "    </tr>\n",
       "    <tr>\n",
       "      <th>11</th>\n",
       "      <td>mean_credit_age</td>\n",
       "      <td>14.31</td>\n",
       "      <td>1083.047</td>\n",
       "      <td>563.327</td>\n",
       "      <td>0.0000e+00</td>\n",
       "      <td>663.764</td>\n",
       "      <td>1050.571</td>\n",
       "      <td>1434.000</td>\n",
       "      <td>2.9220e+03</td>\n",
       "      <td>{0.0: 0.1376, 1.0: 0.1067, 2.0: 0.0951, 3.0: 0.0817, 4.0: 0.0713, 5.0: 0.0664, 6.0: 0.059, 7.0: 0.0546, 8.0: 0.0497, 9.0: 0.051}</td>\n",
       "    </tr>\n",
       "    <tr>\n",
       "      <th>12</th>\n",
       "      <td>max_overdue</td>\n",
       "      <td>14.31</td>\n",
       "      <td>6694.473</td>\n",
       "      <td>307727.708</td>\n",
       "      <td>0.0000e+00</td>\n",
       "      <td>0.000</td>\n",
       "      <td>0.000</td>\n",
       "      <td>541.845</td>\n",
       "      <td>1.1599e+08</td>\n",
       "      <td>{0.0: 0.0739, 1.0: 0.0677, 2.0: 0.0692, 3.0: 0.0673, 4.0: 0.0713, 5.0: 0.0698, 6.0: 0.0726, 7.0: 0.0821, 8.0: 0.0991, 9.0: 0.0999}</td>\n",
       "    </tr>\n",
       "    <tr>\n",
       "      <th>13</th>\n",
       "      <td>prev_downpay_ratio</td>\n",
       "      <td>11.03</td>\n",
       "      <td>0.045</td>\n",
       "      <td>0.071</td>\n",
       "      <td>-8.3218e-07</td>\n",
       "      <td>0.000</td>\n",
       "      <td>0.014</td>\n",
       "      <td>0.067</td>\n",
       "      <td>8.1821e-01</td>\n",
       "      <td>{0.0: 0.092, 1.0: 0.0943, 2.0: 0.0922, 3.0: 0.0938, 4.0: 0.0781, 5.0: 0.0746, 6.0: 0.0713, 7.0: 0.0677, 8.0: 0.0787, 9.0: 0.0618}</td>\n",
       "    </tr>\n",
       "    <tr>\n",
       "      <th>14</th>\n",
       "      <td>pos_status_active</td>\n",
       "      <td>5.88</td>\n",
       "      <td>27.012</td>\n",
       "      <td>22.516</td>\n",
       "      <td>0.0000e+00</td>\n",
       "      <td>11.000</td>\n",
       "      <td>20.000</td>\n",
       "      <td>36.000</td>\n",
       "      <td>2.7100e+02</td>\n",
       "      <td>{0.0: 0.0912, 1.0: 0.101, 2.0: 0.0965, 3.0: 0.0933, 4.0: 0.0825, 5.0: 0.0775, 6.0: 0.0733, 7.0: 0.0695, 8.0: 0.0657, 9.0: 0.0655}</td>\n",
       "    </tr>\n",
       "    <tr>\n",
       "      <th>15</th>\n",
       "      <td>prev_annuity_mean</td>\n",
       "      <td>5.49</td>\n",
       "      <td>14532.053</td>\n",
       "      <td>10007.483</td>\n",
       "      <td>0.0000e+00</td>\n",
       "      <td>7835.967</td>\n",
       "      <td>11984.355</td>\n",
       "      <td>18330.314</td>\n",
       "      <td>3.0043e+05</td>\n",
       "      <td>{0.0: 0.1003, 1.0: 0.0903, 2.0: 0.0889, 3.0: 0.0826, 4.0: 0.0812, 5.0: 0.0832, 6.0: 0.078, 7.0: 0.0777, 8.0: 0.0759, 9.0: 0.0615}</td>\n",
       "    </tr>\n",
       "    <tr>\n",
       "      <th>16</th>\n",
       "      <td>prev_days_first_due_mean</td>\n",
       "      <td>5.77</td>\n",
       "      <td>13445.240</td>\n",
       "      <td>39390.107</td>\n",
       "      <td>3.0000e+00</td>\n",
       "      <td>589.000</td>\n",
       "      <td>1049.000</td>\n",
       "      <td>1659.000</td>\n",
       "      <td>3.6524e+05</td>\n",
       "      <td>{0.0: 0.1098, 1.0: 0.0994, 2.0: 0.0955, 3.0: 0.0856, 4.0: 0.0812, 5.0: 0.0727, 6.0: 0.069, 7.0: 0.0665, 8.0: 0.0716, 9.0: 0.068}</td>\n",
       "    </tr>\n",
       "    <tr>\n",
       "      <th>17</th>\n",
       "      <td>prev_days_decision_max</td>\n",
       "      <td>5.35</td>\n",
       "      <td>1539.822</td>\n",
       "      <td>864.664</td>\n",
       "      <td>2.0000e+00</td>\n",
       "      <td>725.000</td>\n",
       "      <td>1503.000</td>\n",
       "      <td>2391.000</td>\n",
       "      <td>2.9220e+03</td>\n",
       "      <td>{0.0: 0.1038, 1.0: 0.1029, 2.0: 0.0983, 3.0: 0.0908, 4.0: 0.0769, 5.0: 0.0784, 6.0: 0.0709, 7.0: 0.0699, 8.0: 0.0667, 9.0: 0.0607}</td>\n",
       "    </tr>\n",
       "    <tr>\n",
       "      <th>18</th>\n",
       "      <td>prev_days_last_due1_mean</td>\n",
       "      <td>5.77</td>\n",
       "      <td>31792.489</td>\n",
       "      <td>60998.870</td>\n",
       "      <td>0.0000e+00</td>\n",
       "      <td>427.000</td>\n",
       "      <td>993.500</td>\n",
       "      <td>52799.964</td>\n",
       "      <td>3.6524e+05</td>\n",
       "      <td>{0.0: 0.0899, 1.0: 0.0891, 2.0: 0.0848, 3.0: 0.0789, 4.0: 0.0695, 5.0: 0.0679, 6.0: 0.0699, 7.0: 0.0778, 8.0: 0.0868, 9.0: 0.1046}</td>\n",
       "    </tr>\n",
       "    <tr>\n",
       "      <th>19</th>\n",
       "      <td>inst_days_late_max</td>\n",
       "      <td>5.16</td>\n",
       "      <td>16.231</td>\n",
       "      <td>111.096</td>\n",
       "      <td>-1.5600e+02</td>\n",
       "      <td>-2.000</td>\n",
       "      <td>1.000</td>\n",
       "      <td>9.000</td>\n",
       "      <td>2.8840e+03</td>\n",
       "      <td>{0.0: 0.0693, 1.0: 0.0681, 2.0: 0.064, 3.0: 0.0682, 4.0: 0.0745, 5.0: 0.0847, 6.0: 0.0917, 7.0: 0.1002, 8.0: 0.0963, 9.0: 0.1016}</td>\n",
       "    </tr>\n",
       "    <tr>\n",
       "      <th>20</th>\n",
       "      <td>inst_amt_paid_mean</td>\n",
       "      <td>5.16</td>\n",
       "      <td>18754.310</td>\n",
       "      <td>25105.356</td>\n",
       "      <td>1.8900e-01</td>\n",
       "      <td>7478.370</td>\n",
       "      <td>12225.756</td>\n",
       "      <td>21352.865</td>\n",
       "      <td>2.5046e+06</td>\n",
       "      <td>{0.0: 0.1109, 1.0: 0.098, 2.0: 0.0863, 3.0: 0.0801, 4.0: 0.0782, 5.0: 0.0755, 6.0: 0.0741, 7.0: 0.0761, 8.0: 0.0702, 9.0: 0.0693}</td>\n",
       "    </tr>\n",
       "  </tbody>\n",
       "</table>\n",
       "</div>"
      ],
      "text/plain": [
       "                      feature  missing_%        mean         std         min         25%         50%         75%         max  \\\n",
       "0                EXT_SOURCE_2       0.21       0.514       0.191  8.1736e-08       0.392       0.566       0.664  8.5500e-01   \n",
       "1                EXT_SOURCE_3      19.83       0.511       0.195  5.2727e-04       0.371       0.535       0.669  8.9601e-01   \n",
       "2             AMT_GOODS_PRICE       0.09  538396.207  369446.461  4.0500e+04  238500.000  450000.000  679500.000  4.0500e+06   \n",
       "3                  AMT_CREDIT       0.00  599026.000  402490.777  4.5000e+04  270000.000  513531.000  808650.000  4.0500e+06   \n",
       "4              inst_late_rate       5.16       0.076       0.116  0.0000e+00       0.000       0.019       0.111  1.0000e+00   \n",
       "5         prev_status_refused       5.35       0.843       1.814  0.0000e+00       0.000       0.000       1.000  6.8000e+01   \n",
       "6             mean_debt_ratio      17.03       0.290       0.455 -1.7529e+02       0.000       0.223       0.492  7.7891e+00   \n",
       "7         inst_pay_ratio_mean       5.16       1.383      30.179  3.3333e-01       0.954       1.000       1.000  8.4824e+03   \n",
       "8      prev_amt_down_pay_mean      11.03    7080.503   18421.798 -2.2500e-01       0.000    3375.000    8282.250  2.0250e+06   \n",
       "9   prev_days_first_draw_mean       5.77  343240.669   55243.567  2.0000e+00  365243.000  365243.000  365243.000  3.6524e+05   \n",
       "10                AMT_ANNUITY       0.00   27108.574   14493.737  1.6155e+03   16524.000   24903.000   34596.000  2.5803e+05   \n",
       "11            mean_credit_age      14.31    1083.047     563.327  0.0000e+00     663.764    1050.571    1434.000  2.9220e+03   \n",
       "12                max_overdue      14.31    6694.473  307727.708  0.0000e+00       0.000       0.000     541.845  1.1599e+08   \n",
       "13         prev_downpay_ratio      11.03       0.045       0.071 -8.3218e-07       0.000       0.014       0.067  8.1821e-01   \n",
       "14          pos_status_active       5.88      27.012      22.516  0.0000e+00      11.000      20.000      36.000  2.7100e+02   \n",
       "15          prev_annuity_mean       5.49   14532.053   10007.483  0.0000e+00    7835.967   11984.355   18330.314  3.0043e+05   \n",
       "16   prev_days_first_due_mean       5.77   13445.240   39390.107  3.0000e+00     589.000    1049.000    1659.000  3.6524e+05   \n",
       "17     prev_days_decision_max       5.35    1539.822     864.664  2.0000e+00     725.000    1503.000    2391.000  2.9220e+03   \n",
       "18   prev_days_last_due1_mean       5.77   31792.489   60998.870  0.0000e+00     427.000     993.500   52799.964  3.6524e+05   \n",
       "19         inst_days_late_max       5.16      16.231     111.096 -1.5600e+02      -2.000       1.000       9.000  2.8840e+03   \n",
       "20         inst_amt_paid_mean       5.16   18754.310   25105.356  1.8900e-01    7478.370   12225.756   21352.865  2.5046e+06   \n",
       "\n",
       "                                                                                                                   decile_default_rate  \n",
       "0    {0.0: 0.1835, 1.0: 0.1208, 2.0: 0.0996, 3.0: 0.0836, 4.0: 0.0742, 5.0: 0.0665, 6.0: 0.0585, 7.0: 0.0489, 8.0: 0.042, 9.0: 0.0297}  \n",
       "1    {0.0: 0.1999, 1.0: 0.128, 2.0: 0.0952, 3.0: 0.0805, 4.0: 0.0617, 5.0: 0.0535, 6.0: 0.0479, 7.0: 0.0423, 8.0: 0.0354, 9.0: 0.0322}  \n",
       "2    {0.0: 0.0694, 1.0: 0.0871, 2.0: 0.0836, 3.0: 0.0934, 4.0: 0.1303, 5.0: 0.0772, 6.0: 0.0828, 7.0: 0.069, 8.0: 0.0655, 9.0: 0.0491}  \n",
       "3                        {0: 0.0659, 1: 0.0781, 2: 0.0818, 3: 0.1003, 4: 0.096, 5: 0.1052, 6: 0.0852, 7: 0.0738, 8: 0.0679, 9: 0.0532}  \n",
       "4     {0.0: 0.069, 1.0: 0.0661, 2.0: 0.0686, 3.0: 0.0676, 4.0: 0.0654, 5.0: 0.073, 6.0: 0.0857, 7.0: 0.0964, 8.0: 0.1013, 9.0: 0.1257}  \n",
       "5     {0.0: 0.0713, 1.0: 0.0697, 2.0: 0.0725, 3.0: 0.0702, 4.0: 0.0706, 5.0: 0.07, 6.0: 0.0802, 7.0: 0.0877, 8.0: 0.1004, 9.0: 0.1269}  \n",
       "6      {0.0: 0.0553, 1.0: 0.0551, 2.0: 0.0557, 3.0: 0.06, 4.0: 0.0652, 5.0: 0.0709, 6.0: 0.0791, 7.0: 0.0925, 8.0: 0.109, 9.0: 0.1329}  \n",
       "7   {0.0: 0.1224, 1.0: 0.1052, 2.0: 0.0875, 3.0: 0.0752, 4.0: 0.0742, 5.0: 0.0718, 6.0: 0.0744, 7.0: 0.0723, 8.0: 0.0739, 9.0: 0.0618}  \n",
       "8    {0.0: 0.092, 1.0: 0.0943, 2.0: 0.0918, 3.0: 0.0937, 4.0: 0.0887, 5.0: 0.0818, 6.0: 0.0747, 7.0: 0.0695, 8.0: 0.0638, 9.0: 0.0541}  \n",
       "9     {0.0: 0.1232, 1.0: 0.088, 2.0: 0.0772, 3.0: 0.0748, 4.0: 0.076, 5.0: 0.0744, 6.0: 0.0778, 7.0: 0.0736, 8.0: 0.0786, 9.0: 0.0756}  \n",
       "10   {0.0: 0.0708, 1.0: 0.0682, 2.0: 0.0848, 3.0: 0.0868, 4.0: 0.0847, 5.0: 0.0913, 6.0: 0.1007, 7.0: 0.086, 8.0: 0.0761, 9.0: 0.0579}  \n",
       "11    {0.0: 0.1376, 1.0: 0.1067, 2.0: 0.0951, 3.0: 0.0817, 4.0: 0.0713, 5.0: 0.0664, 6.0: 0.059, 7.0: 0.0546, 8.0: 0.0497, 9.0: 0.051}  \n",
       "12  {0.0: 0.0739, 1.0: 0.0677, 2.0: 0.0692, 3.0: 0.0673, 4.0: 0.0713, 5.0: 0.0698, 6.0: 0.0726, 7.0: 0.0821, 8.0: 0.0991, 9.0: 0.0999}  \n",
       "13   {0.0: 0.092, 1.0: 0.0943, 2.0: 0.0922, 3.0: 0.0938, 4.0: 0.0781, 5.0: 0.0746, 6.0: 0.0713, 7.0: 0.0677, 8.0: 0.0787, 9.0: 0.0618}  \n",
       "14   {0.0: 0.0912, 1.0: 0.101, 2.0: 0.0965, 3.0: 0.0933, 4.0: 0.0825, 5.0: 0.0775, 6.0: 0.0733, 7.0: 0.0695, 8.0: 0.0657, 9.0: 0.0655}  \n",
       "15   {0.0: 0.1003, 1.0: 0.0903, 2.0: 0.0889, 3.0: 0.0826, 4.0: 0.0812, 5.0: 0.0832, 6.0: 0.078, 7.0: 0.0777, 8.0: 0.0759, 9.0: 0.0615}  \n",
       "16    {0.0: 0.1098, 1.0: 0.0994, 2.0: 0.0955, 3.0: 0.0856, 4.0: 0.0812, 5.0: 0.0727, 6.0: 0.069, 7.0: 0.0665, 8.0: 0.0716, 9.0: 0.068}  \n",
       "17  {0.0: 0.1038, 1.0: 0.1029, 2.0: 0.0983, 3.0: 0.0908, 4.0: 0.0769, 5.0: 0.0784, 6.0: 0.0709, 7.0: 0.0699, 8.0: 0.0667, 9.0: 0.0607}  \n",
       "18  {0.0: 0.0899, 1.0: 0.0891, 2.0: 0.0848, 3.0: 0.0789, 4.0: 0.0695, 5.0: 0.0679, 6.0: 0.0699, 7.0: 0.0778, 8.0: 0.0868, 9.0: 0.1046}  \n",
       "19   {0.0: 0.0693, 1.0: 0.0681, 2.0: 0.064, 3.0: 0.0682, 4.0: 0.0745, 5.0: 0.0847, 6.0: 0.0917, 7.0: 0.1002, 8.0: 0.0963, 9.0: 0.1016}  \n",
       "20   {0.0: 0.1109, 1.0: 0.098, 2.0: 0.0863, 3.0: 0.0801, 4.0: 0.0782, 5.0: 0.0755, 6.0: 0.0741, 7.0: 0.0761, 8.0: 0.0702, 9.0: 0.0693}  "
      ]
     },
     "metadata": {},
     "output_type": "display_data"
    },
    {
     "name": "stdout",
     "output_type": "stream",
     "text": [
      "\n",
      "=== Categorical EDA (Top SHAP Features) ===\n"
     ]
    },
    {
     "data": {
      "text/html": [
       "<div>\n",
       "<style scoped>\n",
       "    .dataframe tbody tr th:only-of-type {\n",
       "        vertical-align: middle;\n",
       "    }\n",
       "\n",
       "    .dataframe tbody tr th {\n",
       "        vertical-align: top;\n",
       "    }\n",
       "\n",
       "    .dataframe thead th {\n",
       "        text-align: right;\n",
       "    }\n",
       "</style>\n",
       "<table border=\"1\" class=\"dataframe\">\n",
       "  <thead>\n",
       "    <tr style=\"text-align: right;\">\n",
       "      <th></th>\n",
       "      <th>feature</th>\n",
       "      <th>missing_%</th>\n",
       "      <th>top_5_levels</th>\n",
       "      <th>default_rate_by_level</th>\n",
       "    </tr>\n",
       "  </thead>\n",
       "  <tbody>\n",
       "    <tr>\n",
       "      <th>0</th>\n",
       "      <td>CODE_GENDER</td>\n",
       "      <td>0.0</td>\n",
       "      <td>{'F': 202448, 'M': 105059, 'XNA': 4}</td>\n",
       "      <td>{'F': 0.07, 'M': 0.1014, 'XNA': 0.0}</td>\n",
       "    </tr>\n",
       "    <tr>\n",
       "      <th>1</th>\n",
       "      <td>NAME_EDUCATION_TYPE</td>\n",
       "      <td>0.0</td>\n",
       "      <td>{'Secondary / secondary special': 218391, 'Higher education': 74863, 'Incomplete higher': 10277, 'Lower secondary': 3816, 'Academic degree': 164}</td>\n",
       "      <td>{'Academic degree': 0.0183, 'Higher education': 0.0536, 'Incomplete higher': 0.0848, 'Lower secondary': 0.1093, 'Secondary / secondary special': 0.0894}</td>\n",
       "    </tr>\n",
       "    <tr>\n",
       "      <th>2</th>\n",
       "      <td>DAYS_BIRTH</td>\n",
       "      <td>0.0</td>\n",
       "      <td>{-13749: 43, -13481: 42, -18248: 41, -10020: 41, -15771: 40}</td>\n",
       "      <td>{-25229: 0.0, -25201: 0.0, -25200: 0.0, -25197: 0.0, -25196: 0.0, -25195: 0.0, -25192: 0.0, -25191: 0.0, -25187: 0.0, -25186: 0.0, -25184: 0.0, -25182: 0.0, -25180: 0.0, -25179: 0.0, -25177: 0.0, -25176: 0.0, -25175: 0.0, -25173: 0.0, -25170: 0.0, -25169: 0.0, -25168: 0.3333, -25167: 0.0, -25166: 0.0, -25165: 0.0, -25164: 0.0, -25163: 0.0, -25162: 0.0, -25161: 0.0, -25160: 0.0, -25159: 0.0, -25156: 0.0, -25155: 0.0, -25153: 0.0, -25152: 0.0, -25151: 0.0, -25150: 0.0, -25149: 0.0, -25148: 0.0, -25147: 0.0, -25144: 0.0, -25143: 0.0, -25142: 1.0, -25140: 0.0, -25139: 0.0, -25136: 0.0, -25135: 0.0, -25133: 0.0, -25132: 0.0, -25131: 0.0, -25130: 0.0, -25128: 0.0, -25127: 0.0, -25126: 0.0, -25123: 0.0, -25122: 0.0, -25121: 0.0, -25120: 0.0, -25118: 0.0, -25117: 0.0, -25116: 0.0, -25115: 0.0, -25114: 0.0, -25113: 0.3333, -25112: 0.0, -25111: 0.0, -25110: 0.0, -25109: 0.3333, -25108: 0.0, -25106: 0.0, -25105: 0.0, -25104: 0.0, -25102: 0.0, -25101: 0.6667, -25100: 0.0, -25099: 0.0, -25098: 0.0, -25097: 0.0, -25095: 0.0, -25094: 0.0, -25093: 0.0, -25091: 0.0, -25090: 0.0, -25089: 0.3333, -25088: 0.0, -25087: 0.0, -25085: 0.0, -25084: 0.0, -25083: 0.0, -25082: 0.0, -25081: 0.0, -25080: 0.0, -25079: 0.0, -25078: 0.0, -25077: 0.0, -25076: 0.0, -25075: 0.0, -25074: 0.3333, -25073: 0.0, -25071: 0.0, -25070: 0.0, ...}</td>\n",
       "    </tr>\n",
       "    <tr>\n",
       "      <th>3</th>\n",
       "      <td>DAYS_EMPLOYED</td>\n",
       "      <td>0.0</td>\n",
       "      <td>{365243: 55374, -200: 156, -224: 152, -199: 151, -230: 151}</td>\n",
       "      <td>{-17912: 0.0, -17583: 0.0, -17546: 0.0, -17531: 0.0, -17522: 0.0, -17170: 0.0, -17139: 0.0, -16852: 0.0, -16849: 0.0, -16836: 0.0, -16767: 0.0, -16678: 0.0, -16651: 0.0, -16632: 0.0, -16607: 0.0, -16554: 0.0, -16538: 0.0, -16499: 0.0, -16495: 0.0, -16492: 0.0, -16481: 0.0, -16452: 0.0, -16429: 0.0, -16424: 0.0, -16375: 0.0, -16365: 0.0, -16364: 0.0, -16360: 0.0, -16358: 0.0, -16352: 0.0, -16348: 0.0, -16343: 0.0, -16314: 0.0, -16310: 0.0, -16308: 0.0, -16304: 0.0, -16266: 0.0, -16265: 0.0, -16263: 0.0, -16260: 0.0, -16236: 0.0, -16221: 0.0, -16220: 0.0, -16169: 0.0, -16160: 0.0, -16142: 0.0, -16135: 0.0, -16133: 0.0, -16121: 0.0, -16113: 0.0, -16103: 0.0, -16093: 0.0, -16069: 1.0, -16061: 0.0, -16037: 0.0, -16032: 0.0, -15943: 0.0, -15911: 0.0, -15890: 0.0, -15882: 0.0, -15871: 0.0, -15860: 0.0, -15845: 0.0, -15837: 0.0, -15834: 0.0, -15791: 0.0, -15783: 0.0, -15729: 0.0, -15727: 0.0, -15726: 0.0, -15713: 0.0, -15699: 0.0, -15691: 0.0, -15689: 0.0, -15688: 0.0, -15687: 0.0, -15676: 0.0, -15661: 0.0, -15632: 0.0, -15629: 0.0, -15625: 0.0, -15578: 0.0, -15569: 0.0, -15568: 0.0, -15543: 0.0, -15542: 0.0, -15530: 0.0, -15524: 0.0, -15516: 0.0, -15509: 0.0, -15499: 0.0, -15488: 0.0, -15477: 0.0, -15476: 0.0, -15474: 0.0, -15473: 0.0, -15439: 0.0, -15431: 0.0, -15427: 0.0, -15422: 0.0, ...}</td>\n",
       "    </tr>\n",
       "    <tr>\n",
       "      <th>4</th>\n",
       "      <td>NAME_FAMILY_STATUS</td>\n",
       "      <td>0.0</td>\n",
       "      <td>{'Married': 196432, 'Single / not married': 45444, 'Civil marriage': 29775, 'Separated': 19770, 'Widow': 16088}</td>\n",
       "      <td>{'Civil marriage': 0.0994, 'Married': 0.0756, 'Separated': 0.0819, 'Single / not married': 0.0981, 'Unknown': 0.0, 'Widow': 0.0582}</td>\n",
       "    </tr>\n",
       "    <tr>\n",
       "      <th>5</th>\n",
       "      <td>FLAG_DOCUMENT_3</td>\n",
       "      <td>0.0</td>\n",
       "      <td>{1: 218340, 0: 89171}</td>\n",
       "      <td>{0: 0.0618, 1: 0.0884}</td>\n",
       "    </tr>\n",
       "    <tr>\n",
       "      <th>6</th>\n",
       "      <td>DAYS_ID_PUBLISH</td>\n",
       "      <td>0.0</td>\n",
       "      <td>{-4053: 169, -4095: 162, -4046: 161, -4417: 159, -4256: 158}</td>\n",
       "      <td>{-7197: 0.0, -6551: 0.0, -6383: 0.0, -6337: 0.0, -6274: 0.0, -6265: 0.0, -6263: 0.0, -6259: 0.0, -6258: 0.0, -6256: 0.0, -6255: 0.0, -6247: 0.0, -6235: 0.0, -6233: 0.0, -6232: 0.0, -6229: 0.0, -6228: 0.0, -6227: 0.0, -6226: 0.0, -6223: 0.0, -6220: 0.0, -6219: 0.0, -6216: 0.0, -6214: 0.0, -6212: 0.0, -6211: 0.0, -6209: 0.0, -6208: 0.0, -6207: 0.3333, -6206: 0.0, -6203: 1.0, -6201: 0.0, -6199: 0.0, -6197: 0.0, -6196: 0.0, -6195: 0.0, -6194: 0.0, -6189: 1.0, -6187: 0.0, -6184: 0.0, -6183: 0.0, -6179: 0.0, -6176: 0.0, -6175: 0.0, -6166: 0.0, -6165: 0.0, -6164: 0.0, -6163: 0.0, -6162: 0.0, -6160: 0.0, -6157: 0.0, -6156: 0.0, -6155: 0.0, -6154: 0.0, -6153: 0.0, -6152: 0.0, -6151: 0.0, -6150: 0.0, -6148: 0.0, -6146: 0.0, -6145: 0.0, -6144: 0.0, -6141: 0.0, -6140: 0.0, -6139: 0.0, -6138: 0.0, -6136: 0.0, -6135: 0.0, -6133: 0.0, -6131: 0.0, -6129: 0.0, -6128: 0.0, -6126: 0.0, -6125: 0.0, -6124: 0.0, -6121: 0.0, -6118: 0.0, -6117: 0.0, -6116: 0.0, -6115: 0.0, -6112: 0.0, -6111: 0.0, -6109: 0.3333, -6108: 0.0, -6107: 0.0, -6106: 0.0, -6105: 0.0, -6104: 0.0, -6103: 0.0, -6101: 0.0, -6100: 0.0, -6099: 0.0, -6097: 0.0, -6096: 0.3333, -6095: 0.3333, -6094: 0.0, -6093: 0.0, -6092: 0.0, -6090: 0.0, -6089: 0.0, ...}</td>\n",
       "    </tr>\n",
       "    <tr>\n",
       "      <th>7</th>\n",
       "      <td>NAME_INCOME_TYPE</td>\n",
       "      <td>0.0</td>\n",
       "      <td>{'Working': 158774, 'Commercial associate': 71617, 'Pensioner': 55362, 'State servant': 21703, 'Unemployed': 22}</td>\n",
       "      <td>{'Businessman': 0.0, 'Commercial associate': 0.0748, 'Maternity leave': 0.4, 'Pensioner': 0.0539, 'State servant': 0.0575, 'Student': 0.0, 'Unemployed': 0.3636, 'Working': 0.0959}</td>\n",
       "    </tr>\n",
       "    <tr>\n",
       "      <th>8</th>\n",
       "      <td>REGION_RATING_CLIENT_W_CITY</td>\n",
       "      <td>0.0</td>\n",
       "      <td>{2: 229484, 3: 43860, 1: 34167}</td>\n",
       "      <td>{1: 0.0484, 2: 0.0792, 3: 0.114}</td>\n",
       "    </tr>\n",
       "  </tbody>\n",
       "</table>\n",
       "</div>"
      ],
      "text/plain": [
       "                       feature  missing_%                                                                                                                                       top_5_levels  \\\n",
       "0                  CODE_GENDER        0.0                                                                                                               {'F': 202448, 'M': 105059, 'XNA': 4}   \n",
       "1          NAME_EDUCATION_TYPE        0.0  {'Secondary / secondary special': 218391, 'Higher education': 74863, 'Incomplete higher': 10277, 'Lower secondary': 3816, 'Academic degree': 164}   \n",
       "2                   DAYS_BIRTH        0.0                                                                                       {-13749: 43, -13481: 42, -18248: 41, -10020: 41, -15771: 40}   \n",
       "3                DAYS_EMPLOYED        0.0                                                                                        {365243: 55374, -200: 156, -224: 152, -199: 151, -230: 151}   \n",
       "4           NAME_FAMILY_STATUS        0.0                                    {'Married': 196432, 'Single / not married': 45444, 'Civil marriage': 29775, 'Separated': 19770, 'Widow': 16088}   \n",
       "5              FLAG_DOCUMENT_3        0.0                                                                                                                              {1: 218340, 0: 89171}   \n",
       "6              DAYS_ID_PUBLISH        0.0                                                                                       {-4053: 169, -4095: 162, -4046: 161, -4417: 159, -4256: 158}   \n",
       "7             NAME_INCOME_TYPE        0.0                                   {'Working': 158774, 'Commercial associate': 71617, 'Pensioner': 55362, 'State servant': 21703, 'Unemployed': 22}   \n",
       "8  REGION_RATING_CLIENT_W_CITY        0.0                                                                                                                    {2: 229484, 3: 43860, 1: 34167}   \n",
       "\n",
       "                                                                                                                                                                                                                                                                                                                                                                                                                                                                                                                                                                                                                                                                                                                                                                                                                                                                                                                                                                                                                                                                                                                                                                                                                                                                                                                                                         default_rate_by_level  \n",
       "0                                                                                                                                                                                                                                                                                                                                                                                                                                                                                                                                                                                                                                                                                                                                                                                                                                                                                                                                                                                                                                                                                                                                                                                                                                                                                                                                         {'F': 0.07, 'M': 0.1014, 'XNA': 0.0}  \n",
       "1                                                                                                                                                                                                                                                                                                                                                                                                                                                                                                                                                                                                                                                                                                                                                                                                                                                                                                                                                                                                                                                                                                                                                                                                                     {'Academic degree': 0.0183, 'Higher education': 0.0536, 'Incomplete higher': 0.0848, 'Lower secondary': 0.1093, 'Secondary / secondary special': 0.0894}  \n",
       "2  {-25229: 0.0, -25201: 0.0, -25200: 0.0, -25197: 0.0, -25196: 0.0, -25195: 0.0, -25192: 0.0, -25191: 0.0, -25187: 0.0, -25186: 0.0, -25184: 0.0, -25182: 0.0, -25180: 0.0, -25179: 0.0, -25177: 0.0, -25176: 0.0, -25175: 0.0, -25173: 0.0, -25170: 0.0, -25169: 0.0, -25168: 0.3333, -25167: 0.0, -25166: 0.0, -25165: 0.0, -25164: 0.0, -25163: 0.0, -25162: 0.0, -25161: 0.0, -25160: 0.0, -25159: 0.0, -25156: 0.0, -25155: 0.0, -25153: 0.0, -25152: 0.0, -25151: 0.0, -25150: 0.0, -25149: 0.0, -25148: 0.0, -25147: 0.0, -25144: 0.0, -25143: 0.0, -25142: 1.0, -25140: 0.0, -25139: 0.0, -25136: 0.0, -25135: 0.0, -25133: 0.0, -25132: 0.0, -25131: 0.0, -25130: 0.0, -25128: 0.0, -25127: 0.0, -25126: 0.0, -25123: 0.0, -25122: 0.0, -25121: 0.0, -25120: 0.0, -25118: 0.0, -25117: 0.0, -25116: 0.0, -25115: 0.0, -25114: 0.0, -25113: 0.3333, -25112: 0.0, -25111: 0.0, -25110: 0.0, -25109: 0.3333, -25108: 0.0, -25106: 0.0, -25105: 0.0, -25104: 0.0, -25102: 0.0, -25101: 0.6667, -25100: 0.0, -25099: 0.0, -25098: 0.0, -25097: 0.0, -25095: 0.0, -25094: 0.0, -25093: 0.0, -25091: 0.0, -25090: 0.0, -25089: 0.3333, -25088: 0.0, -25087: 0.0, -25085: 0.0, -25084: 0.0, -25083: 0.0, -25082: 0.0, -25081: 0.0, -25080: 0.0, -25079: 0.0, -25078: 0.0, -25077: 0.0, -25076: 0.0, -25075: 0.0, -25074: 0.3333, -25073: 0.0, -25071: 0.0, -25070: 0.0, ...}  \n",
       "3                    {-17912: 0.0, -17583: 0.0, -17546: 0.0, -17531: 0.0, -17522: 0.0, -17170: 0.0, -17139: 0.0, -16852: 0.0, -16849: 0.0, -16836: 0.0, -16767: 0.0, -16678: 0.0, -16651: 0.0, -16632: 0.0, -16607: 0.0, -16554: 0.0, -16538: 0.0, -16499: 0.0, -16495: 0.0, -16492: 0.0, -16481: 0.0, -16452: 0.0, -16429: 0.0, -16424: 0.0, -16375: 0.0, -16365: 0.0, -16364: 0.0, -16360: 0.0, -16358: 0.0, -16352: 0.0, -16348: 0.0, -16343: 0.0, -16314: 0.0, -16310: 0.0, -16308: 0.0, -16304: 0.0, -16266: 0.0, -16265: 0.0, -16263: 0.0, -16260: 0.0, -16236: 0.0, -16221: 0.0, -16220: 0.0, -16169: 0.0, -16160: 0.0, -16142: 0.0, -16135: 0.0, -16133: 0.0, -16121: 0.0, -16113: 0.0, -16103: 0.0, -16093: 0.0, -16069: 1.0, -16061: 0.0, -16037: 0.0, -16032: 0.0, -15943: 0.0, -15911: 0.0, -15890: 0.0, -15882: 0.0, -15871: 0.0, -15860: 0.0, -15845: 0.0, -15837: 0.0, -15834: 0.0, -15791: 0.0, -15783: 0.0, -15729: 0.0, -15727: 0.0, -15726: 0.0, -15713: 0.0, -15699: 0.0, -15691: 0.0, -15689: 0.0, -15688: 0.0, -15687: 0.0, -15676: 0.0, -15661: 0.0, -15632: 0.0, -15629: 0.0, -15625: 0.0, -15578: 0.0, -15569: 0.0, -15568: 0.0, -15543: 0.0, -15542: 0.0, -15530: 0.0, -15524: 0.0, -15516: 0.0, -15509: 0.0, -15499: 0.0, -15488: 0.0, -15477: 0.0, -15476: 0.0, -15474: 0.0, -15473: 0.0, -15439: 0.0, -15431: 0.0, -15427: 0.0, -15422: 0.0, ...}  \n",
       "4                                                                                                                                                                                                                                                                                                                                                                                                                                                                                                                                                                                                                                                                                                                                                                                                                                                                                                                                                                                                                                                                                                                                                                                                                                          {'Civil marriage': 0.0994, 'Married': 0.0756, 'Separated': 0.0819, 'Single / not married': 0.0981, 'Unknown': 0.0, 'Widow': 0.0582}  \n",
       "5                                                                                                                                                                                                                                                                                                                                                                                                                                                                                                                                                                                                                                                                                                                                                                                                                                                                                                                                                                                                                                                                                                                                                                                                                                                                                                                                                       {0: 0.0618, 1: 0.0884}  \n",
       "6                                                                                                            {-7197: 0.0, -6551: 0.0, -6383: 0.0, -6337: 0.0, -6274: 0.0, -6265: 0.0, -6263: 0.0, -6259: 0.0, -6258: 0.0, -6256: 0.0, -6255: 0.0, -6247: 0.0, -6235: 0.0, -6233: 0.0, -6232: 0.0, -6229: 0.0, -6228: 0.0, -6227: 0.0, -6226: 0.0, -6223: 0.0, -6220: 0.0, -6219: 0.0, -6216: 0.0, -6214: 0.0, -6212: 0.0, -6211: 0.0, -6209: 0.0, -6208: 0.0, -6207: 0.3333, -6206: 0.0, -6203: 1.0, -6201: 0.0, -6199: 0.0, -6197: 0.0, -6196: 0.0, -6195: 0.0, -6194: 0.0, -6189: 1.0, -6187: 0.0, -6184: 0.0, -6183: 0.0, -6179: 0.0, -6176: 0.0, -6175: 0.0, -6166: 0.0, -6165: 0.0, -6164: 0.0, -6163: 0.0, -6162: 0.0, -6160: 0.0, -6157: 0.0, -6156: 0.0, -6155: 0.0, -6154: 0.0, -6153: 0.0, -6152: 0.0, -6151: 0.0, -6150: 0.0, -6148: 0.0, -6146: 0.0, -6145: 0.0, -6144: 0.0, -6141: 0.0, -6140: 0.0, -6139: 0.0, -6138: 0.0, -6136: 0.0, -6135: 0.0, -6133: 0.0, -6131: 0.0, -6129: 0.0, -6128: 0.0, -6126: 0.0, -6125: 0.0, -6124: 0.0, -6121: 0.0, -6118: 0.0, -6117: 0.0, -6116: 0.0, -6115: 0.0, -6112: 0.0, -6111: 0.0, -6109: 0.3333, -6108: 0.0, -6107: 0.0, -6106: 0.0, -6105: 0.0, -6104: 0.0, -6103: 0.0, -6101: 0.0, -6100: 0.0, -6099: 0.0, -6097: 0.0, -6096: 0.3333, -6095: 0.3333, -6094: 0.0, -6093: 0.0, -6092: 0.0, -6090: 0.0, -6089: 0.0, ...}  \n",
       "7                                                                                                                                                                                                                                                                                                                                                                                                                                                                                                                                                                                                                                                                                                                                                                                                                                                                                                                                                                                                                                                                                                                                                                                          {'Businessman': 0.0, 'Commercial associate': 0.0748, 'Maternity leave': 0.4, 'Pensioner': 0.0539, 'State servant': 0.0575, 'Student': 0.0, 'Unemployed': 0.3636, 'Working': 0.0959}  \n",
       "8                                                                                                                                                                                                                                                                                                                                                                                                                                                                                                                                                                                                                                                                                                                                                                                                                                                                                                                                                                                                                                                                                                                                                                                                                                                                                                                                             {1: 0.0484, 2: 0.0792, 3: 0.114}  "
      ]
     },
     "metadata": {},
     "output_type": "display_data"
    }
   ],
   "source": [
    "# 4) Display\n",
    "print(\"=== Numeric EDA (Top SHAP Features) ===\")\n",
    "display(numeric_eda_df)\n",
    "\n",
    "print(\"\\n=== Categorical EDA (Top SHAP Features) ===\")\n",
    "display(categorical_eda_df)"
   ]
  },
  {
   "cell_type": "markdown",
   "metadata": {},
   "source": [
    "## Deep EDA dive in"
   ]
  },
  {
   "cell_type": "code",
   "execution_count": 100,
   "metadata": {
    "execution": {
     "iopub.execute_input": "2025-05-20T13:02:31.489833Z",
     "iopub.status.busy": "2025-05-20T13:02:31.489281Z",
     "iopub.status.idle": "2025-05-20T13:02:34.509550Z",
     "shell.execute_reply": "2025-05-20T13:02:34.508705Z",
     "shell.execute_reply.started": "2025-05-20T13:02:31.489802Z"
    },
    "trusted": true
   },
   "outputs": [
    {
     "name": "stderr",
     "output_type": "stream",
     "text": [
      "invalid value encountered in less\n"
     ]
    },
    {
     "data": {
      "image/png": "[encoded data removed]",
      "text/plain": [
       "<Figure size 1200x1000 with 2 Axes>"
      ]
     },
     "metadata": {},
     "output_type": "display_data"
    },
    {
     "name": "stdout",
     "output_type": "stream",
     "text": [
      "Explained variance by PC: [0.75088731 0.20524952 0.02520621 0.00849937 0.00495956]\n"
     ]
    },
    {
     "name": "stderr",
     "output_type": "stream",
     "text": [
      "The default value of `n_init` will change from 10 to 'auto' in 1.4. Set the value of `n_init` explicitly to suppress the warning\n"
     ]
    },
    {
     "name": "stdout",
     "output_type": "stream",
     "text": [
      "cluster\n",
      "0    0.0886\n",
      "1    0.0515\n",
      "2    0.0764\n",
      "3    0.0000\n",
      "Name: TARGET, dtype: float64\n"
     ]
    }
   ],
   "source": [
    "import pandas as pd\n",
    "import matplotlib.pyplot as plt\n",
    "import seaborn as sns\n",
    "from sklearn.decomposition import PCA\n",
    "from sklearn.cluster import KMeans\n",
    "\n",
    "# assume pdf is your sampled Pandas DataFrame of top_shap_feats + TARGET\n",
    "\n",
    "# 1a) Correlation heatmap\n",
    "corr = pdf[numeric_feats].corr()\n",
    "plt.figure(figsize=(12,10))\n",
    "sns.heatmap(corr, cmap=\"vlag\", center=0, annot=False)\n",
    "plt.title(\"Feature Correlation Matrix\")\n",
    "plt.show()\n",
    "\n",
    "# 1b) PCA for dimensionality reduction\n",
    "pca = PCA(n_components=5)\n",
    "pcs = pca.fit_transform(pdf[numeric_feats].fillna(0))\n",
    "print(\"Explained variance by PC:\", pca.explained_variance_ratio_)\n",
    "\n",
    "# 1c) K-Means clustering on PCs\n",
    "kmeans = KMeans(n_clusters=4, random_state=0).fit(pcs)\n",
    "pdf[\"cluster\"] = kmeans.labels_\n",
    "\n",
    "# 1d) Cluster vs. default rate\n",
    "print(pdf.groupby(\"cluster\")[TARGET_COL].mean())\n"
   ]
  },
  {
   "cell_type": "markdown",
   "metadata": {},
   "source": [
    "## Feature Correlation Matrix Summary\n",
    "\n",
    "The heatmap above visualizes the **pairwise Pearson correlation coefficients** between selected numeric features in the dataset. Key takeaways include:\n",
    "\n",
    "### Strong Positive Correlations\n",
    "- **EXT_SOURCE_2 and EXT_SOURCE_3**: Highly positively correlated, suggesting redundancy between these two external scores.\n",
    "- **AMT_CREDIT and AMT_GOODS_PRICE**: Strong correlation, as expected since the credit amount is often tied to the goods being purchased.\n",
    "- **inst_pay_ratio_mean and inst_amt_paid_mean**: Moderate to strong correlation, indicating that higher payment ratios are often associated with higher payment amounts.\n",
    "\n",
    "### Low or No Correlation\n",
    "- Many features show low or near-zero correlation, indicating they contribute distinct information (e.g., `EXT_SOURCE_2` vs. `prev_downpay_ratio`).\n",
    "\n",
    "### Negative Correlations\n",
    "- A few weak negative correlations are visible (e.g., `prev_status_refused` and `prev_downpay_ratio`), but no strong inverse relationships are dominant.\n",
    "\n",
    "### Implications\n",
    "- **Redundant features** (highly correlated pairs) may be candidates for dimensionality reduction or feature selection to avoid multicollinearity.\n",
    "- **Diverse feature set**: The generally low correlations between most features support the inclusion of many variables in modeling without major overlap in signal.\n",
    "\n",
    "---\n",
    "\n",
    "The correlation matrix is a useful tool for **feature engineering**, **data cleaning**, and **model interpretation**.\n"
   ]
  },
  {
   "cell_type": "code",
   "execution_count": 101,
   "metadata": {
    "execution": {
     "iopub.execute_input": "2025-05-20T13:02:41.163078Z",
     "iopub.status.busy": "2025-05-20T13:02:41.162734Z",
     "iopub.status.idle": "2025-05-20T13:02:41.469325Z",
     "shell.execute_reply": "2025-05-20T13:02:41.468086Z",
     "shell.execute_reply.started": "2025-05-20T13:02:41.163053Z"
    },
    "trusted": true
   },
   "outputs": [
    {
     "name": "stdout",
     "output_type": "stream",
     "text": [
      "EXT_SOURCE_2: 0 outliers (0.00%)\n",
      "EXT_SOURCE_3: 0 outliers (0.00%)\n",
      "AMT_GOODS_PRICE: 4173 outliers (1.36%)\n",
      "AMT_CREDIT: 3255 outliers (1.06%)\n",
      "inst_late_rate: 6509 outliers (2.12%)\n",
      "prev_status_refused: 5530 outliers (1.80%)\n",
      "mean_debt_ratio: 168 outliers (0.05%)\n",
      "inst_pay_ratio_mean: 152 outliers (0.05%)\n",
      "prev_amt_down_pay_mean: 2597 outliers (0.84%)\n",
      "prev_days_first_draw_mean: 8980 outliers (2.92%)\n",
      "AMT_ANNUITY: 2959 outliers (0.96%)\n",
      "mean_credit_age: 2704 outliers (0.88%)\n",
      "max_overdue: 130 outliers (0.04%)\n",
      "prev_downpay_ratio: 6546 outliers (2.13%)\n",
      "pos_status_active: 5740 outliers (1.87%)\n",
      "prev_annuity_mean: 5209 outliers (1.69%)\n",
      "prev_days_first_due_mean: 6758 outliers (2.20%)\n",
      "prev_days_decision_max: 0 outliers (0.00%)\n",
      "prev_days_last_due1_mean: 2775 outliers (0.90%)\n",
      "inst_days_late_max: 3039 outliers (0.99%)\n",
      "inst_amt_paid_mean: 4300 outliers (1.40%)\n"
     ]
    }
   ],
   "source": [
    "import scipy.stats as st\n",
    "\n",
    "for f in numeric_feats:\n",
    "    z = np.abs(st.zscore(pdf[f].fillna(pdf[f].median())))\n",
    "    outliers = (z > 3).sum()\n",
    "    pct = outliers / len(pdf) * 100\n",
    "    print(f\"{f}: {outliers} outliers ({pct:.2f}%)\")\n"
   ]
  },
  {
   "cell_type": "code",
   "execution_count": null,
   "metadata": {
    "execution": {
     "iopub.execute_input": "2025-05-20T13:27:37.734354Z",
     "iopub.status.busy": "2025-05-20T13:27:37.733985Z",
     "iopub.status.idle": "2025-05-20T13:27:46.953475Z",
     "shell.execute_reply": "2025-05-20T13:27:46.952667Z",
     "shell.execute_reply.started": "2025-05-20T13:27:37.734333Z"
    },
    "trusted": true
   },
   "outputs": [],
   "source": [
    "pdf.to_csv('pdf.csv') # Export the dataframe to csv to continue working in other notebook"
   ]
  },
  {
   "cell_type": "markdown",
   "metadata": {},
   "source": [
    "# Outcome of EDA and Feature Reduction"
   ]
  },
  {
   "cell_type": "markdown",
   "metadata": {},
   "source": [
    "## application_train"
   ]
  },
  {
   "cell_type": "markdown",
   "metadata": {},
   "source": [
    "## Dataset Overview\n",
    "\n",
    "- **Rows:** 307 511  \n",
    "- **Columns:** 122  \n",
    "- **Numeric features:** 106  \n",
    "- **Categorical features:** 16  \n",
    "- **Total missing values:** 764 371 (≈ 2.0% of all cells)  \n",
    "- **Duplicate rows:** 0  \n",
    "\n",
    "---\n",
    "\n",
    "## Significant & Interesting Insights\n",
    "\n",
    "### 1. Imbalanced Target  \n",
    "- Only **5.7%** of clients default (`TARGET = 1`), indicating a heavily skewed target distribution.\n",
    "\n",
    "### 2. High-Missing-Rate Features  \n",
    "Several categorical fields have very high missing rates and will require special handling:  \n",
    "- **FONDKAPREMONT_MODE:** 68.4% missing  \n",
    "- **HOUSETYPE_MODE:** 50.2% missing  \n",
    "- **WALLSMATERIAL_MODE:** 50.8% missing  \n",
    "- **EMERGENCYSTATE_MODE:** 47.4% missing  \n",
    "- **OCCUPATION_TYPE:** 31.3% missing  \n",
    "\n",
    "### 3. Extremely Skewed Variables  \n",
    "Some features show extreme skewness, which may benefit from log or rank transforms:  \n",
    "- **AMT_INCOME_TOTAL** (skew ≈ 392)  \n",
    "- **FLAG_MOBIL**, **FLAG_CONT_MOBILE**, and several `FLAG_DOCUMENT_*` indicators  \n",
    "\n",
    "### 4. Strong Feature Correlations  \n",
    "Pairs/groups of variables that nearly duplicate each other:  \n",
    "- **CNT_CHILDREN** ↔ **CNT_FAM_MEMBERS**  \n",
    "- **OBS_30_CNT_SOCIAL_CIRCLE** ↔ **OBS_60_CNT_SOCIAL_CIRCLE**  \n",
    "- **DEF_30_CNT_SOCIAL_CIRCLE** ↔ **DEF_60_CNT_SOCIAL_CIRCLE**  \n",
    "- **AMT_CREDIT** ↔ **AMT_ANNUITY**, **AMT_GOODS_PRICE**  \n",
    "- Certain `FLAG_DOCUMENT` pairs (e.g. `FLAG_DOCUMENT_3` ↔ `FLAG_DOCUMENT_8`)  \n",
    "\n",
    "> **Action:** Consider combining or dropping one of each correlated pair to reduce multicollinearity.\n",
    "\n",
    "### 5. High-Cardinality Categorical  \n",
    "- **ORGANIZATION_TYPE**: 58 distinct categories  \n",
    "  > **Tip:** Group rare types or use target/impact encoding.\n",
    "\n",
    "---\n",
    " \n"
   ]
  },
  {
   "cell_type": "markdown",
   "metadata": {},
   "source": [
    "## Enriched Dataset (After Cut down features)"
   ]
  },
  {
   "cell_type": "markdown",
   "metadata": {},
   "source": [
    "# EDA Summary Report\n",
    "\n",
    "## Dataset Overview\n",
    "\n",
    "- **Total Variables**: 31 (30 features + `TARGET`)\n",
    "- **Target Variable**: `TARGET` (binary: `0` = non-default, `1` = default)\n",
    "- **Feature Types**: Mostly numeric, with some binary/categorical indicators\n",
    "- **Missing Values**: Found in key predictors like `EXT_SOURCE_1`, `EXT_SOURCE_2`, `EXT_SOURCE_3`\n",
    "- **Duplicates**: None detected\n",
    "- **Memory Footprint**: Moderate (tens of megabytes)\n",
    "\n",
    "---\n",
    "\n",
    "## Key Business Insights\n",
    "\n",
    "### 1. External Credit Scores Are Strong Predictors of Default\n",
    "- **Insight**: `EXT_SOURCE_1`, `EXT_SOURCE_2`, and `EXT_SOURCE_3` are highly correlated with credit default.\n",
    "- **Impact**: These should be primary inputs for credit risk models. Missing values in these columns indicate elevated risk and may require fallback strategies such as manual review or conservative scoring.\n",
    "\n",
    "---\n",
    "\n",
    "### 2. Missing Data Is Informative\n",
    "- **Insight**: Records with missing `EXT_SOURCE_2` values are more likely to default.\n",
    "- **Impact**: Missingness is not random—flag such applications. This can be used to create a \"data sufficiency\" score or trigger enhanced due diligence procedures.\n",
    "\n",
    "---\n",
    "\n",
    "### 3. Document Submission Flags Reveal Transparency\n",
    "- **Insight**: Features like `FLAG_DOCUMENT_3`, `FLAG_DOCUMENT_6` show differences in default rates between groups.\n",
    "- **Impact**: These features can indicate applicant thoroughness or transparency. Lack of certain documents may be linked to increased credit risk.\n",
    "\n",
    "---\n",
    "\n",
    "### 4. Employment and Income Are Secondary Risk Indicators\n",
    "- **Insight**: Features like `DAYS_EMPLOYED`, `AMT_INCOME_TOTAL`, and `AMT_CREDIT` have weaker but still observable differences between defaulters and non-defaulters.\n",
    "- **Impact**: These features are useful for refining applicant profiles, determining credit line size, or setting interest rate tiers, though they should be weighted less heavily than external credit scores.\n",
    "\n",
    "---\n",
    "\n",
    "### 5. Interaction Effects Add Predictive Power\n",
    "- **Insight**: Nonlinear interactions between features (e.g., long employment duration combined with low credit score) help identify nuanced risk profiles.\n",
    "- **Impact**: Using models that capture interactions (such as Explainable Boosting Machine or gradient-boosted trees) can improve prediction accuracy and support regulatory explainability.\n",
    "\n",
    "---\n"
   ]
  }
 ],
 "metadata": {
  "kaggle": {
   "accelerator": "none",
   "dataSources": [
    {
     "databundleVersionId": 860599,
     "sourceId": 9120,
     "sourceType": "competition"
    },
    {
     "datasetId": 7468129,
     "sourceId": 11882582,
     "sourceType": "datasetVersion"
    }
   ],
   "dockerImageVersionId": 31040,
   "isGpuEnabled": false,
   "isInternetEnabled": false,
   "language": "python",
   "sourceType": "notebook"
  },
  "kernelspec": {
   "display_name": "Python 3",
   "language": "python",
   "name": "python3"
  },
  "language_info": {
   "codemirror_mode": {
    "name": "ipython",
    "version": 3
   },
   "file_extension": ".py",
   "mimetype": "text/x-python",
   "name": "python",
   "nbconvert_exporter": "python",
   "pygments_lexer": "ipython3",
   "version": "3.11.11"
  }
 },
 "nbformat": 4,
 "nbformat_minor": 4
}
